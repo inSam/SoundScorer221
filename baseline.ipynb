{
 "cells": [
  {
   "cell_type": "code",
   "execution_count": 13,
   "metadata": {},
   "outputs": [],
   "source": [
    "import numpy as np\n",
    "import pandas as pd\n",
    "\n",
    "from sklearn.linear_model import LinearRegression\n",
    "from sklearn.model_selection import train_test_split\n",
    "from sklearn.metrics import accuracy_score\n",
    "\n",
    "from matplotlib import pyplot as plt\n",
    "import seaborn as sns\n",
    "\n",
    "import itertools\n",
    "import random\n",
    "\n",
    "import spotipy\n",
    "from spotipy.oauth2 import SpotifyClientCredentials\n",
    "import spotipy.util as util\n",
    "\n",
    "%matplotlib inline"
   ]
  },
  {
   "cell_type": "code",
   "execution_count": 2,
   "metadata": {},
   "outputs": [],
   "source": [
    "CLIENT_ID=\"810e2eec841546269c49f338f1be189a\"\n",
    "CLIENT_SECRET=\"764290d0ab0f4f4484b0d4c7b701bdee\"\n",
    "\n",
    "token = SpotifyClientCredentials(client_id=CLIENT_ID, client_secret=CLIENT_SECRET)\n",
    "\n",
    "cache_token = token.get_access_token()\n",
    "sp = spotipy.Spotify(cache_token)"
   ]
  },
  {
   "cell_type": "code",
   "execution_count": 3,
   "metadata": {},
   "outputs": [],
   "source": [
    "sample_playlist = sp.user_playlist(\"joycex99\", \"0yWeSBDVEwGPLMH7EXI3tX\")"
   ]
  },
  {
   "cell_type": "code",
   "execution_count": 4,
   "metadata": {},
   "outputs": [],
   "source": [
    "#Get (song id, song name, popularity) out of playlists\n",
    "def extract_songs(playlist):\n",
    "    tracks = playlist[\"tracks\"]\n",
    "    info = [(item[\"track\"][\"id\"], item[\"track\"][\"name\"], item[\"track\"][\"popularity\"]) for item in tracks[\"items\"]]\n",
    "    while tracks[\"next\"]:\n",
    "        tracks = sp.next(tracks)\n",
    "        info.extend([(item[\"track\"][\"id\"], item[\"track\"][\"name\"], item[\"track\"][\"popularity\"]) for item in tracks[\"items\"]])\n",
    "    return info"
   ]
  },
  {
   "cell_type": "code",
   "execution_count": 86,
   "metadata": {},
   "outputs": [],
   "source": [
    "# Get (song_id, song_name, popularity) for num_tracks songs in given year\n",
    "# Goes through songs sequentially to get tracks\n",
    "def tracks_from_year(year, num_tracks):\n",
    "    tracks = sp.search(q='year:' + str(year), type='track', offset=0, limit=50)\n",
    "    print(\"Number of tracks in {}: {}\".format(year, tracks['tracks']['total']))\n",
    "    info = [(item[\"id\"], item[\"name\"], item[\"popularity\"]) for item in tracks[\"tracks\"][\"items\"]]\n",
    "    while tracks[\"tracks\"][\"next\"] and len(info) < num_tracks:\n",
    "        tracks = sp.next(tracks[\"tracks\"])\n",
    "        info.extend([(item[\"id\"], item[\"name\"], item[\"popularity\"]) for item in tracks[\"tracks\"][\"items\"]])\n",
    "        if len(info) % 1000 == 0:\n",
    "            print(\"Retrieved {} songs\".format(len(info)))\n",
    "    return info[:num_tracks]"
   ]
  },
  {
   "cell_type": "code",
   "execution_count": 87,
   "metadata": {},
   "outputs": [],
   "source": [
    "# Get (song_id, song_name, popularity) for num_tracks songs in a given year\n",
    "# Selects those songs randomly from the given year's top 10,000\n",
    "def random_tracks_from_year(year, num_tracks):\n",
    "    tracks = sp.search(q='year:' + str(year), type='track')\n",
    "    print(\"Number of tracks in {}: {}\".format(year, tracks['tracks']['total']))\n",
    "    max_track = min(tracks['tracks']['total'], 9999) # Spotify limits offset to 9999\n",
    "    infos = []\n",
    "    for _ in range(num_tracks):\n",
    "        track_num = random.randint(1, max_track) # May repeat songs\n",
    "        result = sp.search(q='year:' + str(year), type='track', offset=track_num, limit=1)\n",
    "        track = result['tracks']['items'][0]\n",
    "        info = (track['id'], track['name'], track['popularity'])\n",
    "        infos.append(info)\n",
    "    return infos"
   ]
  },
  {
   "cell_type": "code",
   "execution_count": 88,
   "metadata": {},
   "outputs": [
    {
     "name": "stdout",
     "output_type": "stream",
     "text": [
      "Number of tracks in 2017: 7455835\n",
      "Retrieved 1000 songs\n",
      "Retrieved 2000 songs\n",
      "Retrieved 3000 songs\n",
      "Retrieved 4000 songs\n",
      "Retrieved 5000 songs\n",
      "Retrieved 6000 songs\n",
      "Retrieved 7000 songs\n",
      "Retrieved 8000 songs\n",
      "Retrieved 9000 songs\n",
      "Retrieved 10000 songs\n"
     ]
    },
    {
     "ename": "SpotifyException",
     "evalue": "http status: 404, code:-1 - https://api.spotify.com/v1/search?query=year%3A2017&type=track&offset=10000&limit=50:\n Not found.",
     "output_type": "error",
     "traceback": [
      "\u001b[0;31m---------------------------------------------------------------------------\u001b[0m",
      "\u001b[0;31mHTTPError\u001b[0m                                 Traceback (most recent call last)",
      "\u001b[0;32m~/dev/SoundScorer221/venv/lib/python3.6/site-packages/spotipy/client.py\u001b[0m in \u001b[0;36m_internal_call\u001b[0;34m(self, method, url, payload, params)\u001b[0m\n\u001b[1;32m    118\u001b[0m         \u001b[0;32mtry\u001b[0m\u001b[0;34m:\u001b[0m\u001b[0;34m\u001b[0m\u001b[0m\n\u001b[0;32m--> 119\u001b[0;31m             \u001b[0mr\u001b[0m\u001b[0;34m.\u001b[0m\u001b[0mraise_for_status\u001b[0m\u001b[0;34m(\u001b[0m\u001b[0;34m)\u001b[0m\u001b[0;34m\u001b[0m\u001b[0m\n\u001b[0m\u001b[1;32m    120\u001b[0m         \u001b[0;32mexcept\u001b[0m\u001b[0;34m:\u001b[0m\u001b[0;34m\u001b[0m\u001b[0m\n",
      "\u001b[0;32m~/dev/SoundScorer221/venv/lib/python3.6/site-packages/requests/models.py\u001b[0m in \u001b[0;36mraise_for_status\u001b[0;34m(self)\u001b[0m\n\u001b[1;32m    939\u001b[0m         \u001b[0;32mif\u001b[0m \u001b[0mhttp_error_msg\u001b[0m\u001b[0;34m:\u001b[0m\u001b[0;34m\u001b[0m\u001b[0m\n\u001b[0;32m--> 940\u001b[0;31m             \u001b[0;32mraise\u001b[0m \u001b[0mHTTPError\u001b[0m\u001b[0;34m(\u001b[0m\u001b[0mhttp_error_msg\u001b[0m\u001b[0;34m,\u001b[0m \u001b[0mresponse\u001b[0m\u001b[0;34m=\u001b[0m\u001b[0mself\u001b[0m\u001b[0;34m)\u001b[0m\u001b[0;34m\u001b[0m\u001b[0m\n\u001b[0m\u001b[1;32m    941\u001b[0m \u001b[0;34m\u001b[0m\u001b[0m\n",
      "\u001b[0;31mHTTPError\u001b[0m: 404 Client Error: Not Found for url: https://api.spotify.com/v1/search?query=year%3A2017&type=track&offset=10000&limit=50",
      "\nDuring handling of the above exception, another exception occurred:\n",
      "\u001b[0;31mSpotifyException\u001b[0m                          Traceback (most recent call last)",
      "\u001b[0;32m<ipython-input-88-87ab64af99bd>\u001b[0m in \u001b[0;36m<module>\u001b[0;34m\u001b[0m\n\u001b[0;32m----> 1\u001b[0;31m \u001b[0msongs\u001b[0m \u001b[0;34m=\u001b[0m \u001b[0mtracks_from_year\u001b[0m\u001b[0;34m(\u001b[0m\u001b[0;36m2017\u001b[0m\u001b[0;34m,\u001b[0m \u001b[0;36m20000\u001b[0m\u001b[0;34m)\u001b[0m\u001b[0;34m\u001b[0m\u001b[0m\n\u001b[0m\u001b[1;32m      2\u001b[0m \u001b[0mprint\u001b[0m\u001b[0;34m(\u001b[0m\u001b[0;34m\"Songs we use: {}\"\u001b[0m\u001b[0;34m.\u001b[0m\u001b[0mformat\u001b[0m\u001b[0;34m(\u001b[0m\u001b[0mlen\u001b[0m\u001b[0;34m(\u001b[0m\u001b[0msongs\u001b[0m\u001b[0;34m)\u001b[0m\u001b[0;34m)\u001b[0m\u001b[0;34m)\u001b[0m\u001b[0;34m\u001b[0m\u001b[0m\n\u001b[1;32m      3\u001b[0m \u001b[0mprint\u001b[0m\u001b[0;34m(\u001b[0m\u001b[0msongs\u001b[0m\u001b[0;34m[\u001b[0m\u001b[0;34m:\u001b[0m\u001b[0;36m10\u001b[0m\u001b[0;34m]\u001b[0m\u001b[0;34m)\u001b[0m\u001b[0;34m\u001b[0m\u001b[0m\n\u001b[1;32m      4\u001b[0m \u001b[0mprint\u001b[0m\u001b[0;34m(\u001b[0m\u001b[0msongs\u001b[0m\u001b[0;34m[\u001b[0m\u001b[0;34m-\u001b[0m\u001b[0;36m10\u001b[0m\u001b[0;34m:\u001b[0m\u001b[0;34m]\u001b[0m\u001b[0;34m)\u001b[0m\u001b[0;34m\u001b[0m\u001b[0m\n",
      "\u001b[0;32m<ipython-input-86-f035d63d133f>\u001b[0m in \u001b[0;36mtracks_from_year\u001b[0;34m(year, num_tracks)\u001b[0m\n\u001b[1;32m      6\u001b[0m     \u001b[0minfo\u001b[0m \u001b[0;34m=\u001b[0m \u001b[0;34m[\u001b[0m\u001b[0;34m(\u001b[0m\u001b[0mitem\u001b[0m\u001b[0;34m[\u001b[0m\u001b[0;34m\"id\"\u001b[0m\u001b[0;34m]\u001b[0m\u001b[0;34m,\u001b[0m \u001b[0mitem\u001b[0m\u001b[0;34m[\u001b[0m\u001b[0;34m\"name\"\u001b[0m\u001b[0;34m]\u001b[0m\u001b[0;34m,\u001b[0m \u001b[0mitem\u001b[0m\u001b[0;34m[\u001b[0m\u001b[0;34m\"popularity\"\u001b[0m\u001b[0;34m]\u001b[0m\u001b[0;34m)\u001b[0m \u001b[0;32mfor\u001b[0m \u001b[0mitem\u001b[0m \u001b[0;32min\u001b[0m \u001b[0mtracks\u001b[0m\u001b[0;34m[\u001b[0m\u001b[0;34m\"tracks\"\u001b[0m\u001b[0;34m]\u001b[0m\u001b[0;34m[\u001b[0m\u001b[0;34m\"items\"\u001b[0m\u001b[0;34m]\u001b[0m\u001b[0;34m]\u001b[0m\u001b[0;34m\u001b[0m\u001b[0m\n\u001b[1;32m      7\u001b[0m     \u001b[0;32mwhile\u001b[0m \u001b[0mtracks\u001b[0m\u001b[0;34m[\u001b[0m\u001b[0;34m\"tracks\"\u001b[0m\u001b[0;34m]\u001b[0m\u001b[0;34m[\u001b[0m\u001b[0;34m\"next\"\u001b[0m\u001b[0;34m]\u001b[0m \u001b[0;32mand\u001b[0m \u001b[0mlen\u001b[0m\u001b[0;34m(\u001b[0m\u001b[0minfo\u001b[0m\u001b[0;34m)\u001b[0m \u001b[0;34m<\u001b[0m \u001b[0mnum_tracks\u001b[0m\u001b[0;34m:\u001b[0m\u001b[0;34m\u001b[0m\u001b[0m\n\u001b[0;32m----> 8\u001b[0;31m         \u001b[0mtracks\u001b[0m \u001b[0;34m=\u001b[0m \u001b[0msp\u001b[0m\u001b[0;34m.\u001b[0m\u001b[0mnext\u001b[0m\u001b[0;34m(\u001b[0m\u001b[0mtracks\u001b[0m\u001b[0;34m[\u001b[0m\u001b[0;34m\"tracks\"\u001b[0m\u001b[0;34m]\u001b[0m\u001b[0;34m)\u001b[0m\u001b[0;34m\u001b[0m\u001b[0m\n\u001b[0m\u001b[1;32m      9\u001b[0m         \u001b[0minfo\u001b[0m\u001b[0;34m.\u001b[0m\u001b[0mextend\u001b[0m\u001b[0;34m(\u001b[0m\u001b[0;34m[\u001b[0m\u001b[0;34m(\u001b[0m\u001b[0mitem\u001b[0m\u001b[0;34m[\u001b[0m\u001b[0;34m\"id\"\u001b[0m\u001b[0;34m]\u001b[0m\u001b[0;34m,\u001b[0m \u001b[0mitem\u001b[0m\u001b[0;34m[\u001b[0m\u001b[0;34m\"name\"\u001b[0m\u001b[0;34m]\u001b[0m\u001b[0;34m,\u001b[0m \u001b[0mitem\u001b[0m\u001b[0;34m[\u001b[0m\u001b[0;34m\"popularity\"\u001b[0m\u001b[0;34m]\u001b[0m\u001b[0;34m)\u001b[0m \u001b[0;32mfor\u001b[0m \u001b[0mitem\u001b[0m \u001b[0;32min\u001b[0m \u001b[0mtracks\u001b[0m\u001b[0;34m[\u001b[0m\u001b[0;34m\"tracks\"\u001b[0m\u001b[0;34m]\u001b[0m\u001b[0;34m[\u001b[0m\u001b[0;34m\"items\"\u001b[0m\u001b[0;34m]\u001b[0m\u001b[0;34m]\u001b[0m\u001b[0;34m)\u001b[0m\u001b[0;34m\u001b[0m\u001b[0m\n\u001b[1;32m     10\u001b[0m         \u001b[0;32mif\u001b[0m \u001b[0mlen\u001b[0m\u001b[0;34m(\u001b[0m\u001b[0minfo\u001b[0m\u001b[0;34m)\u001b[0m \u001b[0;34m%\u001b[0m \u001b[0;36m1000\u001b[0m \u001b[0;34m==\u001b[0m \u001b[0;36m0\u001b[0m\u001b[0;34m:\u001b[0m\u001b[0;34m\u001b[0m\u001b[0m\n",
      "\u001b[0;32m~/dev/SoundScorer221/venv/lib/python3.6/site-packages/spotipy/client.py\u001b[0m in \u001b[0;36mnext\u001b[0;34m(self, result)\u001b[0m\n\u001b[1;32m    195\u001b[0m         '''\n\u001b[1;32m    196\u001b[0m         \u001b[0;32mif\u001b[0m \u001b[0mresult\u001b[0m\u001b[0;34m[\u001b[0m\u001b[0;34m'next'\u001b[0m\u001b[0;34m]\u001b[0m\u001b[0;34m:\u001b[0m\u001b[0;34m\u001b[0m\u001b[0m\n\u001b[0;32m--> 197\u001b[0;31m             \u001b[0;32mreturn\u001b[0m \u001b[0mself\u001b[0m\u001b[0;34m.\u001b[0m\u001b[0m_get\u001b[0m\u001b[0;34m(\u001b[0m\u001b[0mresult\u001b[0m\u001b[0;34m[\u001b[0m\u001b[0;34m'next'\u001b[0m\u001b[0;34m]\u001b[0m\u001b[0;34m)\u001b[0m\u001b[0;34m\u001b[0m\u001b[0m\n\u001b[0m\u001b[1;32m    198\u001b[0m         \u001b[0;32melse\u001b[0m\u001b[0;34m:\u001b[0m\u001b[0;34m\u001b[0m\u001b[0m\n\u001b[1;32m    199\u001b[0m             \u001b[0;32mreturn\u001b[0m \u001b[0;32mNone\u001b[0m\u001b[0;34m\u001b[0m\u001b[0m\n",
      "\u001b[0;32m~/dev/SoundScorer221/venv/lib/python3.6/site-packages/spotipy/client.py\u001b[0m in \u001b[0;36m_get\u001b[0;34m(self, url, args, payload, **kwargs)\u001b[0m\n\u001b[1;32m    144\u001b[0m         \u001b[0;32mwhile\u001b[0m \u001b[0mretries\u001b[0m \u001b[0;34m>\u001b[0m \u001b[0;36m0\u001b[0m\u001b[0;34m:\u001b[0m\u001b[0;34m\u001b[0m\u001b[0m\n\u001b[1;32m    145\u001b[0m             \u001b[0;32mtry\u001b[0m\u001b[0;34m:\u001b[0m\u001b[0;34m\u001b[0m\u001b[0m\n\u001b[0;32m--> 146\u001b[0;31m                 \u001b[0;32mreturn\u001b[0m \u001b[0mself\u001b[0m\u001b[0;34m.\u001b[0m\u001b[0m_internal_call\u001b[0m\u001b[0;34m(\u001b[0m\u001b[0;34m'GET'\u001b[0m\u001b[0;34m,\u001b[0m \u001b[0murl\u001b[0m\u001b[0;34m,\u001b[0m \u001b[0mpayload\u001b[0m\u001b[0;34m,\u001b[0m \u001b[0mkwargs\u001b[0m\u001b[0;34m)\u001b[0m\u001b[0;34m\u001b[0m\u001b[0m\n\u001b[0m\u001b[1;32m    147\u001b[0m             \u001b[0;32mexcept\u001b[0m \u001b[0mSpotifyException\u001b[0m \u001b[0;32mas\u001b[0m \u001b[0me\u001b[0m\u001b[0;34m:\u001b[0m\u001b[0;34m\u001b[0m\u001b[0m\n\u001b[1;32m    148\u001b[0m                 \u001b[0mretries\u001b[0m \u001b[0;34m-=\u001b[0m \u001b[0;36m1\u001b[0m\u001b[0;34m\u001b[0m\u001b[0m\n",
      "\u001b[0;32m~/dev/SoundScorer221/venv/lib/python3.6/site-packages/spotipy/client.py\u001b[0m in \u001b[0;36m_internal_call\u001b[0;34m(self, method, url, payload, params)\u001b[0m\n\u001b[1;32m    122\u001b[0m                 raise SpotifyException(r.status_code,\n\u001b[1;32m    123\u001b[0m                     \u001b[0;34m-\u001b[0m\u001b[0;36m1\u001b[0m\u001b[0;34m,\u001b[0m \u001b[0;34m'%s:\\n %s'\u001b[0m \u001b[0;34m%\u001b[0m \u001b[0;34m(\u001b[0m\u001b[0mr\u001b[0m\u001b[0;34m.\u001b[0m\u001b[0murl\u001b[0m\u001b[0;34m,\u001b[0m \u001b[0mr\u001b[0m\u001b[0;34m.\u001b[0m\u001b[0mjson\u001b[0m\u001b[0;34m(\u001b[0m\u001b[0;34m)\u001b[0m\u001b[0;34m[\u001b[0m\u001b[0;34m'error'\u001b[0m\u001b[0;34m]\u001b[0m\u001b[0;34m[\u001b[0m\u001b[0;34m'message'\u001b[0m\u001b[0;34m]\u001b[0m\u001b[0;34m)\u001b[0m\u001b[0;34m,\u001b[0m\u001b[0;34m\u001b[0m\u001b[0m\n\u001b[0;32m--> 124\u001b[0;31m                     headers=r.headers)\n\u001b[0m\u001b[1;32m    125\u001b[0m             \u001b[0;32melse\u001b[0m\u001b[0;34m:\u001b[0m\u001b[0;34m\u001b[0m\u001b[0m\n\u001b[1;32m    126\u001b[0m                 raise SpotifyException(r.status_code,\n",
      "\u001b[0;31mSpotifyException\u001b[0m: http status: 404, code:-1 - https://api.spotify.com/v1/search?query=year%3A2017&type=track&offset=10000&limit=50:\n Not found."
     ]
    }
   ],
   "source": [
    "songs = tracks_from_year(2017, 20000)\n",
    "print(\"Songs we use: {}\".format(len(songs)))\n",
    "print(songs[:10])\n",
    "print(songs[-10:])"
   ]
  },
  {
   "cell_type": "code",
   "execution_count": 6,
   "metadata": {},
   "outputs": [
    {
     "data": {
      "text/plain": [
       "[{'danceability': 0.539,\n",
       "  'energy': 0.855,\n",
       "  'key': 0,\n",
       "  'loudness': -4.987,\n",
       "  'mode': 1,\n",
       "  'speechiness': 0.0583,\n",
       "  'acousticness': 0.0469,\n",
       "  'instrumentalness': 9.5e-05,\n",
       "  'liveness': 0.52,\n",
       "  'valence': 0.346,\n",
       "  'tempo': 138.028,\n",
       "  'type': 'audio_features',\n",
       "  'id': '3ftfaNstpkuUIMxlYOl1WX',\n",
       "  'uri': 'spotify:track:3ftfaNstpkuUIMxlYOl1WX',\n",
       "  'track_href': 'https://api.spotify.com/v1/tracks/3ftfaNstpkuUIMxlYOl1WX',\n",
       "  'analysis_url': 'https://api.spotify.com/v1/audio-analysis/3ftfaNstpkuUIMxlYOl1WX',\n",
       "  'duration_ms': 234572,\n",
       "  'time_signature': 4}]"
      ]
     },
     "execution_count": 6,
     "metadata": {},
     "output_type": "execute_result"
    }
   ],
   "source": [
    "sp.audio_features(songs[0][0])"
   ]
  },
  {
   "cell_type": "code",
   "execution_count": 7,
   "metadata": {},
   "outputs": [],
   "source": [
    "''' Returns a list of each track's audio features'''\n",
    "def features(songs):\n",
    "    all_feats = []\n",
    "    ids = [song[0] for song in songs]\n",
    "    # Spotify's audio_features can only return 50 songs at once\n",
    "    for i in range(0, len(songs), 50):\n",
    "        track_feats = sp.audio_features(ids[i:i+50])\n",
    "        for j in range(len(track_feats)):\n",
    "            track_feats[j]['name'] = songs[i+j][1]\n",
    "            track_feats[j]['popularity'] = songs[i+j][2]\n",
    "        all_feats.extend(track_feats)\n",
    "    return all_feats"
   ]
  },
  {
   "cell_type": "code",
   "execution_count": 8,
   "metadata": {},
   "outputs": [
    {
     "data": {
      "text/plain": [
       "{'danceability': 0.59,\n",
       " 'energy': 0.871,\n",
       " 'key': 11,\n",
       " 'loudness': -3.353,\n",
       " 'mode': 0,\n",
       " 'speechiness': 0.0891,\n",
       " 'acousticness': 0.148,\n",
       " 'instrumentalness': 0,\n",
       " 'liveness': 0.0739,\n",
       " 'valence': 0.304,\n",
       " 'tempo': 134.956,\n",
       " 'type': 'audio_features',\n",
       " 'id': '1839RWzPRZCVgvamu4sHSN',\n",
       " 'uri': 'spotify:track:1839RWzPRZCVgvamu4sHSN',\n",
       " 'track_href': 'https://api.spotify.com/v1/tracks/1839RWzPRZCVgvamu4sHSN',\n",
       " 'analysis_url': 'https://api.spotify.com/v1/audio-analysis/1839RWzPRZCVgvamu4sHSN',\n",
       " 'duration_ms': 191331,\n",
       " 'time_signature': 4,\n",
       " 'name': 'All My Love (feat. Conor Maynard)',\n",
       " 'popularity': 70}"
      ]
     },
     "execution_count": 8,
     "metadata": {},
     "output_type": "execute_result"
    }
   ],
   "source": [
    "feats = features(songs)\n",
    "feats[100]"
   ]
  },
  {
   "cell_type": "markdown",
   "metadata": {},
   "source": [
    "## Training"
   ]
  },
  {
   "cell_type": "code",
   "execution_count": 98,
   "metadata": {},
   "outputs": [
    {
     "data": {
      "text/html": [
       "<div>\n",
       "<style>\n",
       "    .dataframe thead tr:only-child th {\n",
       "        text-align: right;\n",
       "    }\n",
       "\n",
       "    .dataframe thead th {\n",
       "        text-align: left;\n",
       "    }\n",
       "\n",
       "    .dataframe tbody tr th {\n",
       "        vertical-align: top;\n",
       "    }\n",
       "</style>\n",
       "<table border=\"1\" class=\"dataframe\">\n",
       "  <thead>\n",
       "    <tr style=\"text-align: right;\">\n",
       "      <th></th>\n",
       "      <th>acousticness</th>\n",
       "      <th>analysis_url</th>\n",
       "      <th>danceability</th>\n",
       "      <th>duration_ms</th>\n",
       "      <th>energy</th>\n",
       "      <th>id</th>\n",
       "      <th>instrumentalness</th>\n",
       "      <th>key</th>\n",
       "      <th>liveness</th>\n",
       "      <th>loudness</th>\n",
       "      <th>mode</th>\n",
       "      <th>name</th>\n",
       "      <th>popularity</th>\n",
       "      <th>speechiness</th>\n",
       "      <th>tempo</th>\n",
       "      <th>time_signature</th>\n",
       "      <th>track_href</th>\n",
       "      <th>type</th>\n",
       "      <th>uri</th>\n",
       "      <th>valence</th>\n",
       "    </tr>\n",
       "  </thead>\n",
       "  <tbody>\n",
       "    <tr>\n",
       "      <th>554</th>\n",
       "      <td>0.029300</td>\n",
       "      <td>https://api.spotify.com/v1/audio-analysis/3B54...</td>\n",
       "      <td>0.726</td>\n",
       "      <td>233902</td>\n",
       "      <td>0.769</td>\n",
       "      <td>3B54sVLJ402zGa6Xm4YGNe</td>\n",
       "      <td>0.010100</td>\n",
       "      <td>6</td>\n",
       "      <td>0.1040</td>\n",
       "      <td>-5.043</td>\n",
       "      <td>1</td>\n",
       "      <td>Unforgettable</td>\n",
       "      <td>86</td>\n",
       "      <td>0.1230</td>\n",
       "      <td>97.985</td>\n",
       "      <td>4</td>\n",
       "      <td>https://api.spotify.com/v1/tracks/3B54sVLJ402z...</td>\n",
       "      <td>audio_features</td>\n",
       "      <td>spotify:track:3B54sVLJ402zGa6Xm4YGNe</td>\n",
       "      <td>0.733</td>\n",
       "    </tr>\n",
       "    <tr>\n",
       "      <th>367</th>\n",
       "      <td>0.111000</td>\n",
       "      <td>https://api.spotify.com/v1/audio-analysis/0RUX...</td>\n",
       "      <td>0.448</td>\n",
       "      <td>255893</td>\n",
       "      <td>0.885</td>\n",
       "      <td>0RUXHlYhA057fCOe2vqIqu</td>\n",
       "      <td>0.000004</td>\n",
       "      <td>9</td>\n",
       "      <td>0.0476</td>\n",
       "      <td>-3.755</td>\n",
       "      <td>1</td>\n",
       "      <td>Ships In The Night</td>\n",
       "      <td>55</td>\n",
       "      <td>0.0562</td>\n",
       "      <td>178.151</td>\n",
       "      <td>4</td>\n",
       "      <td>https://api.spotify.com/v1/tracks/0RUXHlYhA057...</td>\n",
       "      <td>audio_features</td>\n",
       "      <td>spotify:track:0RUXHlYhA057fCOe2vqIqu</td>\n",
       "      <td>0.134</td>\n",
       "    </tr>\n",
       "    <tr>\n",
       "      <th>341</th>\n",
       "      <td>0.253000</td>\n",
       "      <td>https://api.spotify.com/v1/audio-analysis/6uBh...</td>\n",
       "      <td>0.690</td>\n",
       "      <td>210091</td>\n",
       "      <td>0.622</td>\n",
       "      <td>6uBhi9gBXWjanegOb2Phh0</td>\n",
       "      <td>0.000000</td>\n",
       "      <td>5</td>\n",
       "      <td>0.1160</td>\n",
       "      <td>-5.025</td>\n",
       "      <td>0</td>\n",
       "      <td>Stay (with Alessia Cara)</td>\n",
       "      <td>84</td>\n",
       "      <td>0.0622</td>\n",
       "      <td>102.040</td>\n",
       "      <td>4</td>\n",
       "      <td>https://api.spotify.com/v1/tracks/6uBhi9gBXWja...</td>\n",
       "      <td>audio_features</td>\n",
       "      <td>spotify:track:6uBhi9gBXWjanegOb2Phh0</td>\n",
       "      <td>0.544</td>\n",
       "    </tr>\n",
       "    <tr>\n",
       "      <th>321</th>\n",
       "      <td>0.014400</td>\n",
       "      <td>https://api.spotify.com/v1/audio-analysis/0fYV...</td>\n",
       "      <td>0.526</td>\n",
       "      <td>195200</td>\n",
       "      <td>0.862</td>\n",
       "      <td>0fYVliAYKHuPmECRs1pbRf</td>\n",
       "      <td>0.059700</td>\n",
       "      <td>2</td>\n",
       "      <td>0.2290</td>\n",
       "      <td>-6.003</td>\n",
       "      <td>1</td>\n",
       "      <td>Renegades</td>\n",
       "      <td>76</td>\n",
       "      <td>0.0905</td>\n",
       "      <td>90.052</td>\n",
       "      <td>4</td>\n",
       "      <td>https://api.spotify.com/v1/tracks/0fYVliAYKHuP...</td>\n",
       "      <td>audio_features</td>\n",
       "      <td>spotify:track:0fYVliAYKHuPmECRs1pbRf</td>\n",
       "      <td>0.528</td>\n",
       "    </tr>\n",
       "    <tr>\n",
       "      <th>654</th>\n",
       "      <td>0.000339</td>\n",
       "      <td>https://api.spotify.com/v1/audio-analysis/3GnL...</td>\n",
       "      <td>0.905</td>\n",
       "      <td>177604</td>\n",
       "      <td>0.596</td>\n",
       "      <td>3GnLo84IkdSWCPYt6tnLll</td>\n",
       "      <td>0.000021</td>\n",
       "      <td>1</td>\n",
       "      <td>0.0897</td>\n",
       "      <td>-7.496</td>\n",
       "      <td>0</td>\n",
       "      <td>HUMBLE.</td>\n",
       "      <td>12</td>\n",
       "      <td>0.1180</td>\n",
       "      <td>149.996</td>\n",
       "      <td>4</td>\n",
       "      <td>https://api.spotify.com/v1/tracks/3GnLo84IkdSW...</td>\n",
       "      <td>audio_features</td>\n",
       "      <td>spotify:track:3GnLo84IkdSWCPYt6tnLll</td>\n",
       "      <td>0.422</td>\n",
       "    </tr>\n",
       "  </tbody>\n",
       "</table>\n",
       "</div>"
      ],
      "text/plain": [
       "     acousticness                                       analysis_url  \\\n",
       "554      0.029300  https://api.spotify.com/v1/audio-analysis/3B54...   \n",
       "367      0.111000  https://api.spotify.com/v1/audio-analysis/0RUX...   \n",
       "341      0.253000  https://api.spotify.com/v1/audio-analysis/6uBh...   \n",
       "321      0.014400  https://api.spotify.com/v1/audio-analysis/0fYV...   \n",
       "654      0.000339  https://api.spotify.com/v1/audio-analysis/3GnL...   \n",
       "\n",
       "     danceability  duration_ms  energy                      id  \\\n",
       "554         0.726       233902   0.769  3B54sVLJ402zGa6Xm4YGNe   \n",
       "367         0.448       255893   0.885  0RUXHlYhA057fCOe2vqIqu   \n",
       "341         0.690       210091   0.622  6uBhi9gBXWjanegOb2Phh0   \n",
       "321         0.526       195200   0.862  0fYVliAYKHuPmECRs1pbRf   \n",
       "654         0.905       177604   0.596  3GnLo84IkdSWCPYt6tnLll   \n",
       "\n",
       "     instrumentalness  key  liveness  loudness  mode  \\\n",
       "554          0.010100    6    0.1040    -5.043     1   \n",
       "367          0.000004    9    0.0476    -3.755     1   \n",
       "341          0.000000    5    0.1160    -5.025     0   \n",
       "321          0.059700    2    0.2290    -6.003     1   \n",
       "654          0.000021    1    0.0897    -7.496     0   \n",
       "\n",
       "                         name  popularity  speechiness    tempo  \\\n",
       "554             Unforgettable          86       0.1230   97.985   \n",
       "367        Ships In The Night          55       0.0562  178.151   \n",
       "341  Stay (with Alessia Cara)          84       0.0622  102.040   \n",
       "321                 Renegades          76       0.0905   90.052   \n",
       "654                   HUMBLE.          12       0.1180  149.996   \n",
       "\n",
       "     time_signature                                         track_href  \\\n",
       "554               4  https://api.spotify.com/v1/tracks/3B54sVLJ402z...   \n",
       "367               4  https://api.spotify.com/v1/tracks/0RUXHlYhA057...   \n",
       "341               4  https://api.spotify.com/v1/tracks/6uBhi9gBXWja...   \n",
       "321               4  https://api.spotify.com/v1/tracks/0fYVliAYKHuP...   \n",
       "654               4  https://api.spotify.com/v1/tracks/3GnLo84IkdSW...   \n",
       "\n",
       "               type                                   uri  valence  \n",
       "554  audio_features  spotify:track:3B54sVLJ402zGa6Xm4YGNe    0.733  \n",
       "367  audio_features  spotify:track:0RUXHlYhA057fCOe2vqIqu    0.134  \n",
       "341  audio_features  spotify:track:6uBhi9gBXWjanegOb2Phh0    0.544  \n",
       "321  audio_features  spotify:track:0fYVliAYKHuPmECRs1pbRf    0.528  \n",
       "654  audio_features  spotify:track:3GnLo84IkdSWCPYt6tnLll    0.422  "
      ]
     },
     "execution_count": 98,
     "metadata": {},
     "output_type": "execute_result"
    }
   ],
   "source": [
    "data = pd.DataFrame(feats)\n",
    "data = data.sample(frac=1)\n",
    "data.head()"
   ]
  },
  {
   "cell_type": "code",
   "execution_count": 99,
   "metadata": {
    "collapsed": true
   },
   "outputs": [],
   "source": [
    "features = [\"acousticness\", \"danceability\", \"energy\", \n",
    "            \"loudness\", \"speechiness\", \"tempo\", \"valence\"]"
   ]
  },
  {
   "cell_type": "code",
   "execution_count": 100,
   "metadata": {},
   "outputs": [
    {
     "name": "stdout",
     "output_type": "stream",
     "text": [
      "Training size: 577, Test size: 102\n"
     ]
    }
   ],
   "source": [
    "train, test = train_test_split(data, test_size=0.15)\n",
    "x_train, y_train = train[features], train[\"popularity\"]\n",
    "x_test, y_test = test[features], test[\"popularity\"]\n",
    "print(\"Training size: {}, Test size: {}\".format(len(train), len(test)))"
   ]
  },
  {
   "cell_type": "code",
   "execution_count": 103,
   "metadata": {
    "scrolled": true
   },
   "outputs": [
    {
     "name": "stderr",
     "output_type": "stream",
     "text": [
      "/Library/Frameworks/Python.framework/Versions/3.6/lib/python3.6/site-packages/scipy/linalg/basic.py:1018: RuntimeWarning: internal gelsd driver lwork query error, required iwork dimension not returned. This is likely the result of LAPACK bug 0038, fixed in LAPACK 3.2.2 (released July 21, 2010). Falling back to 'gelss' driver.\n",
      "  warnings.warn(mesg, RuntimeWarning)\n"
     ]
    },
    {
     "data": {
      "text/plain": [
       "LinearRegression(copy_X=True, fit_intercept=True, n_jobs=1, normalize=False)"
      ]
     },
     "execution_count": 103,
     "metadata": {},
     "output_type": "execute_result"
    }
   ],
   "source": [
    "lin_mod = LinearRegression()\n",
    "lin_mod.fit(x_train, y_train)"
   ]
  },
  {
   "cell_type": "code",
   "execution_count": null,
   "metadata": {
    "collapsed": true
   },
   "outputs": [],
   "source": []
  }
 ],
 "metadata": {
  "kernelspec": {
   "display_name": "Python 3",
   "language": "python",
   "name": "python3"
  },
  "language_info": {
   "codemirror_mode": {
    "name": "ipython",
    "version": 3
   },
   "file_extension": ".py",
   "mimetype": "text/x-python",
   "name": "python",
   "nbconvert_exporter": "python",
   "pygments_lexer": "ipython3",
   "version": "3.6.5"
  }
 },
 "nbformat": 4,
 "nbformat_minor": 2
}
