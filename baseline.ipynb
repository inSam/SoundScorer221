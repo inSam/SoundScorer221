{
 "cells": [
  {
   "cell_type": "code",
   "execution_count": 91,
   "metadata": {},
   "outputs": [],
   "source": [
    "import numpy as np\n",
    "import pandas as pd\n",
    "\n",
    "import json\n",
    "import itertools\n",
    "import random\n",
    "\n",
    "from sklearn.model_selection import train_test_split\n",
    "from sklearn.metrics import accuracy_score\n",
    "from sklearn.metrics import mean_squared_error, r2_score\n",
    "\n",
    "from sklearn.linear_model import LinearRegression\n",
    "from sklearn.svm import SVR\n",
    "from sklearn.ensemble import RandomForestRegressor\n",
    "\n",
    "from matplotlib import pyplot as plt\n",
    "import seaborn as sns\n",
    "\n",
    "import spotipy\n",
    "from spotipy.oauth2 import SpotifyClientCredentials\n",
    "import util\n",
    "\n",
    "%matplotlib inline"
   ]
  },
  {
   "cell_type": "markdown",
   "metadata": {},
   "source": [
    "## Pull Spotify Data"
   ]
  },
  {
   "cell_type": "code",
   "execution_count": 92,
   "metadata": {},
   "outputs": [],
   "source": [
    "CLIENT_ID=\"810e2eec841546269c49f338f1be189a\"\n",
    "CLIENT_SECRET=\"764290d0ab0f4f4484b0d4c7b701bdee\"\n",
    "\n",
    "token = SpotifyClientCredentials(client_id=CLIENT_ID, client_secret=CLIENT_SECRET)\n",
    "\n",
    "cache_token = token.get_access_token()\n",
    "sp = spotipy.Spotify(cache_token)"
   ]
  },
  {
   "cell_type": "code",
   "execution_count": 93,
   "metadata": {},
   "outputs": [
    {
     "name": "stdout",
     "output_type": "stream",
     "text": [
      "Loaded 6686 songs from data/tracks.json\n",
      "First ten songs: [['002QT7AS6h1LAF5dla8D92', 'Still Smell Like It', 56], ['003eoIwxETJujVWmNFMoZy', 'Growing Pains', 72], ['00B7TZ0Xawar6NZ00JFomN', 'Best Life (feat. Chance The Rapper)', 70], ['00Fboe8pNoWHLg1nn3e7Oi', 'Sands Of Time (Single Version) - Remastered', 0], ['00GL3XaK1sBpnB2eaam9SG', 'Ghost Town', 42], ['00I0pcNkN3IOX3fsYbaB4N', 'Infatuation', 69], ['00KjOnN3U40e3lXFUOue7h', '10AM/Save The World (feat. Gucci Mane)', 61], ['00Y9yFHumsN6Cg4cK3wXkM', 'Cap (feat. Trouble) - From Jxmtro', 51], ['00bWqt93aqLXqKtzZoq7Jw', 'MOOO!', 69], ['00ix2WCV1QGcrcVGliKJYY', 'Photograph - Felix Jaehn Remix', 28]]\n"
     ]
    }
   ],
   "source": [
    "# Pull data\n",
    "TRACK_DATA_PATH = \"data/tracks.json\"\n",
    "with open(TRACK_DATA_PATH,'r') as ff:\n",
    "    songs = json.load(ff)\n",
    "    \n",
    "# Remove duplicates\n",
    "songs.sort()\n",
    "songs = list(s for s,_ in itertools.groupby(songs))\n",
    "print(\"Loaded {} songs from {}\".format(len(songs), TRACK_DATA_PATH))\n",
    "print(\"First ten songs: {}\".format(songs[:10]))"
   ]
  },
  {
   "cell_type": "markdown",
   "metadata": {},
   "source": [
    "## Data Exploration"
   ]
  },
  {
   "cell_type": "code",
   "execution_count": 94,
   "metadata": {},
   "outputs": [
    {
     "name": "stderr",
     "output_type": "stream",
     "text": [
      "/Users/etang/dev/SoundScorer221/venv/lib/python3.6/site-packages/scipy/stats/stats.py:1713: FutureWarning: Using a non-tuple sequence for multidimensional indexing is deprecated; use `arr[tuple(seq)]` instead of `arr[seq]`. In the future this will be interpreted as an array index, `arr[np.array(seq)]`, which will result either in an error or a different result.\n",
      "  return np.add.reduce(sorted[indexer] * weights, axis=axis) / sumval\n"
     ]
    },
    {
     "data": {
      "text/plain": [
       "<matplotlib.axes._subplots.AxesSubplot at 0x119e3e2b0>"
      ]
     },
     "execution_count": 94,
     "metadata": {},
     "output_type": "execute_result"
    },
    {
     "data": {
      "image/png": "[encoded data removed]",
      "text/plain": [
       "<Figure size 432x288 with 1 Axes>"
      ]
     },
     "metadata": {
      "needs_background": "light"
     },
     "output_type": "display_data"
    }
   ],
   "source": [
    "# Plot popularity distribution\n",
    "sns.distplot([s[2] for s in songs], rug=False, kde=False, axlabel=\"Popularity\")"
   ]
  },
  {
   "cell_type": "code",
   "execution_count": 95,
   "metadata": {},
   "outputs": [
    {
     "data": {
      "text/plain": [
       "[['2LskIZrCeLxRvCiGP8gxlh', 'Arms Around You (feat. Maluma & Swae Lee)', 94],\n",
       " ['3EPXxR3ImUwfayaurPi3cm', 'Be Alright', 94],\n",
       " ['3ee8Jmje8o58CHK66QrVC2', 'SAD!', 94],\n",
       " ['4S8d14HvHb70ImctNgVzQQ', 'I Love It (& Lil Pump)', 94],\n",
       " ['0d2iYfpKoM0QCKvcLCkBao', 'Eastside (with Halsey & Khalid)', 95],\n",
       " ['5N5k9nd479b1xpDZ4usjrg', 'Promises (with Sam Smith)', 95],\n",
       " ['2xLMifQCjDGFmkHkpNLD9h', 'SICKO MODE', 96],\n",
       " ['5p7ujcrUXASCNwRaWNHR1C', 'Without Me', 96],\n",
       " ['2dpaYNEQHiRxtZbfNsse99', 'Happier', 98],\n",
       " ['4w8niZpiMy6qz1mntFA5uM',\n",
       "  'Taki Taki (with Selena Gomez, Ozuna & Cardi B)',\n",
       "  100]]"
      ]
     },
     "execution_count": 95,
     "metadata": {},
     "output_type": "execute_result"
    }
   ],
   "source": [
    "# Extract top 5 most popular songs\n",
    "sorted(songs, key=lambda song: song[2])[-10:]"
   ]
  },
  {
   "cell_type": "markdown",
   "metadata": {},
   "source": [
    "## Feature Extraction"
   ]
  },
  {
   "cell_type": "code",
   "execution_count": 96,
   "metadata": {},
   "outputs": [
    {
     "data": {
      "text/plain": [
       "[{'danceability': 0.83,\n",
       "  'energy': 0.653,\n",
       "  'key': 1,\n",
       "  'loudness': -5.298,\n",
       "  'mode': 1,\n",
       "  'speechiness': 0.185,\n",
       "  'acousticness': 0.0469,\n",
       "  'instrumentalness': 0,\n",
       "  'liveness': 0.112,\n",
       "  'valence': 0.228,\n",
       "  'tempo': 123.032,\n",
       "  'type': 'audio_features',\n",
       "  'id': '002QT7AS6h1LAF5dla8D92',\n",
       "  'uri': 'spotify:track:002QT7AS6h1LAF5dla8D92',\n",
       "  'track_href': 'https://api.spotify.com/v1/tracks/002QT7AS6h1LAF5dla8D92',\n",
       "  'analysis_url': 'https://api.spotify.com/v1/audio-analysis/002QT7AS6h1LAF5dla8D92',\n",
       "  'duration_ms': 207827,\n",
       "  'time_signature': 4}]"
      ]
     },
     "execution_count": 96,
     "metadata": {},
     "output_type": "execute_result"
    }
   ],
   "source": [
    "sp.audio_features(songs[0][0])"
   ]
  },
  {
   "cell_type": "code",
   "execution_count": 97,
   "metadata": {},
   "outputs": [],
   "source": [
    "''' Returns a list of each track's audio features'''\n",
    "def features(songs):\n",
    "    all_feats = []\n",
    "    ids = [song[0] for song in songs]\n",
    "    # Spotify's audio_features can only return 50 songs at once\n",
    "    for i in range(0, len(songs), 50):\n",
    "        track_feats = sp.audio_features(ids[i:i+50])\n",
    "        for j in range(len(track_feats)):\n",
    "            if not track_feats[j]:\n",
    "                continue # song not found in Spotify\n",
    "            track_feats[j]['name'] = songs[i+j][1]\n",
    "            track_feats[j]['popularity'] = songs[i+j][2]\n",
    "        all_feats.extend(filter(None, track_feats))\n",
    "    return all_feats"
   ]
  },
  {
   "cell_type": "code",
   "execution_count": 98,
   "metadata": {},
   "outputs": [
    {
     "data": {
      "text/plain": [
       "{'danceability': 0.598,\n",
       " 'energy': 0.559,\n",
       " 'key': 4,\n",
       " 'loudness': -7.534,\n",
       " 'mode': 0,\n",
       " 'speechiness': 0.0616,\n",
       " 'acousticness': 0.301,\n",
       " 'instrumentalness': 0,\n",
       " 'liveness': 0.263,\n",
       " 'valence': 0.0922,\n",
       " 'tempo': 171.851,\n",
       " 'type': 'audio_features',\n",
       " 'id': '07VizkUweZe2lQo4yWIhgA',\n",
       " 'uri': 'spotify:track:07VizkUweZe2lQo4yWIhgA',\n",
       " 'track_href': 'https://api.spotify.com/v1/tracks/07VizkUweZe2lQo4yWIhgA',\n",
       " 'analysis_url': 'https://api.spotify.com/v1/audio-analysis/07VizkUweZe2lQo4yWIhgA',\n",
       " 'duration_ms': 212482,\n",
       " 'time_signature': 4,\n",
       " 'name': \"해장국 Hero's Soup\",\n",
       " 'popularity': 58}"
      ]
     },
     "execution_count": 98,
     "metadata": {},
     "output_type": "execute_result"
    }
   ],
   "source": [
    "feats = features(songs)\n",
    "feats[100]"
   ]
  },
  {
   "cell_type": "code",
   "execution_count": 99,
   "metadata": {},
   "outputs": [
    {
     "data": {
      "text/html": [
       "<div>\n",
       "<style scoped>\n",
       "    .dataframe tbody tr th:only-of-type {\n",
       "        vertical-align: middle;\n",
       "    }\n",
       "\n",
       "    .dataframe tbody tr th {\n",
       "        vertical-align: top;\n",
       "    }\n",
       "\n",
       "    .dataframe thead th {\n",
       "        text-align: right;\n",
       "    }\n",
       "</style>\n",
       "<table border=\"1\" class=\"dataframe\">\n",
       "  <thead>\n",
       "    <tr style=\"text-align: right;\">\n",
       "      <th></th>\n",
       "      <th>acousticness</th>\n",
       "      <th>analysis_url</th>\n",
       "      <th>danceability</th>\n",
       "      <th>duration_ms</th>\n",
       "      <th>energy</th>\n",
       "      <th>id</th>\n",
       "      <th>instrumentalness</th>\n",
       "      <th>key</th>\n",
       "      <th>liveness</th>\n",
       "      <th>loudness</th>\n",
       "      <th>mode</th>\n",
       "      <th>name</th>\n",
       "      <th>popularity</th>\n",
       "      <th>speechiness</th>\n",
       "      <th>tempo</th>\n",
       "      <th>time_signature</th>\n",
       "      <th>track_href</th>\n",
       "      <th>type</th>\n",
       "      <th>uri</th>\n",
       "      <th>valence</th>\n",
       "    </tr>\n",
       "  </thead>\n",
       "  <tbody>\n",
       "    <tr>\n",
       "      <th>4249</th>\n",
       "      <td>0.124000</td>\n",
       "      <td>https://api.spotify.com/v1/audio-analysis/4xlR...</td>\n",
       "      <td>0.756</td>\n",
       "      <td>344293</td>\n",
       "      <td>0.573</td>\n",
       "      <td>4xlRayuMPAiu9Vcut1eABe</td>\n",
       "      <td>0.000014</td>\n",
       "      <td>10</td>\n",
       "      <td>0.124</td>\n",
       "      <td>-8.343</td>\n",
       "      <td>0</td>\n",
       "      <td>FRIENDS</td>\n",
       "      <td>36</td>\n",
       "      <td>0.0978</td>\n",
       "      <td>143.960</td>\n",
       "      <td>4</td>\n",
       "      <td>https://api.spotify.com/v1/tracks/4xlRayuMPAiu...</td>\n",
       "      <td>audio_features</td>\n",
       "      <td>spotify:track:4xlRayuMPAiu9Vcut1eABe</td>\n",
       "      <td>0.303</td>\n",
       "    </tr>\n",
       "    <tr>\n",
       "      <th>5473</th>\n",
       "      <td>0.032500</td>\n",
       "      <td>https://api.spotify.com/v1/audio-analysis/6QYY...</td>\n",
       "      <td>0.401</td>\n",
       "      <td>224187</td>\n",
       "      <td>0.713</td>\n",
       "      <td>6QYYVuvynDJctOwwUTLfhX</td>\n",
       "      <td>0.000690</td>\n",
       "      <td>8</td>\n",
       "      <td>0.102</td>\n",
       "      <td>-5.982</td>\n",
       "      <td>1</td>\n",
       "      <td>King For A Day</td>\n",
       "      <td>45</td>\n",
       "      <td>0.0326</td>\n",
       "      <td>143.106</td>\n",
       "      <td>4</td>\n",
       "      <td>https://api.spotify.com/v1/tracks/6QYYVuvynDJc...</td>\n",
       "      <td>audio_features</td>\n",
       "      <td>spotify:track:6QYYVuvynDJctOwwUTLfhX</td>\n",
       "      <td>0.725</td>\n",
       "    </tr>\n",
       "    <tr>\n",
       "      <th>2353</th>\n",
       "      <td>0.281000</td>\n",
       "      <td>https://api.spotify.com/v1/audio-analysis/2jWV...</td>\n",
       "      <td>0.805</td>\n",
       "      <td>100430</td>\n",
       "      <td>0.738</td>\n",
       "      <td>2jWVa5zXZ04BRcpn7b7tPp</td>\n",
       "      <td>0.000036</td>\n",
       "      <td>8</td>\n",
       "      <td>0.403</td>\n",
       "      <td>-1.872</td>\n",
       "      <td>1</td>\n",
       "      <td>Left Hand</td>\n",
       "      <td>43</td>\n",
       "      <td>0.1280</td>\n",
       "      <td>137.936</td>\n",
       "      <td>4</td>\n",
       "      <td>https://api.spotify.com/v1/tracks/2jWVa5zXZ04B...</td>\n",
       "      <td>audio_features</td>\n",
       "      <td>spotify:track:2jWVa5zXZ04BRcpn7b7tPp</td>\n",
       "      <td>0.611</td>\n",
       "    </tr>\n",
       "    <tr>\n",
       "      <th>3848</th>\n",
       "      <td>0.000086</td>\n",
       "      <td>https://api.spotify.com/v1/audio-analysis/4V4H...</td>\n",
       "      <td>0.534</td>\n",
       "      <td>234495</td>\n",
       "      <td>0.987</td>\n",
       "      <td>4V4H6WIDHizgIlo8K1h5B5</td>\n",
       "      <td>0.000253</td>\n",
       "      <td>11</td>\n",
       "      <td>0.262</td>\n",
       "      <td>-3.544</td>\n",
       "      <td>1</td>\n",
       "      <td>Never Sure</td>\n",
       "      <td>51</td>\n",
       "      <td>0.0728</td>\n",
       "      <td>128.973</td>\n",
       "      <td>4</td>\n",
       "      <td>https://api.spotify.com/v1/tracks/4V4H6WIDHizg...</td>\n",
       "      <td>audio_features</td>\n",
       "      <td>spotify:track:4V4H6WIDHizgIlo8K1h5B5</td>\n",
       "      <td>0.561</td>\n",
       "    </tr>\n",
       "    <tr>\n",
       "      <th>1589</th>\n",
       "      <td>0.113000</td>\n",
       "      <td>https://api.spotify.com/v1/audio-analysis/1ptM...</td>\n",
       "      <td>0.684</td>\n",
       "      <td>248696</td>\n",
       "      <td>0.893</td>\n",
       "      <td>1ptM5l7tbT3QCbvYjtBEpV</td>\n",
       "      <td>0.000000</td>\n",
       "      <td>6</td>\n",
       "      <td>0.316</td>\n",
       "      <td>-3.266</td>\n",
       "      <td>1</td>\n",
       "      <td>Suki ni Nacchaudarou? - IZ*ONE Ver.</td>\n",
       "      <td>59</td>\n",
       "      <td>0.0576</td>\n",
       "      <td>130.963</td>\n",
       "      <td>4</td>\n",
       "      <td>https://api.spotify.com/v1/tracks/1ptM5l7tbT3Q...</td>\n",
       "      <td>audio_features</td>\n",
       "      <td>spotify:track:1ptM5l7tbT3QCbvYjtBEpV</td>\n",
       "      <td>0.810</td>\n",
       "    </tr>\n",
       "  </tbody>\n",
       "</table>\n",
       "</div>"
      ],
      "text/plain": [
       "      acousticness                                       analysis_url  \\\n",
       "4249      0.124000  https://api.spotify.com/v1/audio-analysis/4xlR...   \n",
       "5473      0.032500  https://api.spotify.com/v1/audio-analysis/6QYY...   \n",
       "2353      0.281000  https://api.spotify.com/v1/audio-analysis/2jWV...   \n",
       "3848      0.000086  https://api.spotify.com/v1/audio-analysis/4V4H...   \n",
       "1589      0.113000  https://api.spotify.com/v1/audio-analysis/1ptM...   \n",
       "\n",
       "      danceability  duration_ms  energy                      id  \\\n",
       "4249         0.756       344293   0.573  4xlRayuMPAiu9Vcut1eABe   \n",
       "5473         0.401       224187   0.713  6QYYVuvynDJctOwwUTLfhX   \n",
       "2353         0.805       100430   0.738  2jWVa5zXZ04BRcpn7b7tPp   \n",
       "3848         0.534       234495   0.987  4V4H6WIDHizgIlo8K1h5B5   \n",
       "1589         0.684       248696   0.893  1ptM5l7tbT3QCbvYjtBEpV   \n",
       "\n",
       "      instrumentalness  key  liveness  loudness  mode  \\\n",
       "4249          0.000014   10     0.124    -8.343     0   \n",
       "5473          0.000690    8     0.102    -5.982     1   \n",
       "2353          0.000036    8     0.403    -1.872     1   \n",
       "3848          0.000253   11     0.262    -3.544     1   \n",
       "1589          0.000000    6     0.316    -3.266     1   \n",
       "\n",
       "                                     name  popularity  speechiness    tempo  \\\n",
       "4249                              FRIENDS          36       0.0978  143.960   \n",
       "5473                       King For A Day          45       0.0326  143.106   \n",
       "2353                            Left Hand          43       0.1280  137.936   \n",
       "3848                           Never Sure          51       0.0728  128.973   \n",
       "1589  Suki ni Nacchaudarou? - IZ*ONE Ver.          59       0.0576  130.963   \n",
       "\n",
       "      time_signature                                         track_href  \\\n",
       "4249               4  https://api.spotify.com/v1/tracks/4xlRayuMPAiu...   \n",
       "5473               4  https://api.spotify.com/v1/tracks/6QYYVuvynDJc...   \n",
       "2353               4  https://api.spotify.com/v1/tracks/2jWVa5zXZ04B...   \n",
       "3848               4  https://api.spotify.com/v1/tracks/4V4H6WIDHizg...   \n",
       "1589               4  https://api.spotify.com/v1/tracks/1ptM5l7tbT3Q...   \n",
       "\n",
       "                type                                   uri  valence  \n",
       "4249  audio_features  spotify:track:4xlRayuMPAiu9Vcut1eABe    0.303  \n",
       "5473  audio_features  spotify:track:6QYYVuvynDJctOwwUTLfhX    0.725  \n",
       "2353  audio_features  spotify:track:2jWVa5zXZ04BRcpn7b7tPp    0.611  \n",
       "3848  audio_features  spotify:track:4V4H6WIDHizgIlo8K1h5B5    0.561  \n",
       "1589  audio_features  spotify:track:1ptM5l7tbT3QCbvYjtBEpV    0.810  "
      ]
     },
     "execution_count": 99,
     "metadata": {},
     "output_type": "execute_result"
    }
   ],
   "source": [
    "data = pd.DataFrame(feats)\n",
    "data = data.sample(frac=1)\n",
    "data.head()"
   ]
  },
  {
   "cell_type": "code",
   "execution_count": 100,
   "metadata": {},
   "outputs": [
    {
     "data": {
      "text/html": [
       "<div>\n",
       "<style scoped>\n",
       "    .dataframe tbody tr th:only-of-type {\n",
       "        vertical-align: middle;\n",
       "    }\n",
       "\n",
       "    .dataframe tbody tr th {\n",
       "        vertical-align: top;\n",
       "    }\n",
       "\n",
       "    .dataframe thead th {\n",
       "        text-align: right;\n",
       "    }\n",
       "</style>\n",
       "<table border=\"1\" class=\"dataframe\">\n",
       "  <thead>\n",
       "    <tr style=\"text-align: right;\">\n",
       "      <th></th>\n",
       "      <th>acousticness</th>\n",
       "      <th>analysis_url</th>\n",
       "      <th>danceability</th>\n",
       "      <th>duration_ms</th>\n",
       "      <th>energy</th>\n",
       "      <th>id</th>\n",
       "      <th>instrumentalness</th>\n",
       "      <th>key</th>\n",
       "      <th>liveness</th>\n",
       "      <th>loudness</th>\n",
       "      <th>mode</th>\n",
       "      <th>name</th>\n",
       "      <th>popularity</th>\n",
       "      <th>speechiness</th>\n",
       "      <th>tempo</th>\n",
       "      <th>time_signature</th>\n",
       "      <th>track_href</th>\n",
       "      <th>type</th>\n",
       "      <th>uri</th>\n",
       "      <th>valence</th>\n",
       "    </tr>\n",
       "  </thead>\n",
       "  <tbody>\n",
       "    <tr>\n",
       "      <th>4229</th>\n",
       "      <td>0.153</td>\n",
       "      <td>https://api.spotify.com/v1/audio-analysis/4w8n...</td>\n",
       "      <td>0.841</td>\n",
       "      <td>212500</td>\n",
       "      <td>0.798</td>\n",
       "      <td>4w8niZpiMy6qz1mntFA5uM</td>\n",
       "      <td>0.000003</td>\n",
       "      <td>1</td>\n",
       "      <td>0.0618</td>\n",
       "      <td>-4.206</td>\n",
       "      <td>0</td>\n",
       "      <td>Taki Taki (with Selena Gomez, Ozuna &amp; Cardi B)</td>\n",
       "      <td>100</td>\n",
       "      <td>0.229</td>\n",
       "      <td>95.948</td>\n",
       "      <td>4</td>\n",
       "      <td>https://api.spotify.com/v1/tracks/4w8niZpiMy6q...</td>\n",
       "      <td>audio_features</td>\n",
       "      <td>spotify:track:4w8niZpiMy6qz1mntFA5uM</td>\n",
       "      <td>0.591</td>\n",
       "    </tr>\n",
       "  </tbody>\n",
       "</table>\n",
       "</div>"
      ],
      "text/plain": [
       "      acousticness                                       analysis_url  \\\n",
       "4229         0.153  https://api.spotify.com/v1/audio-analysis/4w8n...   \n",
       "\n",
       "      danceability  duration_ms  energy                      id  \\\n",
       "4229         0.841       212500   0.798  4w8niZpiMy6qz1mntFA5uM   \n",
       "\n",
       "      instrumentalness  key  liveness  loudness  mode  \\\n",
       "4229          0.000003    1    0.0618    -4.206     0   \n",
       "\n",
       "                                                name  popularity  speechiness  \\\n",
       "4229  Taki Taki (with Selena Gomez, Ozuna & Cardi B)         100        0.229   \n",
       "\n",
       "       tempo  time_signature  \\\n",
       "4229  95.948               4   \n",
       "\n",
       "                                             track_href            type  \\\n",
       "4229  https://api.spotify.com/v1/tracks/4w8niZpiMy6q...  audio_features   \n",
       "\n",
       "                                       uri  valence  \n",
       "4229  spotify:track:4w8niZpiMy6qz1mntFA5uM    0.591  "
      ]
     },
     "execution_count": 100,
     "metadata": {},
     "output_type": "execute_result"
    }
   ],
   "source": [
    "data.loc[data['popularity'] == 100]"
   ]
  },
  {
   "cell_type": "code",
   "execution_count": 101,
   "metadata": {},
   "outputs": [],
   "source": [
    "features = [\"acousticness\", \"danceability\", \"energy\", \n",
    "            \"loudness\", \"speechiness\", \"tempo\", \"valence\"]"
   ]
  },
  {
   "cell_type": "code",
   "execution_count": 102,
   "metadata": {},
   "outputs": [
    {
     "name": "stdout",
     "output_type": "stream",
     "text": [
      "Training size: 4677, Dev size: 1003, Test size: 1003\n"
     ]
    }
   ],
   "source": [
    "train, test = train_test_split(data, test_size=0.15)\n",
    "train, dev = train_test_split(train, test_size=0.15/0.85)\n",
    "x_train, y_train = train[features], train[\"popularity\"]\n",
    "x_dev, y_dev = dev[features], dev[\"popularity\"]\n",
    "x_test, y_test = test[features], test[\"popularity\"]\n",
    "print(\"Training size: {}, Dev size: {}, Test size: {}\".format(len(train), len(dev), len(test)))"
   ]
  },
  {
   "cell_type": "markdown",
   "metadata": {},
   "source": [
    "## Baseline (Linear Regression)"
   ]
  },
  {
   "cell_type": "code",
   "execution_count": 103,
   "metadata": {
    "scrolled": true
   },
   "outputs": [
    {
     "data": {
      "text/plain": [
       "LinearRegression(copy_X=True, fit_intercept=True, n_jobs=None,\n",
       "         normalize=False)"
      ]
     },
     "execution_count": 103,
     "metadata": {},
     "output_type": "execute_result"
    }
   ],
   "source": [
    "lin_mod = LinearRegression()\n",
    "lin_mod.fit(x_train, y_train)"
   ]
  },
  {
   "cell_type": "code",
   "execution_count": 104,
   "metadata": {},
   "outputs": [
    {
     "name": "stdout",
     "output_type": "stream",
     "text": [
      "Mean Squared Error: 279.6201658896808\n",
      "Variance Score: -2.893319131893265\n"
     ]
    }
   ],
   "source": [
    "test_preds = lin_mod.predict(x_dev)\n",
    "print(\"Mean Squared Error: {}\".format(mean_squared_error(test_preds, y_dev)))\n",
    "print(\"Variance Score: {}\".format(r2_score(test_preds, y_dev)))"
   ]
  },
  {
   "cell_type": "code",
   "execution_count": 105,
   "metadata": {},
   "outputs": [
    {
     "name": "stdout",
     "output_type": "stream",
     "text": [
      "Model coefficients: {'acousticness': -2.82855840888329, 'danceability': 21.096403269479193, 'energy': -9.24199179409083, 'loudness': 1.296963365486737, 'speechiness': -0.07094963811853924, 'tempo': 0.0055212419245092926, 'valence': -9.747544166150785}\n"
     ]
    }
   ],
   "source": [
    "coeffs = dict(zip(features, lin_mod.coef_))\n",
    "print(\"Model coefficients: {}\".format(coeffs))"
   ]
  },
  {
   "cell_type": "markdown",
   "metadata": {},
   "source": [
    "## SVM "
   ]
  },
  {
   "cell_type": "code",
   "execution_count": 106,
   "metadata": {},
   "outputs": [
    {
     "data": {
      "text/plain": [
       "SVR(C=1.0, cache_size=200, coef0=0.0, degree=3, epsilon=0.1, gamma='scale',\n",
       "  kernel='rbf', max_iter=-1, shrinking=True, tol=0.001, verbose=False)"
      ]
     },
     "execution_count": 106,
     "metadata": {},
     "output_type": "execute_result"
    }
   ],
   "source": [
    "svr = SVR(gamma='scale')\n",
    "svr.fit(x_train, y_train)"
   ]
  },
  {
   "cell_type": "code",
   "execution_count": 107,
   "metadata": {},
   "outputs": [
    {
     "name": "stdout",
     "output_type": "stream",
     "text": [
      "SVM Mean Squared Error: 295.71986462613523\n",
      "SVM Variance Score: -6.874287373283961\n"
     ]
    }
   ],
   "source": [
    "test_preds = svr.predict(x_dev)\n",
    "print(\"SVM Mean Squared Error: {}\".format(mean_squared_error(test_preds, y_dev)))\n",
    "print(\"SVM Variance Score: {}\".format(r2_score(test_preds, y_dev)))"
   ]
  },
  {
   "cell_type": "markdown",
   "metadata": {},
   "source": [
    "## Random Forest"
   ]
  },
  {
   "cell_type": "code",
   "execution_count": 108,
   "metadata": {},
   "outputs": [
    {
     "data": {
      "text/plain": [
       "RandomForestRegressor(bootstrap=True, criterion='mse', max_depth=None,\n",
       "           max_features='auto', max_leaf_nodes=None,\n",
       "           min_impurity_decrease=0.0, min_impurity_split=None,\n",
       "           min_samples_leaf=1, min_samples_split=2,\n",
       "           min_weight_fraction_leaf=0.0, n_estimators=100, n_jobs=None,\n",
       "           oob_score=False, random_state=0, verbose=0, warm_start=False)"
      ]
     },
     "execution_count": 108,
     "metadata": {},
     "output_type": "execute_result"
    }
   ],
   "source": [
    "random_forest = RandomForestRegressor(n_estimators=100, random_state=0)\n",
    "random_forest.fit(x_train, y_train)"
   ]
  },
  {
   "cell_type": "code",
   "execution_count": 109,
   "metadata": {},
   "outputs": [
    {
     "name": "stdout",
     "output_type": "stream",
     "text": [
      "Random Forest Mean Squared Error: 250.4178061546869\n",
      "Random Forest Variance Score: -1.0019772878824798\n"
     ]
    }
   ],
   "source": [
    "test_preds = random_forest.predict(x_dev)\n",
    "print(\"Random Forest Mean Squared Error: {}\".format(mean_squared_error(test_preds, y_dev)))\n",
    "print(\"Random Forest Variance Score: {}\".format(r2_score(test_preds, y_dev)))"
   ]
  },
  {
   "cell_type": "code",
   "execution_count": null,
   "metadata": {},
   "outputs": [],
   "source": []
  }
 ],
 "metadata": {
  "kernelspec": {
   "display_name": "Python 3",
   "language": "python",
   "name": "python3"
  },
  "language_info": {
   "codemirror_mode": {
    "name": "ipython",
    "version": 3
   },
   "file_extension": ".py",
   "mimetype": "text/x-python",
   "name": "python",
   "nbconvert_exporter": "python",
   "pygments_lexer": "ipython3",
   "version": "3.6.5"
  }
 },
 "nbformat": 4,
 "nbformat_minor": 2
}
