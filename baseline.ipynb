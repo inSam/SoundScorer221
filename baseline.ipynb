{
 "cells": [
  {
   "cell_type": "code",
   "execution_count": 98,
   "metadata": {},
   "outputs": [],
   "source": [
    "import numpy as np\n",
    "import pandas as pd\n",
    "\n",
    "from sklearn.linear_model import LinearRegression\n",
    "from sklearn.model_selection import train_test_split\n",
    "from sklearn.metrics import accuracy_score\n",
    "from sklearn.metrics import mean_squared_error, r2_score\n",
    "\n",
    "from matplotlib import pyplot as plt\n",
    "import seaborn as sns\n",
    "\n",
    "import itertools\n",
    "import random\n",
    "\n",
    "import spotipy\n",
    "from spotipy.oauth2 import SpotifyClientCredentials\n",
    "import spotipy.util as util\n",
    "\n",
    "%matplotlib inline"
   ]
  },
  {
   "cell_type": "code",
   "execution_count": 2,
   "metadata": {},
   "outputs": [],
   "source": [
    "CLIENT_ID=\"810e2eec841546269c49f338f1be189a\"\n",
    "CLIENT_SECRET=\"764290d0ab0f4f4484b0d4c7b701bdee\"\n",
    "\n",
    "token = SpotifyClientCredentials(client_id=CLIENT_ID, client_secret=CLIENT_SECRET)\n",
    "\n",
    "cache_token = token.get_access_token()\n",
    "sp = spotipy.Spotify(cache_token)"
   ]
  },
  {
   "cell_type": "code",
   "execution_count": 3,
   "metadata": {},
   "outputs": [],
   "source": [
    "sample_playlist = sp.user_playlist(\"joycex99\", \"0yWeSBDVEwGPLMH7EXI3tX\")"
   ]
  },
  {
   "cell_type": "code",
   "execution_count": 4,
   "metadata": {},
   "outputs": [],
   "source": [
    "#Get (song id, song name, popularity) out of playlists\n",
    "def extract_songs(playlist):\n",
    "    tracks = playlist[\"tracks\"]\n",
    "    info = [(item[\"track\"][\"id\"], item[\"track\"][\"name\"], item[\"track\"][\"popularity\"]) for item in tracks[\"items\"]]\n",
    "    while tracks[\"next\"]:\n",
    "        tracks = sp.next(tracks)\n",
    "        info.extend([(item[\"track\"][\"id\"], item[\"track\"][\"name\"], item[\"track\"][\"popularity\"]) for item in tracks[\"items\"]])\n",
    "    return info"
   ]
  },
  {
   "cell_type": "code",
   "execution_count": 86,
   "metadata": {},
   "outputs": [],
   "source": [
    "# Get (song_id, song_name, popularity) for num_tracks songs in given year\n",
    "# Goes through songs sequentially to get tracks\n",
    "def tracks_from_year(year, num_tracks):\n",
    "    tracks = sp.search(q='year:' + str(year), type='track', offset=0, limit=50)\n",
    "    print(\"Number of tracks in {}: {}\".format(year, tracks['tracks']['total']))\n",
    "    info = [(item[\"id\"], item[\"name\"], item[\"popularity\"]) for item in tracks[\"tracks\"][\"items\"]]\n",
    "    while tracks[\"tracks\"][\"next\"] and len(info) < num_tracks:\n",
    "        tracks = sp.next(tracks[\"tracks\"])\n",
    "        info.extend([(item[\"id\"], item[\"name\"], item[\"popularity\"]) for item in tracks[\"tracks\"][\"items\"]])\n",
    "        if len(info) % 1000 == 0:\n",
    "            print(\"Retrieved {} songs\".format(len(info)))\n",
    "    return info[:num_tracks]"
   ]
  },
  {
   "cell_type": "code",
   "execution_count": 87,
   "metadata": {},
   "outputs": [],
   "source": [
    "# Get (song_id, song_name, popularity) for num_tracks songs in a given year\n",
    "# Selects those songs randomly from the given year's top 10,000\n",
    "def random_tracks_from_year(year, num_tracks):\n",
    "    tracks = sp.search(q='year:' + str(year), type='track')\n",
    "    print(\"Number of tracks in {}: {}\".format(year, tracks['tracks']['total']))\n",
    "    max_track = min(tracks['tracks']['total'], 9999) # Spotify limits offset to 9999\n",
    "    infos = []\n",
    "    for _ in range(num_tracks):\n",
    "        track_num = random.randint(1, max_track) # May repeat songs\n",
    "        result = sp.search(q='year:' + str(year), type='track', offset=track_num, limit=1)\n",
    "        track = result['tracks']['items'][0]\n",
    "        info = (track['id'], track['name'], track['popularity'])\n",
    "        infos.append(info)\n",
    "    return infos"
   ]
  },
  {
   "cell_type": "code",
   "execution_count": 89,
   "metadata": {},
   "outputs": [
    {
     "name": "stdout",
     "output_type": "stream",
     "text": [
      "Number of tracks in 2017: 7461170\n",
      "Retrieved 1000 songs\n",
      "Retrieved 2000 songs\n",
      "Retrieved 3000 songs\n",
      "Retrieved 4000 songs\n",
      "Retrieved 5000 songs\n",
      "Retrieved 6000 songs\n",
      "Retrieved 7000 songs\n",
      "Retrieved 8000 songs\n",
      "Retrieved 9000 songs\n",
      "Retrieved 10000 songs\n",
      "Songs we use: 10000\n",
      "[('7m9OqQk4RVRkw9JJdeAw96', 'Jocelyn Flores', 93), ('7AQim7LbvFVZJE3O8TYgf2', 'Fuck Love (feat. Trippie Redd)', 91), ('3GVkPk8mqxz0itaAriG1L7', 'Everybody Dies In Their Nightmares', 89), ('0OgGn1ofaj55l2PcihQQGV', 'Drew Barrymore', 86), ('7sO5G9EABYOXQKNPNiE9NR', 'Ric Flair Drip (& Metro Boomin)', 87), ('7GX5flRQZVHRAGd6B4TmDO', 'XO TOUR Llif3', 88), ('7oJrVhiTPZGBXWPwhxjy9S', 'Lust', 85), ('5Z3GHaZ6ec9bsiI5BenrbY', 'Young Dumb & Broke', 87), ('0At2qAoaVjIwWNAqrscXli', \"Boo'd Up\", 85), ('21RzyxY3EFaxVy6K4RqaU9', 'Body', 86)]\n",
      "[('6BPO4rLBfsAJsdgxG4ufFx', 'The Lamp Is High', 50), ('6S1HT3w4F9rWrw8sqQuyR1', 'Потрачу', 57), ('7FQzzDpesa2sgsXkGMBRqz', 'Where We Go', 46), ('7LXCM5l6oRq0BXfgXTZz0S', 'El Fifty', 47), ('7zkXulA0S5cja2ADv5GzvL', 'Wheels On The Bus', 46), ('0wR1OGkMbzokpfnpdntAL5', 'politics', 46), ('10uqyl7h9RMDSHN1MDoWU4', 'Attention', 44), ('15Hadx0ODpsF2bAUUJO4A1', 'Rude Girl', 44), ('1tbQJsvQzT5KBx3sqgz51u', 'Only Songs', 44), ('2Png9Y1pcJs4n5UFAHpwtw', 'California Dreamin', 43)]\n"
     ]
    }
   ],
   "source": [
    "songs = tracks_from_year(2017, 10000)\n",
    "print(\"Songs we use: {}\".format(len(songs)))\n",
    "print(songs[:10])\n",
    "print(songs[-10:])"
   ]
  },
  {
   "cell_type": "code",
   "execution_count": 90,
   "metadata": {},
   "outputs": [
    {
     "data": {
      "text/plain": [
       "[{'danceability': 0.872,\n",
       "  'energy': 0.391,\n",
       "  'key': 0,\n",
       "  'loudness': -9.144,\n",
       "  'mode': 0,\n",
       "  'speechiness': 0.242,\n",
       "  'acousticness': 0.469,\n",
       "  'instrumentalness': 4.13e-06,\n",
       "  'liveness': 0.297,\n",
       "  'valence': 0.437,\n",
       "  'tempo': 134.021,\n",
       "  'type': 'audio_features',\n",
       "  'id': '7m9OqQk4RVRkw9JJdeAw96',\n",
       "  'uri': 'spotify:track:7m9OqQk4RVRkw9JJdeAw96',\n",
       "  'track_href': 'https://api.spotify.com/v1/tracks/7m9OqQk4RVRkw9JJdeAw96',\n",
       "  'analysis_url': 'https://api.spotify.com/v1/audio-analysis/7m9OqQk4RVRkw9JJdeAw96',\n",
       "  'duration_ms': 119133,\n",
       "  'time_signature': 4}]"
      ]
     },
     "execution_count": 90,
     "metadata": {},
     "output_type": "execute_result"
    }
   ],
   "source": [
    "sp.audio_features(songs[0][0])"
   ]
  },
  {
   "cell_type": "code",
   "execution_count": 91,
   "metadata": {},
   "outputs": [],
   "source": [
    "''' Returns a list of each track's audio features'''\n",
    "def features(songs):\n",
    "    all_feats = []\n",
    "    ids = [song[0] for song in songs]\n",
    "    # Spotify's audio_features can only return 50 songs at once\n",
    "    for i in range(0, len(songs), 50):\n",
    "        track_feats = sp.audio_features(ids[i:i+50])\n",
    "        for j in range(len(track_feats)):\n",
    "            track_feats[j]['name'] = songs[i+j][1]\n",
    "            track_feats[j]['popularity'] = songs[i+j][2]\n",
    "        all_feats.extend(track_feats)\n",
    "    return all_feats"
   ]
  },
  {
   "cell_type": "code",
   "execution_count": 92,
   "metadata": {},
   "outputs": [
    {
     "data": {
      "text/plain": [
       "{'danceability': 0.684,\n",
       " 'energy': 0.619,\n",
       " 'key': 10,\n",
       " 'loudness': -7.005,\n",
       " 'mode': 1,\n",
       " 'speechiness': 0.0386,\n",
       " 'acousticness': 0.0716,\n",
       " 'instrumentalness': 0,\n",
       " 'liveness': 0.122,\n",
       " 'valence': 0.284,\n",
       " 'tempo': 125.046,\n",
       " 'type': 'audio_features',\n",
       " 'id': '65fpYBrI8o2cfrwf2US4gq',\n",
       " 'uri': 'spotify:track:65fpYBrI8o2cfrwf2US4gq',\n",
       " 'track_href': 'https://api.spotify.com/v1/tracks/65fpYBrI8o2cfrwf2US4gq',\n",
       " 'analysis_url': 'https://api.spotify.com/v1/audio-analysis/65fpYBrI8o2cfrwf2US4gq',\n",
       " 'duration_ms': 217440,\n",
       " 'time_signature': 4,\n",
       " 'name': 'Rewrite The Stars',\n",
       " 'popularity': 83}"
      ]
     },
     "execution_count": 92,
     "metadata": {},
     "output_type": "execute_result"
    }
   ],
   "source": [
    "feats = features(songs)\n",
    "feats[100]"
   ]
  },
  {
   "cell_type": "markdown",
   "metadata": {},
   "source": [
    "## Training"
   ]
  },
  {
   "cell_type": "code",
   "execution_count": 93,
   "metadata": {},
   "outputs": [
    {
     "data": {
      "text/html": [
       "<div>\n",
       "<style scoped>\n",
       "    .dataframe tbody tr th:only-of-type {\n",
       "        vertical-align: middle;\n",
       "    }\n",
       "\n",
       "    .dataframe tbody tr th {\n",
       "        vertical-align: top;\n",
       "    }\n",
       "\n",
       "    .dataframe thead th {\n",
       "        text-align: right;\n",
       "    }\n",
       "</style>\n",
       "<table border=\"1\" class=\"dataframe\">\n",
       "  <thead>\n",
       "    <tr style=\"text-align: right;\">\n",
       "      <th></th>\n",
       "      <th>acousticness</th>\n",
       "      <th>analysis_url</th>\n",
       "      <th>danceability</th>\n",
       "      <th>duration_ms</th>\n",
       "      <th>energy</th>\n",
       "      <th>id</th>\n",
       "      <th>instrumentalness</th>\n",
       "      <th>key</th>\n",
       "      <th>liveness</th>\n",
       "      <th>loudness</th>\n",
       "      <th>mode</th>\n",
       "      <th>name</th>\n",
       "      <th>popularity</th>\n",
       "      <th>speechiness</th>\n",
       "      <th>tempo</th>\n",
       "      <th>time_signature</th>\n",
       "      <th>track_href</th>\n",
       "      <th>type</th>\n",
       "      <th>uri</th>\n",
       "      <th>valence</th>\n",
       "    </tr>\n",
       "  </thead>\n",
       "  <tbody>\n",
       "    <tr>\n",
       "      <th>6695</th>\n",
       "      <td>0.04350</td>\n",
       "      <td>https://api.spotify.com/v1/audio-analysis/1aeY...</td>\n",
       "      <td>0.280</td>\n",
       "      <td>260068</td>\n",
       "      <td>0.5450</td>\n",
       "      <td>1aeYve33HMLMBEhB3WVHNa</td>\n",
       "      <td>0.00273</td>\n",
       "      <td>4</td>\n",
       "      <td>0.0573</td>\n",
       "      <td>-7.732</td>\n",
       "      <td>0</td>\n",
       "      <td>Gallows</td>\n",
       "      <td>56</td>\n",
       "      <td>0.0529</td>\n",
       "      <td>146.098</td>\n",
       "      <td>4</td>\n",
       "      <td>https://api.spotify.com/v1/tracks/1aeYve33HMLM...</td>\n",
       "      <td>audio_features</td>\n",
       "      <td>spotify:track:1aeYve33HMLMBEhB3WVHNa</td>\n",
       "      <td>0.0395</td>\n",
       "    </tr>\n",
       "    <tr>\n",
       "      <th>9414</th>\n",
       "      <td>0.00689</td>\n",
       "      <td>https://api.spotify.com/v1/audio-analysis/6Xtr...</td>\n",
       "      <td>0.485</td>\n",
       "      <td>225813</td>\n",
       "      <td>0.9480</td>\n",
       "      <td>6XtrMjkNfRb0XjmlzefbJq</td>\n",
       "      <td>0.00000</td>\n",
       "      <td>0</td>\n",
       "      <td>0.2180</td>\n",
       "      <td>-2.680</td>\n",
       "      <td>1</td>\n",
       "      <td>No Future</td>\n",
       "      <td>50</td>\n",
       "      <td>0.1310</td>\n",
       "      <td>162.966</td>\n",
       "      <td>4</td>\n",
       "      <td>https://api.spotify.com/v1/tracks/6XtrMjkNfRb0...</td>\n",
       "      <td>audio_features</td>\n",
       "      <td>spotify:track:6XtrMjkNfRb0XjmlzefbJq</td>\n",
       "      <td>0.4810</td>\n",
       "    </tr>\n",
       "    <tr>\n",
       "      <th>5026</th>\n",
       "      <td>0.00619</td>\n",
       "      <td>https://api.spotify.com/v1/audio-analysis/5ZRY...</td>\n",
       "      <td>0.750</td>\n",
       "      <td>211875</td>\n",
       "      <td>0.5480</td>\n",
       "      <td>5ZRYax9cJzFlxc961BVGEH</td>\n",
       "      <td>0.00000</td>\n",
       "      <td>9</td>\n",
       "      <td>0.1560</td>\n",
       "      <td>-6.288</td>\n",
       "      <td>1</td>\n",
       "      <td>The Race - Remix</td>\n",
       "      <td>53</td>\n",
       "      <td>0.3580</td>\n",
       "      <td>160.084</td>\n",
       "      <td>4</td>\n",
       "      <td>https://api.spotify.com/v1/tracks/5ZRYax9cJzFl...</td>\n",
       "      <td>audio_features</td>\n",
       "      <td>spotify:track:5ZRYax9cJzFlxc961BVGEH</td>\n",
       "      <td>0.3770</td>\n",
       "    </tr>\n",
       "    <tr>\n",
       "      <th>6510</th>\n",
       "      <td>0.97200</td>\n",
       "      <td>https://api.spotify.com/v1/audio-analysis/08h8...</td>\n",
       "      <td>0.193</td>\n",
       "      <td>208040</td>\n",
       "      <td>0.0329</td>\n",
       "      <td>08h8ICqh9extUqzotddLRQ</td>\n",
       "      <td>0.92900</td>\n",
       "      <td>7</td>\n",
       "      <td>0.0978</td>\n",
       "      <td>-28.228</td>\n",
       "      <td>1</td>\n",
       "      <td>Saint-Saëns / Transc. Vidal: Le carnaval des a...</td>\n",
       "      <td>56</td>\n",
       "      <td>0.0460</td>\n",
       "      <td>82.165</td>\n",
       "      <td>3</td>\n",
       "      <td>https://api.spotify.com/v1/tracks/08h8ICqh9ext...</td>\n",
       "      <td>audio_features</td>\n",
       "      <td>spotify:track:08h8ICqh9extUqzotddLRQ</td>\n",
       "      <td>0.0366</td>\n",
       "    </tr>\n",
       "    <tr>\n",
       "      <th>4337</th>\n",
       "      <td>0.27000</td>\n",
       "      <td>https://api.spotify.com/v1/audio-analysis/3JvD...</td>\n",
       "      <td>0.664</td>\n",
       "      <td>195493</td>\n",
       "      <td>0.7880</td>\n",
       "      <td>3JvDAV3iV1KH0EmnfdU8kf</td>\n",
       "      <td>0.00000</td>\n",
       "      <td>5</td>\n",
       "      <td>0.2890</td>\n",
       "      <td>-4.607</td>\n",
       "      <td>1</td>\n",
       "      <td>Antecedentes De Culpa</td>\n",
       "      <td>64</td>\n",
       "      <td>0.1240</td>\n",
       "      <td>150.040</td>\n",
       "      <td>4</td>\n",
       "      <td>https://api.spotify.com/v1/tracks/3JvDAV3iV1KH...</td>\n",
       "      <td>audio_features</td>\n",
       "      <td>spotify:track:3JvDAV3iV1KH0EmnfdU8kf</td>\n",
       "      <td>0.8760</td>\n",
       "    </tr>\n",
       "  </tbody>\n",
       "</table>\n",
       "</div>"
      ],
      "text/plain": [
       "      acousticness                                       analysis_url  \\\n",
       "6695       0.04350  https://api.spotify.com/v1/audio-analysis/1aeY...   \n",
       "9414       0.00689  https://api.spotify.com/v1/audio-analysis/6Xtr...   \n",
       "5026       0.00619  https://api.spotify.com/v1/audio-analysis/5ZRY...   \n",
       "6510       0.97200  https://api.spotify.com/v1/audio-analysis/08h8...   \n",
       "4337       0.27000  https://api.spotify.com/v1/audio-analysis/3JvD...   \n",
       "\n",
       "      danceability  duration_ms  energy                      id  \\\n",
       "6695         0.280       260068  0.5450  1aeYve33HMLMBEhB3WVHNa   \n",
       "9414         0.485       225813  0.9480  6XtrMjkNfRb0XjmlzefbJq   \n",
       "5026         0.750       211875  0.5480  5ZRYax9cJzFlxc961BVGEH   \n",
       "6510         0.193       208040  0.0329  08h8ICqh9extUqzotddLRQ   \n",
       "4337         0.664       195493  0.7880  3JvDAV3iV1KH0EmnfdU8kf   \n",
       "\n",
       "      instrumentalness  key  liveness  loudness  mode  \\\n",
       "6695           0.00273    4    0.0573    -7.732     0   \n",
       "9414           0.00000    0    0.2180    -2.680     1   \n",
       "5026           0.00000    9    0.1560    -6.288     1   \n",
       "6510           0.92900    7    0.0978   -28.228     1   \n",
       "4337           0.00000    5    0.2890    -4.607     1   \n",
       "\n",
       "                                                   name  popularity  \\\n",
       "6695                                            Gallows          56   \n",
       "9414                                          No Future          50   \n",
       "5026                                   The Race - Remix          53   \n",
       "6510  Saint-Saëns / Transc. Vidal: Le carnaval des a...          56   \n",
       "4337                              Antecedentes De Culpa          64   \n",
       "\n",
       "      speechiness    tempo  time_signature  \\\n",
       "6695       0.0529  146.098               4   \n",
       "9414       0.1310  162.966               4   \n",
       "5026       0.3580  160.084               4   \n",
       "6510       0.0460   82.165               3   \n",
       "4337       0.1240  150.040               4   \n",
       "\n",
       "                                             track_href            type  \\\n",
       "6695  https://api.spotify.com/v1/tracks/1aeYve33HMLM...  audio_features   \n",
       "9414  https://api.spotify.com/v1/tracks/6XtrMjkNfRb0...  audio_features   \n",
       "5026  https://api.spotify.com/v1/tracks/5ZRYax9cJzFl...  audio_features   \n",
       "6510  https://api.spotify.com/v1/tracks/08h8ICqh9ext...  audio_features   \n",
       "4337  https://api.spotify.com/v1/tracks/3JvDAV3iV1KH...  audio_features   \n",
       "\n",
       "                                       uri  valence  \n",
       "6695  spotify:track:1aeYve33HMLMBEhB3WVHNa   0.0395  \n",
       "9414  spotify:track:6XtrMjkNfRb0XjmlzefbJq   0.4810  \n",
       "5026  spotify:track:5ZRYax9cJzFlxc961BVGEH   0.3770  \n",
       "6510  spotify:track:08h8ICqh9extUqzotddLRQ   0.0366  \n",
       "4337  spotify:track:3JvDAV3iV1KH0EmnfdU8kf   0.8760  "
      ]
     },
     "execution_count": 93,
     "metadata": {},
     "output_type": "execute_result"
    }
   ],
   "source": [
    "data = pd.DataFrame(feats)\n",
    "data = data.sample(frac=1)\n",
    "data.head()"
   ]
  },
  {
   "cell_type": "code",
   "execution_count": 94,
   "metadata": {},
   "outputs": [],
   "source": [
    "features = [\"acousticness\", \"danceability\", \"energy\", \n",
    "            \"loudness\", \"speechiness\", \"tempo\", \"valence\"]"
   ]
  },
  {
   "cell_type": "code",
   "execution_count": 95,
   "metadata": {},
   "outputs": [
    {
     "name": "stdout",
     "output_type": "stream",
     "text": [
      "Training size: 8500, Test size: 1500\n"
     ]
    }
   ],
   "source": [
    "train, test = train_test_split(data, test_size=0.15)\n",
    "x_train, y_train = train[features], train[\"popularity\"]\n",
    "x_test, y_test = test[features], test[\"popularity\"]\n",
    "print(\"Training size: {}, Test size: {}\".format(len(train), len(test)))"
   ]
  },
  {
   "cell_type": "code",
   "execution_count": 96,
   "metadata": {
    "scrolled": true
   },
   "outputs": [
    {
     "name": "stderr",
     "output_type": "stream",
     "text": [
      "/Users/etang/dev/SoundScorer221/venv/lib/python3.6/site-packages/sklearn/linear_model/base.py:485: RuntimeWarning: internal gelsd driver lwork query error, required iwork dimension not returned. This is likely the result of LAPACK bug 0038, fixed in LAPACK 3.2.2 (released July 21, 2010). Falling back to 'gelss' driver.\n",
      "  linalg.lstsq(X, y)\n"
     ]
    },
    {
     "data": {
      "text/plain": [
       "LinearRegression(copy_X=True, fit_intercept=True, n_jobs=None,\n",
       "         normalize=False)"
      ]
     },
     "execution_count": 96,
     "metadata": {},
     "output_type": "execute_result"
    }
   ],
   "source": [
    "lin_mod = LinearRegression()\n",
    "lin_mod.fit(x_train, y_train)"
   ]
  },
  {
   "cell_type": "code",
   "execution_count": 99,
   "metadata": {},
   "outputs": [
    {
     "name": "stdout",
     "output_type": "stream",
     "text": [
      "Mean Squared Error: 61.10799458156196\n"
     ]
    }
   ],
   "source": [
    "test_preds = lin_mod.predict(x_test)\n",
    "print(\"Mean Squared Error: {}\".format(mean_squared_error(test_preds, y_test)))"
   ]
  },
  {
   "cell_type": "code",
   "execution_count": null,
   "metadata": {},
   "outputs": [],
   "source": []
  }
 ],
 "metadata": {
  "kernelspec": {
   "display_name": "Python 3",
   "language": "python",
   "name": "python3"
  },
  "language_info": {
   "codemirror_mode": {
    "name": "ipython",
    "version": 3
   },
   "file_extension": ".py",
   "mimetype": "text/x-python",
   "name": "python",
   "nbconvert_exporter": "python",
   "pygments_lexer": "ipython3",
   "version": "3.6.5"
  }
 },
 "nbformat": 4,
 "nbformat_minor": 2
}
