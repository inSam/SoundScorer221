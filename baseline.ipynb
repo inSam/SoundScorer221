{
 "cells": [
  {
   "cell_type": "code",
   "execution_count": 10,
   "metadata": {},
   "outputs": [],
   "source": [
    "import numpy as np\n",
    "import pandas as pd\n",
    "import json\n",
    "\n",
    "from sklearn.linear_model import LinearRegression\n",
    "from sklearn.svm import SVR\n",
    "from sklearn.model_selection import train_test_split\n",
    "from sklearn.metrics import accuracy_score\n",
    "from sklearn.metrics import mean_squared_error, r2_score\n",
    "\n",
    "from matplotlib import pyplot as plt\n",
    "import seaborn as sns\n",
    "\n",
    "import itertools\n",
    "import random\n",
    "\n",
    "import spotipy\n",
    "from spotipy.oauth2 import SpotifyClientCredentials\n",
    "import util\n",
    "\n",
    "%matplotlib inline"
   ]
  },
  {
   "cell_type": "markdown",
   "metadata": {},
   "source": [
    "## Pull Spotify Data"
   ]
  },
  {
   "cell_type": "code",
   "execution_count": 11,
   "metadata": {},
   "outputs": [],
   "source": [
    "CLIENT_ID=\"810e2eec841546269c49f338f1be189a\"\n",
    "CLIENT_SECRET=\"764290d0ab0f4f4484b0d4c7b701bdee\"\n",
    "\n",
    "token = SpotifyClientCredentials(client_id=CLIENT_ID, client_secret=CLIENT_SECRET)\n",
    "\n",
    "cache_token = token.get_access_token()\n",
    "sp = spotipy.Spotify(cache_token)"
   ]
  },
  {
   "cell_type": "code",
   "execution_count": 12,
   "metadata": {},
   "outputs": [
    {
     "name": "stdout",
     "output_type": "stream",
     "text": [
      "Loaded 7473 songs from data/tracks.json\n",
      "First ten songs: [['7wBJfHzpfI3032CSD7CE2m', 'STARGAZING', 87], ['7KZ5MMVgBVox9ycroB2UrI', 'CAROUSEL', 78], ['2xLMifQCjDGFmkHkpNLD9h', 'SICKO MODE', 96], ['4SZepBIPDRwPaHIjAKwRDb', 'R.I.P. SCREW', 78], ['1xYpVRspgaLxdJLOTQkTjg', 'STOP TRYING TO BE GOD', 79], ['6OaVWaGfhXn70ZJfdVcabn', 'NO BYSTANDERS', 79], ['6NMtzpDQBTOfJwMzgMX0zl', 'SKELETONS', 76], ['20MuVazoNMv6xjKPnRFOxG', 'WAKE UP', 80], ['11kDth1aKUEUMq9r1pqyds', '5% TINT', 77], ['6BJbOXDlgVAXSaq6wYFYT2', 'NC-17', 76]]\n"
     ]
    }
   ],
   "source": [
    "TRACK_DATA_PATH = \"data/tracks.json\"\n",
    "with open(TRACK_DATA_PATH,'r') as ff:\n",
    "    songs = json.load(ff)\n",
    "print(\"Loaded {} songs from {}\".format(len(songs), TRACK_DATA_PATH))\n",
    "print(\"First ten songs: {}\".format(songs[:10]))"
   ]
  },
  {
   "cell_type": "code",
   "execution_count": 21,
   "metadata": {},
   "outputs": [
    {
     "data": {
      "text/plain": [
       "<matplotlib.axes._subplots.AxesSubplot at 0x112a13128>"
      ]
     },
     "execution_count": 21,
     "metadata": {},
     "output_type": "execute_result"
    },
    {
     "data": {
      "image/png": "[encoded data removed]",
      "text/plain": [
       "<Figure size 432x288 with 1 Axes>"
      ]
     },
     "metadata": {
      "needs_background": "light"
     },
     "output_type": "display_data"
    }
   ],
   "source": [
    "# Plot popularity distribution\n",
    "sns.distplot([s[2] for s in songs], rug=False, kde=False, axlabel=\"Popularity\")"
   ]
  },
  {
   "cell_type": "markdown",
   "metadata": {},
   "source": [
    "## Feature Extraction"
   ]
  },
  {
   "cell_type": "code",
   "execution_count": 9,
   "metadata": {},
   "outputs": [
    {
     "data": {
      "text/plain": [
       "[{'danceability': 0.487,\n",
       "  'energy': 0.789,\n",
       "  'key': 8,\n",
       "  'loudness': -3.69,\n",
       "  'mode': 1,\n",
       "  'speechiness': 0.044,\n",
       "  'acousticness': 0.00947,\n",
       "  'instrumentalness': 4.05e-06,\n",
       "  'liveness': 0.189,\n",
       "  'valence': 0.0564,\n",
       "  'tempo': 150.007,\n",
       "  'type': 'audio_features',\n",
       "  'id': '7wBJfHzpfI3032CSD7CE2m',\n",
       "  'uri': 'spotify:track:7wBJfHzpfI3032CSD7CE2m',\n",
       "  'track_href': 'https://api.spotify.com/v1/tracks/7wBJfHzpfI3032CSD7CE2m',\n",
       "  'analysis_url': 'https://api.spotify.com/v1/audio-analysis/7wBJfHzpfI3032CSD7CE2m',\n",
       "  'duration_ms': 270715,\n",
       "  'time_signature': 4}]"
      ]
     },
     "execution_count": 9,
     "metadata": {},
     "output_type": "execute_result"
    }
   ],
   "source": [
    "sp.audio_features(songs[0][0])"
   ]
  },
  {
   "cell_type": "code",
   "execution_count": 10,
   "metadata": {},
   "outputs": [],
   "source": [
    "''' Returns a list of each track's audio features'''\n",
    "def features(songs):\n",
    "    all_feats = []\n",
    "    ids = [song[0] for song in songs]\n",
    "    # Spotify's audio_features can only return 50 songs at once\n",
    "    for i in range(0, len(songs), 50):\n",
    "        track_feats = sp.audio_features(ids[i:i+50])\n",
    "        for j in range(len(track_feats)):\n",
    "            track_feats[j]['name'] = songs[i+j][1]\n",
    "            track_feats[j]['popularity'] = songs[i+j][2]\n",
    "        all_feats.extend(track_feats)\n",
    "    return all_feats"
   ]
  },
  {
   "cell_type": "code",
   "execution_count": 11,
   "metadata": {},
   "outputs": [
    {
     "data": {
      "text/plain": [
       "{'danceability': 0.638,\n",
       " 'energy': 0.367,\n",
       " 'key': 4,\n",
       " 'loudness': -7.906,\n",
       " 'mode': 1,\n",
       " 'speechiness': 0.0266,\n",
       " 'acousticness': 0.84,\n",
       " 'instrumentalness': 0,\n",
       " 'liveness': 0.0999,\n",
       " 'valence': 0.219,\n",
       " 'tempo': 71.957,\n",
       " 'type': 'audio_features',\n",
       " 'id': '2VIPU72L6tIR4w8J8ap6Kp',\n",
       " 'uri': 'spotify:track:2VIPU72L6tIR4w8J8ap6Kp',\n",
       " 'track_href': 'https://api.spotify.com/v1/tracks/2VIPU72L6tIR4w8J8ap6Kp',\n",
       " 'analysis_url': 'https://api.spotify.com/v1/audio-analysis/2VIPU72L6tIR4w8J8ap6Kp',\n",
       " 'duration_ms': 217120,\n",
       " 'time_signature': 4,\n",
       " 'name': 'Mercy',\n",
       " 'popularity': 75}"
      ]
     },
     "execution_count": 11,
     "metadata": {},
     "output_type": "execute_result"
    }
   ],
   "source": [
    "feats = features(songs)\n",
    "feats[100]"
   ]
  },
  {
   "cell_type": "code",
   "execution_count": 12,
   "metadata": {},
   "outputs": [
    {
     "data": {
      "text/html": [
       "<div>\n",
       "<style scoped>\n",
       "    .dataframe tbody tr th:only-of-type {\n",
       "        vertical-align: middle;\n",
       "    }\n",
       "\n",
       "    .dataframe tbody tr th {\n",
       "        vertical-align: top;\n",
       "    }\n",
       "\n",
       "    .dataframe thead th {\n",
       "        text-align: right;\n",
       "    }\n",
       "</style>\n",
       "<table border=\"1\" class=\"dataframe\">\n",
       "  <thead>\n",
       "    <tr style=\"text-align: right;\">\n",
       "      <th></th>\n",
       "      <th>acousticness</th>\n",
       "      <th>analysis_url</th>\n",
       "      <th>danceability</th>\n",
       "      <th>duration_ms</th>\n",
       "      <th>energy</th>\n",
       "      <th>id</th>\n",
       "      <th>instrumentalness</th>\n",
       "      <th>key</th>\n",
       "      <th>liveness</th>\n",
       "      <th>loudness</th>\n",
       "      <th>mode</th>\n",
       "      <th>name</th>\n",
       "      <th>popularity</th>\n",
       "      <th>speechiness</th>\n",
       "      <th>tempo</th>\n",
       "      <th>time_signature</th>\n",
       "      <th>track_href</th>\n",
       "      <th>type</th>\n",
       "      <th>uri</th>\n",
       "      <th>valence</th>\n",
       "    </tr>\n",
       "  </thead>\n",
       "  <tbody>\n",
       "    <tr>\n",
       "      <th>7375</th>\n",
       "      <td>0.80400</td>\n",
       "      <td>https://api.spotify.com/v1/audio-analysis/3uxy...</td>\n",
       "      <td>0.537</td>\n",
       "      <td>200663</td>\n",
       "      <td>0.600</td>\n",
       "      <td>3uxyOfvxzjhzMKAOU5S6TZ</td>\n",
       "      <td>0.000000</td>\n",
       "      <td>11</td>\n",
       "      <td>0.1210</td>\n",
       "      <td>-7.528</td>\n",
       "      <td>0</td>\n",
       "      <td>Slow Down</td>\n",
       "      <td>45</td>\n",
       "      <td>0.4110</td>\n",
       "      <td>84.349</td>\n",
       "      <td>4</td>\n",
       "      <td>https://api.spotify.com/v1/tracks/3uxyOfvxzjhz...</td>\n",
       "      <td>audio_features</td>\n",
       "      <td>spotify:track:3uxyOfvxzjhzMKAOU5S6TZ</td>\n",
       "      <td>0.258</td>\n",
       "    </tr>\n",
       "    <tr>\n",
       "      <th>4541</th>\n",
       "      <td>0.00436</td>\n",
       "      <td>https://api.spotify.com/v1/audio-analysis/1C1O...</td>\n",
       "      <td>0.640</td>\n",
       "      <td>185947</td>\n",
       "      <td>0.497</td>\n",
       "      <td>1C1OBpwB6tRViTiWE2ZgNR</td>\n",
       "      <td>0.000000</td>\n",
       "      <td>10</td>\n",
       "      <td>0.0858</td>\n",
       "      <td>-7.111</td>\n",
       "      <td>0</td>\n",
       "      <td>DNA.</td>\n",
       "      <td>51</td>\n",
       "      <td>0.3550</td>\n",
       "      <td>139.924</td>\n",
       "      <td>4</td>\n",
       "      <td>https://api.spotify.com/v1/tracks/1C1OBpwB6tRV...</td>\n",
       "      <td>audio_features</td>\n",
       "      <td>spotify:track:1C1OBpwB6tRViTiWE2ZgNR</td>\n",
       "      <td>0.424</td>\n",
       "    </tr>\n",
       "    <tr>\n",
       "      <th>8671</th>\n",
       "      <td>0.18800</td>\n",
       "      <td>https://api.spotify.com/v1/audio-analysis/1SuV...</td>\n",
       "      <td>0.502</td>\n",
       "      <td>195880</td>\n",
       "      <td>0.901</td>\n",
       "      <td>1SuVJpFhGQOSBAB6VUpHYH</td>\n",
       "      <td>0.000049</td>\n",
       "      <td>7</td>\n",
       "      <td>0.2800</td>\n",
       "      <td>-4.467</td>\n",
       "      <td>1</td>\n",
       "      <td>The Boy With the Thorn In His Side - 2017 Master</td>\n",
       "      <td>54</td>\n",
       "      <td>0.0459</td>\n",
       "      <td>119.022</td>\n",
       "      <td>4</td>\n",
       "      <td>https://api.spotify.com/v1/tracks/1SuVJpFhGQOS...</td>\n",
       "      <td>audio_features</td>\n",
       "      <td>spotify:track:1SuVJpFhGQOSBAB6VUpHYH</td>\n",
       "      <td>0.821</td>\n",
       "    </tr>\n",
       "    <tr>\n",
       "      <th>599</th>\n",
       "      <td>0.75000</td>\n",
       "      <td>https://api.spotify.com/v1/audio-analysis/2tgQ...</td>\n",
       "      <td>0.536</td>\n",
       "      <td>224947</td>\n",
       "      <td>0.574</td>\n",
       "      <td>2tgQaL85WoRfgEa4hFQgrE</td>\n",
       "      <td>0.002770</td>\n",
       "      <td>7</td>\n",
       "      <td>0.1050</td>\n",
       "      <td>-6.705</td>\n",
       "      <td>1</td>\n",
       "      <td>Feathered Indians</td>\n",
       "      <td>65</td>\n",
       "      <td>0.0254</td>\n",
       "      <td>87.194</td>\n",
       "      <td>4</td>\n",
       "      <td>https://api.spotify.com/v1/tracks/2tgQaL85WoRf...</td>\n",
       "      <td>audio_features</td>\n",
       "      <td>spotify:track:2tgQaL85WoRfgEa4hFQgrE</td>\n",
       "      <td>0.877</td>\n",
       "    </tr>\n",
       "    <tr>\n",
       "      <th>3862</th>\n",
       "      <td>0.93900</td>\n",
       "      <td>https://api.spotify.com/v1/audio-analysis/0QbT...</td>\n",
       "      <td>0.782</td>\n",
       "      <td>84315</td>\n",
       "      <td>0.127</td>\n",
       "      <td>0QbTsXbzGOnxKW5PQFR39f</td>\n",
       "      <td>0.781000</td>\n",
       "      <td>7</td>\n",
       "      <td>0.1250</td>\n",
       "      <td>-20.939</td>\n",
       "      <td>1</td>\n",
       "      <td>summer nights.</td>\n",
       "      <td>61</td>\n",
       "      <td>0.6680</td>\n",
       "      <td>83.989</td>\n",
       "      <td>4</td>\n",
       "      <td>https://api.spotify.com/v1/tracks/0QbTsXbzGOnx...</td>\n",
       "      <td>audio_features</td>\n",
       "      <td>spotify:track:0QbTsXbzGOnxKW5PQFR39f</td>\n",
       "      <td>0.390</td>\n",
       "    </tr>\n",
       "  </tbody>\n",
       "</table>\n",
       "</div>"
      ],
      "text/plain": [
       "      acousticness                                       analysis_url  \\\n",
       "7375       0.80400  https://api.spotify.com/v1/audio-analysis/3uxy...   \n",
       "4541       0.00436  https://api.spotify.com/v1/audio-analysis/1C1O...   \n",
       "8671       0.18800  https://api.spotify.com/v1/audio-analysis/1SuV...   \n",
       "599        0.75000  https://api.spotify.com/v1/audio-analysis/2tgQ...   \n",
       "3862       0.93900  https://api.spotify.com/v1/audio-analysis/0QbT...   \n",
       "\n",
       "      danceability  duration_ms  energy                      id  \\\n",
       "7375         0.537       200663   0.600  3uxyOfvxzjhzMKAOU5S6TZ   \n",
       "4541         0.640       185947   0.497  1C1OBpwB6tRViTiWE2ZgNR   \n",
       "8671         0.502       195880   0.901  1SuVJpFhGQOSBAB6VUpHYH   \n",
       "599          0.536       224947   0.574  2tgQaL85WoRfgEa4hFQgrE   \n",
       "3862         0.782        84315   0.127  0QbTsXbzGOnxKW5PQFR39f   \n",
       "\n",
       "      instrumentalness  key  liveness  loudness  mode  \\\n",
       "7375          0.000000   11    0.1210    -7.528     0   \n",
       "4541          0.000000   10    0.0858    -7.111     0   \n",
       "8671          0.000049    7    0.2800    -4.467     1   \n",
       "599           0.002770    7    0.1050    -6.705     1   \n",
       "3862          0.781000    7    0.1250   -20.939     1   \n",
       "\n",
       "                                                  name  popularity  \\\n",
       "7375                                         Slow Down          45   \n",
       "4541                                              DNA.          51   \n",
       "8671  The Boy With the Thorn In His Side - 2017 Master          54   \n",
       "599                                  Feathered Indians          65   \n",
       "3862                                    summer nights.          61   \n",
       "\n",
       "      speechiness    tempo  time_signature  \\\n",
       "7375       0.4110   84.349               4   \n",
       "4541       0.3550  139.924               4   \n",
       "8671       0.0459  119.022               4   \n",
       "599        0.0254   87.194               4   \n",
       "3862       0.6680   83.989               4   \n",
       "\n",
       "                                             track_href            type  \\\n",
       "7375  https://api.spotify.com/v1/tracks/3uxyOfvxzjhz...  audio_features   \n",
       "4541  https://api.spotify.com/v1/tracks/1C1OBpwB6tRV...  audio_features   \n",
       "8671  https://api.spotify.com/v1/tracks/1SuVJpFhGQOS...  audio_features   \n",
       "599   https://api.spotify.com/v1/tracks/2tgQaL85WoRf...  audio_features   \n",
       "3862  https://api.spotify.com/v1/tracks/0QbTsXbzGOnx...  audio_features   \n",
       "\n",
       "                                       uri  valence  \n",
       "7375  spotify:track:3uxyOfvxzjhzMKAOU5S6TZ    0.258  \n",
       "4541  spotify:track:1C1OBpwB6tRViTiWE2ZgNR    0.424  \n",
       "8671  spotify:track:1SuVJpFhGQOSBAB6VUpHYH    0.821  \n",
       "599   spotify:track:2tgQaL85WoRfgEa4hFQgrE    0.877  \n",
       "3862  spotify:track:0QbTsXbzGOnxKW5PQFR39f    0.390  "
      ]
     },
     "execution_count": 12,
     "metadata": {},
     "output_type": "execute_result"
    }
   ],
   "source": [
    "data = pd.DataFrame(feats)\n",
    "data = data.sample(frac=1)\n",
    "data.head()"
   ]
  },
  {
   "cell_type": "code",
   "execution_count": 13,
   "metadata": {},
   "outputs": [],
   "source": [
    "features = [\"acousticness\", \"danceability\", \"energy\", \n",
    "            \"loudness\", \"speechiness\", \"tempo\", \"valence\"]"
   ]
  },
  {
   "cell_type": "code",
   "execution_count": 14,
   "metadata": {},
   "outputs": [
    {
     "name": "stdout",
     "output_type": "stream",
     "text": [
      "Training size: 8500, Test size: 1500\n"
     ]
    }
   ],
   "source": [
    "train, test = train_test_split(data, test_size=0.15)\n",
    "x_train, y_train = train[features], train[\"popularity\"]\n",
    "x_test, y_test = test[features], test[\"popularity\"]\n",
    "print(\"Training size: {}, Test size: {}\".format(len(train), len(test)))"
   ]
  },
  {
   "cell_type": "markdown",
   "metadata": {},
   "source": [
    "## Baseline (Linear Regression)"
   ]
  },
  {
   "cell_type": "code",
   "execution_count": 17,
   "metadata": {
    "scrolled": true
   },
   "outputs": [
    {
     "data": {
      "text/plain": [
       "LinearRegression(copy_X=True, fit_intercept=True, n_jobs=None,\n",
       "         normalize=False)"
      ]
     },
     "execution_count": 17,
     "metadata": {},
     "output_type": "execute_result"
    }
   ],
   "source": [
    "lin_mod = LinearRegression()\n",
    "lin_mod.fit(x_train, y_train)"
   ]
  },
  {
   "cell_type": "code",
   "execution_count": 18,
   "metadata": {},
   "outputs": [
    {
     "name": "stdout",
     "output_type": "stream",
     "text": [
      "Mean Squared Error: 67.99115776685458\n",
      "Variance Score: -112.49328819396099\n"
     ]
    }
   ],
   "source": [
    "test_preds = lin_mod.predict(x_test)\n",
    "print(\"Mean Squared Error: {}\".format(mean_squared_error(test_preds, y_test)))\n",
    "print(\"Variance Score: {}\".format(r2_score(test_preds, y_test)))"
   ]
  },
  {
   "cell_type": "code",
   "execution_count": 19,
   "metadata": {},
   "outputs": [
    {
     "name": "stdout",
     "output_type": "stream",
     "text": [
      "Model coefficients: {'acousticness': 0.15630271998958647, 'danceability': 4.043510358512564, 'energy': -1.0842767017857033, 'loudness': 0.03864707700303794, 'speechiness': -3.3099628374622294, 'tempo': -0.004667247329210432, 'valence': -0.7306622754990316}\n"
     ]
    }
   ],
   "source": [
    "coeffs = dict(zip(features, lin_mod.coef_))\n",
    "print(\"Model coefficients: {}\".format(coeffs))"
   ]
  },
  {
   "cell_type": "markdown",
   "metadata": {},
   "source": [
    "## SVM "
   ]
  },
  {
   "cell_type": "code",
   "execution_count": 22,
   "metadata": {},
   "outputs": [
    {
     "data": {
      "text/plain": [
       "SVR(C=1.0, cache_size=200, coef0=0.0, degree=3, epsilon=0.1, gamma='scale',\n",
       "  kernel='rbf', max_iter=-1, shrinking=True, tol=0.001, verbose=False)"
      ]
     },
     "execution_count": 22,
     "metadata": {},
     "output_type": "execute_result"
    }
   ],
   "source": [
    "svr = SVR(gamma='scale')\n",
    "svr.fit(x_train, y_train)"
   ]
  },
  {
   "cell_type": "code",
   "execution_count": 23,
   "metadata": {},
   "outputs": [
    {
     "name": "stdout",
     "output_type": "stream",
     "text": [
      "SVM Mean Squared Error: 69.73567112611396\n",
      "SVM Variance Score: -134.34559581928067\n"
     ]
    }
   ],
   "source": [
    "test_preds = svr.predict(x_test)\n",
    "print(\"SVM Mean Squared Error: {}\".format(mean_squared_error(test_preds, y_test)))\n",
    "print(\"SVM Variance Score: {}\".format(r2_score(test_preds, y_test)))"
   ]
  },
  {
   "cell_type": "code",
   "execution_count": null,
   "metadata": {},
   "outputs": [],
   "source": []
  }
 ],
 "metadata": {
  "kernelspec": {
   "display_name": "Python 3",
   "language": "python",
   "name": "python3"
  },
  "language_info": {
   "codemirror_mode": {
    "name": "ipython",
    "version": 3
   },
   "file_extension": ".py",
   "mimetype": "text/x-python",
   "name": "python",
   "nbconvert_exporter": "python",
   "pygments_lexer": "ipython3",
   "version": "3.6.5"
  }
 },
 "nbformat": 4,
 "nbformat_minor": 2
}
