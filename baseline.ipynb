{
 "cells": [
  {
   "cell_type": "code",
   "execution_count": 35,
   "metadata": {},
   "outputs": [],
   "source": [
    "import numpy as np\n",
    "import pandas as pd\n",
    "\n",
    "import json\n",
    "import itertools\n",
    "import random\n",
    "from collections import Counter\n",
    "\n",
    "from sklearn.model_selection import train_test_split\n",
    "from sklearn.metrics import accuracy_score\n",
    "from sklearn.metrics import mean_squared_error, r2_score\n",
    "\n",
    "from sklearn.linear_model import LinearRegression\n",
    "from sklearn.svm import SVR\n",
    "from sklearn.ensemble import RandomForestRegressor\n",
    "from sklearn.ensemble import GradientBoostingRegressor\n",
    "\n",
    "from matplotlib import pyplot as plt\n",
    "import seaborn as sns\n",
    "\n",
    "import spotipy\n",
    "from spotipy.oauth2 import SpotifyClientCredentials\n",
    "import util\n",
    "\n",
    "%matplotlib inline"
   ]
  },
  {
   "cell_type": "markdown",
   "metadata": {},
   "source": [
    "## Pull Spotify Data"
   ]
  },
  {
   "cell_type": "code",
   "execution_count": 2,
   "metadata": {},
   "outputs": [],
   "source": [
    "CLIENT_ID=\"810e2eec841546269c49f338f1be189a\"\n",
    "CLIENT_SECRET=\"764290d0ab0f4f4484b0d4c7b701bdee\"\n",
    "\n",
    "token = SpotifyClientCredentials(client_id=CLIENT_ID, client_secret=CLIENT_SECRET)\n",
    "\n",
    "cache_token = token.get_access_token()\n",
    "sp = spotipy.Spotify(cache_token)"
   ]
  },
  {
   "cell_type": "code",
   "execution_count": 3,
   "metadata": {},
   "outputs": [
    {
     "name": "stdout",
     "output_type": "stream",
     "text": [
      "Loaded 11841 songs from data/tracks_5kalbums.json\n",
      "First ten songs: [['000InFFKfurNhrCj7yfMdM', 'Park Bench People', 1], ['003eoIwxETJujVWmNFMoZy', 'Growing Pains', 70], ['00518PumkDdn560MsfLofT', 'The Fuss', 46], ['005FoVr63RI753jsNjfLax', 'Black Panther', 31], ['009Mof2o4aS1P2l3FbaEpa', 'Quetzal', 30], ['009TjPzPuetzFiJNnBEVrV', 'Used and Abused', 51], ['00I0pcNkN3IOX3fsYbaB4N', 'Infatuation', 68], ['00KiXBZT9vf1XhcqkFrzug', 'Downward', 46], ['00KjOnN3U40e3lXFUOue7h', '10AM/Save The World (feat. Gucci Mane)', 69], ['00Le8soPbjYT0TxmXflHmi', 'A God Who Sees (Me & Lucy)', 39]]\n"
     ]
    }
   ],
   "source": [
    "# Pull data\n",
    "TRACK_DATA_PATH = \"data/tracks_5kalbums.json\"\n",
    "with open(TRACK_DATA_PATH,'r') as ff:\n",
    "    songs = json.load(ff)\n",
    "    \n",
    "# Remove duplicates\n",
    "songs.sort()\n",
    "songs = list(s for s,_ in itertools.groupby(songs))\n",
    "print(\"Loaded {} songs from {}\".format(len(songs), TRACK_DATA_PATH))\n",
    "print(\"First ten songs: {}\".format(songs[:10]))"
   ]
  },
  {
   "cell_type": "markdown",
   "metadata": {},
   "source": [
    "## Data Exploration"
   ]
  },
  {
   "cell_type": "code",
   "execution_count": 4,
   "metadata": {},
   "outputs": [
    {
     "name": "stderr",
     "output_type": "stream",
     "text": [
      "/Users/etang/dev/SoundScorer221/venv/lib/python3.6/site-packages/scipy/stats/stats.py:1713: FutureWarning: Using a non-tuple sequence for multidimensional indexing is deprecated; use `arr[tuple(seq)]` instead of `arr[seq]`. In the future this will be interpreted as an array index, `arr[np.array(seq)]`, which will result either in an error or a different result.\n",
      "  return np.add.reduce(sorted[indexer] * weights, axis=axis) / sumval\n"
     ]
    },
    {
     "data": {
      "text/plain": [
       "<matplotlib.axes._subplots.AxesSubplot at 0x1138ac3c8>"
      ]
     },
     "execution_count": 4,
     "metadata": {},
     "output_type": "execute_result"
    },
    {
     "data": {
      "image/png": "[encoded data removed]",
      "text/plain": [
       "<Figure size 432x288 with 1 Axes>"
      ]
     },
     "metadata": {
      "needs_background": "light"
     },
     "output_type": "display_data"
    }
   ],
   "source": [
    "# Plot popularity distribution\n",
    "sns.distplot([s[2] for s in songs], rug=False, kde=False, axlabel=\"Popularity\")"
   ]
  },
  {
   "cell_type": "code",
   "execution_count": 5,
   "metadata": {},
   "outputs": [
    {
     "data": {
      "text/plain": [
       "[['0s3nnoMeVWz3989MkNQiRf', 'Lucid Dreams', 93],\n",
       " ['14JzyD6FlBD5z0wV5P07YI', \"when the party's over\", 93],\n",
       " ['1xzBco0xcoJEDXktl7Jxrr', 'Mo Bamba', 93],\n",
       " ['3EPXxR3ImUwfayaurPi3cm', 'Be Alright', 93],\n",
       " ['0d2iYfpKoM0QCKvcLCkBao', 'Eastside (with Halsey & Khalid)', 94],\n",
       " ['1A6OTy97kk0mMdm78rHsm8',\n",
       "  'Sunflower - Spider-Man: Into the Spider-Verse',\n",
       "  95],\n",
       " ['2xLMifQCjDGFmkHkpNLD9h', 'SICKO MODE', 95],\n",
       " ['7l3E7lcozEodtVsSTCkcaA', 'ZEZE (feat. Travis Scott & Offset)', 95],\n",
       " ['5p7ujcrUXASCNwRaWNHR1C', 'Without Me', 96],\n",
       " ['4w8niZpiMy6qz1mntFA5uM',\n",
       "  'Taki Taki (with Selena Gomez, Ozuna & Cardi B)',\n",
       "  99]]"
      ]
     },
     "execution_count": 5,
     "metadata": {},
     "output_type": "execute_result"
    }
   ],
   "source": [
    "# Extract top 5 most popular songs\n",
    "sorted(songs, key=lambda song: song[2])[-10:]"
   ]
  },
  {
   "cell_type": "markdown",
   "metadata": {},
   "source": [
    "## Feature Extraction"
   ]
  },
  {
   "cell_type": "code",
   "execution_count": 6,
   "metadata": {},
   "outputs": [
    {
     "data": {
      "text/plain": [
       "[{'danceability': 0.658,\n",
       "  'energy': 0.379,\n",
       "  'key': 5,\n",
       "  'loudness': -11.763,\n",
       "  'mode': 0,\n",
       "  'speechiness': 0.0444,\n",
       "  'acousticness': 0.367,\n",
       "  'instrumentalness': 0.000493,\n",
       "  'liveness': 0.0728,\n",
       "  'valence': 0.81,\n",
       "  'tempo': 135.991,\n",
       "  'type': 'audio_features',\n",
       "  'id': '000InFFKfurNhrCj7yfMdM',\n",
       "  'uri': 'spotify:track:000InFFKfurNhrCj7yfMdM',\n",
       "  'track_href': 'https://api.spotify.com/v1/tracks/000InFFKfurNhrCj7yfMdM',\n",
       "  'analysis_url': 'https://api.spotify.com/v1/audio-analysis/000InFFKfurNhrCj7yfMdM',\n",
       "  'duration_ms': 315707,\n",
       "  'time_signature': 4}]"
      ]
     },
     "execution_count": 6,
     "metadata": {},
     "output_type": "execute_result"
    }
   ],
   "source": [
    "# audio_features provides high-level Echo Nest features\n",
    "sp.audio_features(songs[0][0])"
   ]
  },
  {
   "cell_type": "code",
   "execution_count": 7,
   "metadata": {},
   "outputs": [],
   "source": [
    "''' Returns a list of each track's audio features'''\n",
    "def features(songs):\n",
    "    all_feats = []\n",
    "    ids = [song[0] for song in songs]\n",
    "    # Spotify's audio_features can only return 50 songs at once\n",
    "    for i in range(0, len(songs), 50):\n",
    "        track_feats = sp.audio_features(ids[i:i+50])\n",
    "        for j in range(len(track_feats)):\n",
    "            if not track_feats[j]:\n",
    "                continue # song not found in Spotify\n",
    "            track_feats[j]['name'] = songs[i+j][1]\n",
    "            track_feats[j]['popularity'] = songs[i+j][2]\n",
    "        all_feats.extend(filter(None, track_feats))\n",
    "    return all_feats"
   ]
  },
  {
   "cell_type": "code",
   "execution_count": 8,
   "metadata": {},
   "outputs": [
    {
     "data": {
      "text/plain": [
       "{'danceability': 0.964,\n",
       " 'energy': 0.502,\n",
       " 'key': 0,\n",
       " 'loudness': -7.604,\n",
       " 'mode': 1,\n",
       " 'speechiness': 0.191,\n",
       " 'acousticness': 0.00383,\n",
       " 'instrumentalness': 0,\n",
       " 'liveness': 0.0874,\n",
       " 'valence': 0.551,\n",
       " 'tempo': 127.993,\n",
       " 'type': 'audio_features',\n",
       " 'id': '04yv0dtqVm9u745efIuxbZ',\n",
       " 'uri': 'spotify:track:04yv0dtqVm9u745efIuxbZ',\n",
       " 'track_href': 'https://api.spotify.com/v1/tracks/04yv0dtqVm9u745efIuxbZ',\n",
       " 'analysis_url': 'https://api.spotify.com/v1/audio-analysis/04yv0dtqVm9u745efIuxbZ',\n",
       " 'duration_ms': 263933,\n",
       " 'time_signature': 4,\n",
       " 'name': 'On The Run (feat. Offset)',\n",
       " 'popularity': 69}"
      ]
     },
     "execution_count": 8,
     "metadata": {},
     "output_type": "execute_result"
    }
   ],
   "source": [
    "feats = features(songs)\n",
    "feats[100]"
   ]
  },
  {
   "cell_type": "markdown",
   "metadata": {},
   "source": [
    "#### Artist Feature Extraction"
   ]
  },
  {
   "cell_type": "code",
   "execution_count": 9,
   "metadata": {},
   "outputs": [],
   "source": [
    "def get_trackid_artistid_dict(tracks):\n",
    "    \"\"\"\n",
    "    Given list of track_ids\n",
    "    returns dictionary from all track_ids to artist IDs\n",
    "    \"\"\"\n",
    "    track_artist_dict = {}\n",
    "    for i in range(0, len(tracks), 50):\n",
    "        track_ids = tracks[i : i + 50]\n",
    "        track_infos = sp.tracks(track_ids)[\"tracks\"]\n",
    "        assert len(track_ids) == len(track_infos)\n",
    "        for track_id, info in zip(track_ids, track_infos):\n",
    "            if not info:\n",
    "                continue # song not found in Spotify\n",
    "            track_artist_dict[track_id] = info[\"artists\"][0][\"id\"]\n",
    "        if len(track_artist_dict) % 1000 == 0:\n",
    "            print(\"Stored {} artist IDs\".format(len(track_artist_dict)))\n",
    "            print(list(track_artist_dict.items())[-1:])\n",
    "    print(\"Stored {} artist IDs\".format(len(track_artist_dict)))\n",
    "    return track_artist_dict"
   ]
  },
  {
   "cell_type": "code",
   "execution_count": 10,
   "metadata": {},
   "outputs": [],
   "source": [
    "def get_artistid_to_features_dict(artist_ids):\n",
    "    \"\"\"\n",
    "    Given iterable of artist_ids, returns a map from artist_id to feature_dict for each artist\n",
    "    e.g. {\"093sDFBR924\": {\"followers\" : 1038, \"genres\": [\"pop\", \"rock\"]},\n",
    "            \"RV3910FWS\": {\"followers\" : 31001, \"genres\": [\"country\"]}\n",
    "    \"\"\"\n",
    "    feature_dict = {}\n",
    "    unique_ids = list(set(artist_ids))\n",
    "    for i in range(0, len(unique_ids), 50):\n",
    "        artist_ids_chunk = unique_ids[i : i + 50]\n",
    "        artist_infos = sp.artists(artist_ids_chunk)[\"artists\"]\n",
    "        assert len(artist_infos) == len(artist_ids_chunk)\n",
    "        for artist_id, info in zip(artist_ids_chunk, artist_infos):\n",
    "            if not info:\n",
    "                continue\n",
    "            feature_dict[artist_id] = {\n",
    "                \"artist_followers\": info[\"followers\"][\"total\"],\n",
    "                \"artist_popularity\": info[\"popularity\"],\n",
    "                \"artist_genres\": info[\"genres\"]\n",
    "            }\n",
    "        if len(feature_dict) % 1000 == 0:\n",
    "            print(\"Stored {} artists' features\".format(len(feature_dict)))\n",
    "            print(list(feature_dict.items())[-1:])\n",
    "    print(\"Stored {} artists' features\".format(len(feature_dict)))\n",
    "    return feature_dict"
   ]
  },
  {
   "cell_type": "code",
   "execution_count": 11,
   "metadata": {},
   "outputs": [],
   "source": [
    "def add_artist_features(features_list):\n",
    "    \"\"\"\n",
    "    Takes in a list of feature dictionaries, adds artist features\n",
    "    Requires that track_id be a feature in each song\n",
    "    \"\"\"\n",
    "    # TODO: Could speed up by adding parameters to read or write these dictionaries from files\n",
    "    features_list = feats\n",
    "    track_ids = [f[\"id\"] for f in features_list]\n",
    "    print(\"BUILDING TRACK ID -> ARTIST ID DICTIONARY\")\n",
    "    track_artist_dict = get_trackid_artistid_dict(track_ids) \n",
    "    artist_ids = list(set(track_artist_dict.values()))\n",
    "    print(\"BUILDING ARTIST ID -> ARTIST FEATURES DICTIONARY\")\n",
    "    artist_feature_dict = get_artistid_to_features_dict(artist_ids)\n",
    "    features_list = [f for f in features_list if f[\"id\"] in track_artist_dict and track_artist_dict[f[\"id\"]] in artist_feature_dict]\n",
    "    for features in features_list:\n",
    "        track_artist_features = artist_feature_dict[track_artist_dict[features[\"id\"]]]\n",
    "        features.update(track_artist_features)\n",
    "    return features_list"
   ]
  },
  {
   "cell_type": "code",
   "execution_count": 12,
   "metadata": {},
   "outputs": [
    {
     "name": "stdout",
     "output_type": "stream",
     "text": [
      "BUILDING TRACK ID -> ARTIST ID DICTIONARY\n",
      "Stored 1000 artist IDs\n",
      "[('0hpVsKtKOhxY3QYtzat4YI', '25KNo5GDS6ZpLkjasaecA3')]\n",
      "Stored 2000 artist IDs\n",
      "[('1M732H32aWAHYGDBOFU2br', '2J0JN7EFN10G1Tty6hX0AN')]\n",
      "Stored 3000 artist IDs\n",
      "[('21QNvLDoeQS1G4FxRvZNBL', '0Y4inQK6OespitzD6ijMwb')]\n",
      "Stored 4000 artist IDs\n",
      "[('2gafFAtDIGgDQLiEpRokIx', '57DlMWmbVIf2ssJ8QBpBau')]\n",
      "Stored 5000 artist IDs\n",
      "[('3LjvFUqQi5LoqaRK6CLwMk', '1dfeR4HaWDbWqFHLkxsg1d')]\n",
      "Stored 6000 artist IDs\n",
      "[('3y6GnNl3mK2Rqw5N6vA5Se', '74gcBzlQza1bSfob90yRhR')]\n",
      "Stored 7000 artist IDs\n",
      "[('4eLHWCv6pLrxvpKomdGx5w', '57DlMWmbVIf2ssJ8QBpBau')]\n",
      "Stored 8000 artist IDs\n",
      "[('5J3Rb54DgCiN1OLIuKu1sL', '2vGA5qCDLZGW6exRQgKfLL')]\n",
      "Stored 9000 artist IDs\n",
      "[('60mz2UG8P6BTE0sSl1MNMJ', '1vaOLxWPpsv5LVsSHBy9tF')]\n",
      "Stored 10000 artist IDs\n",
      "[('6gC1f3S8JdxFHcOTlz1sLC', '6JaSyvyg28SHC0Of8YE6M9')]\n",
      "Stored 11000 artist IDs\n",
      "[('7InCc97CcXdcFzla1zPWJS', '5aBxFPaaGk9204ssHUvXWN')]\n",
      "Stored 11741 artist IDs\n",
      "BUILDING ARTIST ID -> ARTIST FEATURES DICTIONARY\n",
      "Stored 1000 artists' features\n",
      "[('46SHBwWsqBkxI7EeeBEQG7', {'artist_followers': 3910095, 'artist_popularity': 91, 'artist_genres': ['pop', 'pop rap', 'rap', 'trap music']})]\n",
      "Stored 1723 artists' features\n"
     ]
    },
    {
     "data": {
      "text/plain": [
       "{'danceability': 0.964,\n",
       " 'energy': 0.502,\n",
       " 'key': 0,\n",
       " 'loudness': -7.604,\n",
       " 'mode': 1,\n",
       " 'speechiness': 0.191,\n",
       " 'acousticness': 0.00383,\n",
       " 'instrumentalness': 0,\n",
       " 'liveness': 0.0874,\n",
       " 'valence': 0.551,\n",
       " 'tempo': 127.993,\n",
       " 'type': 'audio_features',\n",
       " 'id': '04yv0dtqVm9u745efIuxbZ',\n",
       " 'uri': 'spotify:track:04yv0dtqVm9u745efIuxbZ',\n",
       " 'track_href': 'https://api.spotify.com/v1/tracks/04yv0dtqVm9u745efIuxbZ',\n",
       " 'analysis_url': 'https://api.spotify.com/v1/audio-analysis/04yv0dtqVm9u745efIuxbZ',\n",
       " 'duration_ms': 263933,\n",
       " 'time_signature': 4,\n",
       " 'name': 'On The Run (feat. Offset)',\n",
       " 'popularity': 69,\n",
       " 'artist_followers': 3521215,\n",
       " 'artist_popularity': 88,\n",
       " 'artist_genres': ['atl hip hop',\n",
       "  'gangster rap',\n",
       "  'hip hop',\n",
       "  'pop',\n",
       "  'pop rap',\n",
       "  'rap',\n",
       "  'trap music']}"
      ]
     },
     "execution_count": 12,
     "metadata": {},
     "output_type": "execute_result"
    }
   ],
   "source": [
    "feats = add_artist_features(feats)\n",
    "feats[100]"
   ]
  },
  {
   "cell_type": "code",
   "execution_count": 100,
   "metadata": {},
   "outputs": [],
   "source": [
    "def format_genre_features(features_list, feature_cutoff=0.01):\n",
    "    \"\"\"\n",
    "    Returns (updated features, feature_genres)\n",
    "    \"\"\"\n",
    "    genre_counts = Counter(g for f in features_list for g in f[\"artist_genres\"])\n",
    "    print(\"Number of genres: {}\".format(len(genre_counts)))\n",
    "    print(\"Most popular genres: {}\".format(genre_counts.most_common(10)))\n",
    "    feature_cutoff_num = feature_cutoff * len(features_list)\n",
    "    feature_genres = set([g for g in genre_counts if genre_counts[g] >= feature_cutoff_num])\n",
    "    print(\"Number of featurized genres: {}\".format(len(feature_genres)))\n",
    "    for feat in features_list:\n",
    "        for genre in feature_genres:\n",
    "            feat[\"genre_\" + genre] = 1 if genre in feat[\"artist_genres\"] else 0\n",
    "    feature_genres = [\"genre_\" + g + \"\" for g in feature_genres]\n",
    "    return features_list, feature_genres"
   ]
  },
  {
   "cell_type": "code",
   "execution_count": 101,
   "metadata": {},
   "outputs": [
    {
     "name": "stdout",
     "output_type": "stream",
     "text": [
      "Number of genres: 552\n",
      "Most popular genres: [('pop', 1923), ('rap', 1744), ('trap music', 1525), ('pop rap', 1261), ('hip hop', 1120), ('southern hip hop', 966), ('dance pop', 910), ('underground hip hop', 848), ('modern rock', 721), ('vapor trap', 721)]\n",
      "Number of featurized genres: 88\n"
     ]
    }
   ],
   "source": [
    "feats, feature_genres = format_genre_features(feats)"
   ]
  },
  {
   "cell_type": "code",
   "execution_count": 102,
   "metadata": {},
   "outputs": [
    {
     "data": {
      "text/html": [
       "<div>\n",
       "<style scoped>\n",
       "    .dataframe tbody tr th:only-of-type {\n",
       "        vertical-align: middle;\n",
       "    }\n",
       "\n",
       "    .dataframe tbody tr th {\n",
       "        vertical-align: top;\n",
       "    }\n",
       "\n",
       "    .dataframe thead th {\n",
       "        text-align: right;\n",
       "    }\n",
       "</style>\n",
       "<table border=\"1\" class=\"dataframe\">\n",
       "  <thead>\n",
       "    <tr style=\"text-align: right;\">\n",
       "      <th></th>\n",
       "      <th>acousticness</th>\n",
       "      <th>album rock</th>\n",
       "      <th>alternative hip hop</th>\n",
       "      <th>alternative metal</th>\n",
       "      <th>analysis_url</th>\n",
       "      <th>anthem worship</th>\n",
       "      <th>art pop</th>\n",
       "      <th>artist_followers</th>\n",
       "      <th>artist_genres</th>\n",
       "      <th>artist_popularity</th>\n",
       "      <th>...</th>\n",
       "      <th>underground hip hop</th>\n",
       "      <th>urban contemporary</th>\n",
       "      <th>uri</th>\n",
       "      <th>valence</th>\n",
       "      <th>vapor soul</th>\n",
       "      <th>vapor trap</th>\n",
       "      <th>video game music</th>\n",
       "      <th>viral pop</th>\n",
       "      <th>world worship</th>\n",
       "      <th>worship</th>\n",
       "    </tr>\n",
       "  </thead>\n",
       "  <tbody>\n",
       "    <tr>\n",
       "      <th>1963</th>\n",
       "      <td>0.4220</td>\n",
       "      <td>0</td>\n",
       "      <td>0</td>\n",
       "      <td>0</td>\n",
       "      <td>https://api.spotify.com/v1/audio-analysis/1KlF...</td>\n",
       "      <td>0</td>\n",
       "      <td>0</td>\n",
       "      <td>14752</td>\n",
       "      <td>[chamber pop, folk-pop, indie anthem-folk, ind...</td>\n",
       "      <td>58</td>\n",
       "      <td>...</td>\n",
       "      <td>0</td>\n",
       "      <td>0</td>\n",
       "      <td>spotify:track:1KlFxJ4ndfxpP1NoqRkIEg</td>\n",
       "      <td>0.315</td>\n",
       "      <td>0</td>\n",
       "      <td>0</td>\n",
       "      <td>0</td>\n",
       "      <td>0</td>\n",
       "      <td>0</td>\n",
       "      <td>0</td>\n",
       "    </tr>\n",
       "    <tr>\n",
       "      <th>2082</th>\n",
       "      <td>0.0544</td>\n",
       "      <td>0</td>\n",
       "      <td>0</td>\n",
       "      <td>0</td>\n",
       "      <td>https://api.spotify.com/v1/audio-analysis/1PPH...</td>\n",
       "      <td>0</td>\n",
       "      <td>0</td>\n",
       "      <td>12880096</td>\n",
       "      <td>[reggaeton, trap latino]</td>\n",
       "      <td>97</td>\n",
       "      <td>...</td>\n",
       "      <td>0</td>\n",
       "      <td>0</td>\n",
       "      <td>spotify:track:1PPHqTL7IpYToKeIuA5pi9</td>\n",
       "      <td>0.743</td>\n",
       "      <td>0</td>\n",
       "      <td>0</td>\n",
       "      <td>0</td>\n",
       "      <td>0</td>\n",
       "      <td>0</td>\n",
       "      <td>0</td>\n",
       "    </tr>\n",
       "    <tr>\n",
       "      <th>11738</th>\n",
       "      <td>0.2910</td>\n",
       "      <td>0</td>\n",
       "      <td>0</td>\n",
       "      <td>0</td>\n",
       "      <td>https://api.spotify.com/v1/audio-analysis/7zwH...</td>\n",
       "      <td>0</td>\n",
       "      <td>0</td>\n",
       "      <td>108598</td>\n",
       "      <td>[australian indie, australian pop]</td>\n",
       "      <td>62</td>\n",
       "      <td>...</td>\n",
       "      <td>0</td>\n",
       "      <td>0</td>\n",
       "      <td>spotify:track:7zwHxedNwwUJn151jiurfp</td>\n",
       "      <td>0.802</td>\n",
       "      <td>0</td>\n",
       "      <td>0</td>\n",
       "      <td>0</td>\n",
       "      <td>0</td>\n",
       "      <td>0</td>\n",
       "      <td>0</td>\n",
       "    </tr>\n",
       "    <tr>\n",
       "      <th>6338</th>\n",
       "      <td>0.1800</td>\n",
       "      <td>0</td>\n",
       "      <td>0</td>\n",
       "      <td>0</td>\n",
       "      <td>https://api.spotify.com/v1/audio-analysis/4CFl...</td>\n",
       "      <td>0</td>\n",
       "      <td>0</td>\n",
       "      <td>111749</td>\n",
       "      <td>[dance pop, electropop, indie poptimism, pop, ...</td>\n",
       "      <td>70</td>\n",
       "      <td>...</td>\n",
       "      <td>0</td>\n",
       "      <td>0</td>\n",
       "      <td>spotify:track:4CFlDepqivJp9ECpBZOv0s</td>\n",
       "      <td>0.626</td>\n",
       "      <td>0</td>\n",
       "      <td>0</td>\n",
       "      <td>0</td>\n",
       "      <td>0</td>\n",
       "      <td>0</td>\n",
       "      <td>0</td>\n",
       "    </tr>\n",
       "    <tr>\n",
       "      <th>5099</th>\n",
       "      <td>0.3710</td>\n",
       "      <td>0</td>\n",
       "      <td>0</td>\n",
       "      <td>0</td>\n",
       "      <td>https://api.spotify.com/v1/audio-analysis/3PGu...</td>\n",
       "      <td>0</td>\n",
       "      <td>0</td>\n",
       "      <td>2118221</td>\n",
       "      <td>[dance pop, dancehall, pop, pop rap]</td>\n",
       "      <td>83</td>\n",
       "      <td>...</td>\n",
       "      <td>0</td>\n",
       "      <td>0</td>\n",
       "      <td>spotify:track:3PGubBdFfQSHAHsXb068eG</td>\n",
       "      <td>0.444</td>\n",
       "      <td>0</td>\n",
       "      <td>0</td>\n",
       "      <td>0</td>\n",
       "      <td>0</td>\n",
       "      <td>0</td>\n",
       "      <td>0</td>\n",
       "    </tr>\n",
       "  </tbody>\n",
       "</table>\n",
       "<p>5 rows × 199 columns</p>\n",
       "</div>"
      ],
      "text/plain": [
       "       acousticness  album rock  alternative hip hop  alternative metal  \\\n",
       "1963         0.4220           0                    0                  0   \n",
       "2082         0.0544           0                    0                  0   \n",
       "11738        0.2910           0                    0                  0   \n",
       "6338         0.1800           0                    0                  0   \n",
       "5099         0.3710           0                    0                  0   \n",
       "\n",
       "                                            analysis_url  anthem worship  \\\n",
       "1963   https://api.spotify.com/v1/audio-analysis/1KlF...               0   \n",
       "2082   https://api.spotify.com/v1/audio-analysis/1PPH...               0   \n",
       "11738  https://api.spotify.com/v1/audio-analysis/7zwH...               0   \n",
       "6338   https://api.spotify.com/v1/audio-analysis/4CFl...               0   \n",
       "5099   https://api.spotify.com/v1/audio-analysis/3PGu...               0   \n",
       "\n",
       "       art pop  artist_followers  \\\n",
       "1963         0             14752   \n",
       "2082         0          12880096   \n",
       "11738        0            108598   \n",
       "6338         0            111749   \n",
       "5099         0           2118221   \n",
       "\n",
       "                                           artist_genres  artist_popularity  \\\n",
       "1963   [chamber pop, folk-pop, indie anthem-folk, ind...                 58   \n",
       "2082                            [reggaeton, trap latino]                 97   \n",
       "11738                 [australian indie, australian pop]                 62   \n",
       "6338   [dance pop, electropop, indie poptimism, pop, ...                 70   \n",
       "5099                [dance pop, dancehall, pop, pop rap]                 83   \n",
       "\n",
       "        ...     underground hip hop  urban contemporary  \\\n",
       "1963    ...                       0                   0   \n",
       "2082    ...                       0                   0   \n",
       "11738   ...                       0                   0   \n",
       "6338    ...                       0                   0   \n",
       "5099    ...                       0                   0   \n",
       "\n",
       "                                        uri  valence  vapor soul  vapor trap  \\\n",
       "1963   spotify:track:1KlFxJ4ndfxpP1NoqRkIEg    0.315           0           0   \n",
       "2082   spotify:track:1PPHqTL7IpYToKeIuA5pi9    0.743           0           0   \n",
       "11738  spotify:track:7zwHxedNwwUJn151jiurfp    0.802           0           0   \n",
       "6338   spotify:track:4CFlDepqivJp9ECpBZOv0s    0.626           0           0   \n",
       "5099   spotify:track:3PGubBdFfQSHAHsXb068eG    0.444           0           0   \n",
       "\n",
       "       video game music  viral pop  world worship  worship  \n",
       "1963                  0          0              0        0  \n",
       "2082                  0          0              0        0  \n",
       "11738                 0          0              0        0  \n",
       "6338                  0          0              0        0  \n",
       "5099                  0          0              0        0  \n",
       "\n",
       "[5 rows x 199 columns]"
      ]
     },
     "execution_count": 102,
     "metadata": {},
     "output_type": "execute_result"
    }
   ],
   "source": [
    "data = pd.DataFrame(feats)\n",
    "data = data.sample(frac=1)\n",
    "data.head()"
   ]
  },
  {
   "cell_type": "code",
   "execution_count": 103,
   "metadata": {},
   "outputs": [
    {
     "data": {
      "text/html": [
       "<div>\n",
       "<style scoped>\n",
       "    .dataframe tbody tr th:only-of-type {\n",
       "        vertical-align: middle;\n",
       "    }\n",
       "\n",
       "    .dataframe tbody tr th {\n",
       "        vertical-align: top;\n",
       "    }\n",
       "\n",
       "    .dataframe thead th {\n",
       "        text-align: right;\n",
       "    }\n",
       "</style>\n",
       "<table border=\"1\" class=\"dataframe\">\n",
       "  <thead>\n",
       "    <tr style=\"text-align: right;\">\n",
       "      <th></th>\n",
       "      <th>acousticness</th>\n",
       "      <th>album rock</th>\n",
       "      <th>alternative hip hop</th>\n",
       "      <th>alternative metal</th>\n",
       "      <th>analysis_url</th>\n",
       "      <th>anthem worship</th>\n",
       "      <th>art pop</th>\n",
       "      <th>artist_followers</th>\n",
       "      <th>artist_genres</th>\n",
       "      <th>artist_popularity</th>\n",
       "      <th>...</th>\n",
       "      <th>underground hip hop</th>\n",
       "      <th>urban contemporary</th>\n",
       "      <th>uri</th>\n",
       "      <th>valence</th>\n",
       "      <th>vapor soul</th>\n",
       "      <th>vapor trap</th>\n",
       "      <th>video game music</th>\n",
       "      <th>viral pop</th>\n",
       "      <th>world worship</th>\n",
       "      <th>worship</th>\n",
       "    </tr>\n",
       "  </thead>\n",
       "  <tbody>\n",
       "    <tr>\n",
       "      <th>11385</th>\n",
       "      <td>0.05150</td>\n",
       "      <td>0</td>\n",
       "      <td>0</td>\n",
       "      <td>0</td>\n",
       "      <td>https://api.spotify.com/v1/audio-analysis/7l3E...</td>\n",
       "      <td>0</td>\n",
       "      <td>0</td>\n",
       "      <td>3910095</td>\n",
       "      <td>[pop, pop rap, rap, trap music]</td>\n",
       "      <td>91</td>\n",
       "      <td>...</td>\n",
       "      <td>0</td>\n",
       "      <td>0</td>\n",
       "      <td>spotify:track:7l3E7lcozEodtVsSTCkcaA</td>\n",
       "      <td>0.474</td>\n",
       "      <td>0</td>\n",
       "      <td>0</td>\n",
       "      <td>0</td>\n",
       "      <td>0</td>\n",
       "      <td>0</td>\n",
       "      <td>0</td>\n",
       "    </tr>\n",
       "    <tr>\n",
       "      <th>1693</th>\n",
       "      <td>0.55100</td>\n",
       "      <td>0</td>\n",
       "      <td>0</td>\n",
       "      <td>0</td>\n",
       "      <td>https://api.spotify.com/v1/audio-analysis/1A6O...</td>\n",
       "      <td>0</td>\n",
       "      <td>0</td>\n",
       "      <td>8956186</td>\n",
       "      <td>[pop, rap]</td>\n",
       "      <td>96</td>\n",
       "      <td>...</td>\n",
       "      <td>0</td>\n",
       "      <td>0</td>\n",
       "      <td>spotify:track:1A6OTy97kk0mMdm78rHsm8</td>\n",
       "      <td>0.927</td>\n",
       "      <td>0</td>\n",
       "      <td>0</td>\n",
       "      <td>0</td>\n",
       "      <td>0</td>\n",
       "      <td>0</td>\n",
       "      <td>0</td>\n",
       "    </tr>\n",
       "    <tr>\n",
       "      <th>8713</th>\n",
       "      <td>0.29700</td>\n",
       "      <td>0</td>\n",
       "      <td>0</td>\n",
       "      <td>0</td>\n",
       "      <td>https://api.spotify.com/v1/audio-analysis/5p7u...</td>\n",
       "      <td>0</td>\n",
       "      <td>0</td>\n",
       "      <td>4410501</td>\n",
       "      <td>[dance pop, electropop, etherpop, indie poptim...</td>\n",
       "      <td>91</td>\n",
       "      <td>...</td>\n",
       "      <td>0</td>\n",
       "      <td>0</td>\n",
       "      <td>spotify:track:5p7ujcrUXASCNwRaWNHR1C</td>\n",
       "      <td>0.533</td>\n",
       "      <td>0</td>\n",
       "      <td>0</td>\n",
       "      <td>0</td>\n",
       "      <td>0</td>\n",
       "      <td>0</td>\n",
       "      <td>0</td>\n",
       "    </tr>\n",
       "    <tr>\n",
       "      <th>4392</th>\n",
       "      <td>0.00513</td>\n",
       "      <td>0</td>\n",
       "      <td>0</td>\n",
       "      <td>0</td>\n",
       "      <td>https://api.spotify.com/v1/audio-analysis/2xLM...</td>\n",
       "      <td>0</td>\n",
       "      <td>0</td>\n",
       "      <td>3818730</td>\n",
       "      <td>[pop, pop rap, rap]</td>\n",
       "      <td>96</td>\n",
       "      <td>...</td>\n",
       "      <td>0</td>\n",
       "      <td>0</td>\n",
       "      <td>spotify:track:2xLMifQCjDGFmkHkpNLD9h</td>\n",
       "      <td>0.446</td>\n",
       "      <td>0</td>\n",
       "      <td>0</td>\n",
       "      <td>0</td>\n",
       "      <td>0</td>\n",
       "      <td>0</td>\n",
       "      <td>0</td>\n",
       "    </tr>\n",
       "    <tr>\n",
       "      <th>7452</th>\n",
       "      <td>0.15300</td>\n",
       "      <td>0</td>\n",
       "      <td>0</td>\n",
       "      <td>0</td>\n",
       "      <td>https://api.spotify.com/v1/audio-analysis/4w8n...</td>\n",
       "      <td>0</td>\n",
       "      <td>0</td>\n",
       "      <td>3564751</td>\n",
       "      <td>[dance pop, edm, electronic trap, pop, tropica...</td>\n",
       "      <td>89</td>\n",
       "      <td>...</td>\n",
       "      <td>0</td>\n",
       "      <td>0</td>\n",
       "      <td>spotify:track:4w8niZpiMy6qz1mntFA5uM</td>\n",
       "      <td>0.591</td>\n",
       "      <td>0</td>\n",
       "      <td>0</td>\n",
       "      <td>0</td>\n",
       "      <td>0</td>\n",
       "      <td>0</td>\n",
       "      <td>0</td>\n",
       "    </tr>\n",
       "  </tbody>\n",
       "</table>\n",
       "<p>5 rows × 199 columns</p>\n",
       "</div>"
      ],
      "text/plain": [
       "       acousticness  album rock  alternative hip hop  alternative metal  \\\n",
       "11385       0.05150           0                    0                  0   \n",
       "1693        0.55100           0                    0                  0   \n",
       "8713        0.29700           0                    0                  0   \n",
       "4392        0.00513           0                    0                  0   \n",
       "7452        0.15300           0                    0                  0   \n",
       "\n",
       "                                            analysis_url  anthem worship  \\\n",
       "11385  https://api.spotify.com/v1/audio-analysis/7l3E...               0   \n",
       "1693   https://api.spotify.com/v1/audio-analysis/1A6O...               0   \n",
       "8713   https://api.spotify.com/v1/audio-analysis/5p7u...               0   \n",
       "4392   https://api.spotify.com/v1/audio-analysis/2xLM...               0   \n",
       "7452   https://api.spotify.com/v1/audio-analysis/4w8n...               0   \n",
       "\n",
       "       art pop  artist_followers  \\\n",
       "11385        0           3910095   \n",
       "1693         0           8956186   \n",
       "8713         0           4410501   \n",
       "4392         0           3818730   \n",
       "7452         0           3564751   \n",
       "\n",
       "                                           artist_genres  artist_popularity  \\\n",
       "11385                    [pop, pop rap, rap, trap music]                 91   \n",
       "1693                                          [pop, rap]                 96   \n",
       "8713   [dance pop, electropop, etherpop, indie poptim...                 91   \n",
       "4392                                 [pop, pop rap, rap]                 96   \n",
       "7452   [dance pop, edm, electronic trap, pop, tropica...                 89   \n",
       "\n",
       "        ...     underground hip hop  urban contemporary  \\\n",
       "11385   ...                       0                   0   \n",
       "1693    ...                       0                   0   \n",
       "8713    ...                       0                   0   \n",
       "4392    ...                       0                   0   \n",
       "7452    ...                       0                   0   \n",
       "\n",
       "                                        uri  valence  vapor soul  vapor trap  \\\n",
       "11385  spotify:track:7l3E7lcozEodtVsSTCkcaA    0.474           0           0   \n",
       "1693   spotify:track:1A6OTy97kk0mMdm78rHsm8    0.927           0           0   \n",
       "8713   spotify:track:5p7ujcrUXASCNwRaWNHR1C    0.533           0           0   \n",
       "4392   spotify:track:2xLMifQCjDGFmkHkpNLD9h    0.446           0           0   \n",
       "7452   spotify:track:4w8niZpiMy6qz1mntFA5uM    0.591           0           0   \n",
       "\n",
       "       video game music  viral pop  world worship  worship  \n",
       "11385                 0          0              0        0  \n",
       "1693                  0          0              0        0  \n",
       "8713                  0          0              0        0  \n",
       "4392                  0          0              0        0  \n",
       "7452                  0          0              0        0  \n",
       "\n",
       "[5 rows x 199 columns]"
      ]
     },
     "execution_count": 103,
     "metadata": {},
     "output_type": "execute_result"
    }
   ],
   "source": [
    "data.loc[data['popularity'] >= 95]"
   ]
  },
  {
   "cell_type": "code",
   "execution_count": 104,
   "metadata": {},
   "outputs": [],
   "source": [
    "features = [\"acousticness\", \"danceability\", \"energy\", \n",
    "            \"loudness\", \"speechiness\", \"tempo\", \"valence\", \"artist_followers\"] + feature_genres"
   ]
  },
  {
   "cell_type": "code",
   "execution_count": 105,
   "metadata": {},
   "outputs": [
    {
     "name": "stdout",
     "output_type": "stream",
     "text": [
      "Training size: 8217, Dev size: 1762, Test size: 1762\n"
     ]
    }
   ],
   "source": [
    "train, test = train_test_split(data, test_size=0.15)\n",
    "train, dev = train_test_split(train, test_size=0.15/0.85)\n",
    "x_train, y_train = train[features], train[\"popularity\"]\n",
    "x_dev, y_dev = dev[features], dev[\"popularity\"]\n",
    "x_test, y_test = test[features], test[\"popularity\"]\n",
    "print(\"Training size: {}, Dev size: {}, Test size: {}\".format(len(train), len(dev), len(test)))"
   ]
  },
  {
   "cell_type": "markdown",
   "metadata": {},
   "source": [
    "## Baseline (Linear Regression)"
   ]
  },
  {
   "cell_type": "code",
   "execution_count": 106,
   "metadata": {
    "scrolled": true
   },
   "outputs": [
    {
     "data": {
      "text/plain": [
       "LinearRegression(copy_X=True, fit_intercept=True, n_jobs=None,\n",
       "         normalize=False)"
      ]
     },
     "execution_count": 106,
     "metadata": {},
     "output_type": "execute_result"
    }
   ],
   "source": [
    "lin_mod = LinearRegression()\n",
    "lin_mod.fit(x_train, y_train)"
   ]
  },
  {
   "cell_type": "code",
   "execution_count": 107,
   "metadata": {},
   "outputs": [
    {
     "name": "stdout",
     "output_type": "stream",
     "text": [
      "Mean Squared Error: 197.33165086038258\n",
      "Variance Score: -1.1427639501563758\n"
     ]
    }
   ],
   "source": [
    "test_preds = lin_mod.predict(x_dev)\n",
    "print(\"Mean Squared Error: {}\".format(mean_squared_error(test_preds, y_dev)))\n",
    "print(\"Variance Score: {}\".format(r2_score(test_preds, y_dev)))"
   ]
  },
  {
   "cell_type": "code",
   "execution_count": 108,
   "metadata": {},
   "outputs": [
    {
     "name": "stdout",
     "output_type": "stream",
     "text": [
      "Model coefficients: {'acousticness': 0.714670921984008, 'danceability': 6.870661580974536, 'energy': -2.233456149243734, 'loudness': 0.5805356687259526, 'speechiness': -7.848528174557847, 'tempo': 0.005769353711743433, 'valence': -3.338143721315667, 'artist_followers': 1.2432913519691127e-06, 'genre_anthem worship': -4.759852648437567, 'genre_latin': 5.955150679199994, 'genre_alternative metal': 2.0104413543290818, 'genre_post-grunge': 2.897429398422697, 'genre_conscious hip hop': 12.68034608212425, 'genre_hip hop': -1.6493135896603768, 'genre_worship': -0.004694790329502707, 'genre_country': -8.647000205213963, 'genre_christian music': 15.24165019065309, 'genre_pop rap': -5.408257774231692, 'genre_southern hip hop': -8.374496465233195, 'genre_k-pop': 4.127621287265006, 'genre_jazz boom bap': -13.341215653822783, 'genre_scorecore': -4.472456803300955, 'genre_pop': 2.0078318710886025, 'genre_metalcore': 0.3968430768451867, 'genre_edm': -5.056265173886213, 'genre_ccm': -18.034650770399985, 'genre_world worship': 1.5911133930978645, 'genre_urban contemporary': -3.7466211624129815, 'genre_freak folk': -0.5561770092136071, 'genre_brostep': 4.090612576065672, 'genre_big room': 0.005458923105446212, 'genre_modern alternative rock': 1.8545950368238753, 'genre_indie poptimism': 2.059255177137366, 'genre_screamo': 0.75258794503051, 'genre_vapor soul': -3.6897779276697062, 'genre_dance pop': -2.413927118793257, 'genre_electro house': -0.9226994178358143, 'genre_progressive house': -1.8563981909239748, 'genre_alternative hip hop': -5.1723780108765975, 'genre_christian alternative rock': 1.2783877802305659, 'genre_neo mellow': 2.283699699068821, 'genre_atl hip hop': 6.711322266803141, 'genre_country road': 12.771010316274914, 'genre_folk-pop': 0.39893025726886755, 'genre_vapor trap': -3.667242984014227, 'genre_underground hip hop': 1.1168905750380766, 'genre_album rock': -41.8263846653255, 'genre_trap music': 7.180060238174736, 'genre_electronic trap': 4.142371888205545, 'genre_contemporary country': 2.0448515850268114, 'genre_electropop': 2.465650465578236, 'genre_rock': 5.740659939547133, 'genre_canadian contemporary country': 0.7191336602727354, 'genre_tropical house': 7.886657702276384, 'genre_deep pop r&b': -2.4186051543536387, 'genre_classic rock': 31.91991293502201, 'genre_indie rock': -1.026251256589172, 'genre_deep southern trap': -8.023947881206567, 'genre_emo': -3.9259435372866047, 'genre_stomp and holler': -0.5877791285094942, 'genre_modern country rock': -11.418657111306914, 'genre_art pop': -0.9852199920512617, 'genre_deep trap': 0.548598098039367, 'genre_rap': 6.8571152367791885, 'genre_melodic metalcore': 2.4773549654717533, 'genre_pop rock': -5.344052075667465, 'genre_mellow gold': -5.555716515451843, 'genre_indie pop': 2.1647977738913644, 'genre_lo-fi beats': 0.883641687355218, 'genre_soft rock': 4.326999329993877, 'genre_pop punk': 5.780012920672233, 'genre_classical': -23.28941841398222, 'genre_emo rap': 10.08859416275874, 'genre_indie folk': 1.0259183034883401, 'genre_nu metal': -3.520976545471718, 'genre_indie r&b': 4.712870202816933, 'genre_gangster rap': -9.46238551208892, 'genre_r&b': 0.1927413328143759, 'genre_chamber pop': 3.6328582651436996, 'genre_soundtrack': -2.128633867378843, 'genre_indietronica': -2.1519028761391574, 'genre_latin pop': 4.540221679340393, 'genre_escape room': 0.8977106462233713, 'genre_video game music': 3.3945582401497463, 'genre_dirty south rap': 7.6129229699434475, 'genre_new americana': -0.14656308077314167, 'genre_metropopolis': -3.579694533996211, 'genre_preverb': -4.240267081432939, 'genre_post-teen pop': 6.3709729765566205, 'genre_viral pop': -3.802633183661381, 'genre_canadian hip hop': 4.004998971965726, 'genre_modern rock': 1.3376351517194967, 'genre_regional mexican pop': 5.85477224074186, 'genre_regional mexican': -5.444779464559511, 'genre_chillhop': -5.985025782371684, 'genre_christian rock': 5.064285105340092}\n"
     ]
    }
   ],
   "source": [
    "coeffs = dict(zip(features, lin_mod.coef_))\n",
    "print(\"Model coefficients: {}\".format(coeffs))"
   ]
  },
  {
   "cell_type": "markdown",
   "metadata": {},
   "source": [
    "## SVM "
   ]
  },
  {
   "cell_type": "code",
   "execution_count": 109,
   "metadata": {},
   "outputs": [
    {
     "name": "stderr",
     "output_type": "stream",
     "text": [
      "/Users/etang/dev/SoundScorer221/venv/lib/python3.6/site-packages/sklearn/svm/base.py:196: FutureWarning: The default value of gamma will change from 'auto' to 'scale' in version 0.22 to account better for unscaled features. Set gamma explicitly to 'auto' or 'scale' to avoid this warning.\n",
      "  \"avoid this warning.\", FutureWarning)\n"
     ]
    },
    {
     "data": {
      "text/plain": [
       "SVR(C=10, cache_size=200, coef0=0.0, degree=3, epsilon=0.1,\n",
       "  gamma='auto_deprecated', kernel='rbf', max_iter=-1, shrinking=True,\n",
       "  tol=0.001, verbose=False)"
      ]
     },
     "execution_count": 109,
     "metadata": {},
     "output_type": "execute_result"
    }
   ],
   "source": [
    "svr = SVR(C=10)\n",
    "svr.fit(x_train, y_train)"
   ]
  },
  {
   "cell_type": "code",
   "execution_count": 110,
   "metadata": {},
   "outputs": [
    {
     "name": "stdout",
     "output_type": "stream",
     "text": [
      "SVM Mean Squared Error: 177.0862566419048\n",
      "SVM Variance Score: -0.9715389858705656\n"
     ]
    }
   ],
   "source": [
    "test_preds = svr.predict(x_dev)\n",
    "print(\"SVM Mean Squared Error: {}\".format(mean_squared_error(test_preds, y_dev)))\n",
    "print(\"SVM Variance Score: {}\".format(r2_score(test_preds, y_dev)))"
   ]
  },
  {
   "cell_type": "markdown",
   "metadata": {},
   "source": [
    "## Random Forest"
   ]
  },
  {
   "cell_type": "code",
   "execution_count": 111,
   "metadata": {},
   "outputs": [
    {
     "data": {
      "text/plain": [
       "RandomForestRegressor(bootstrap=True, criterion='mse', max_depth=None,\n",
       "           max_features='auto', max_leaf_nodes=None,\n",
       "           min_impurity_decrease=0.0, min_impurity_split=None,\n",
       "           min_samples_leaf=1, min_samples_split=2,\n",
       "           min_weight_fraction_leaf=0.0, n_estimators=200, n_jobs=None,\n",
       "           oob_score=False, random_state=0, verbose=0, warm_start=False)"
      ]
     },
     "execution_count": 111,
     "metadata": {},
     "output_type": "execute_result"
    }
   ],
   "source": [
    "random_forest = RandomForestRegressor(n_estimators=200, random_state=0)\n",
    "random_forest.fit(x_train, y_train)"
   ]
  },
  {
   "cell_type": "code",
   "execution_count": 112,
   "metadata": {},
   "outputs": [
    {
     "name": "stdout",
     "output_type": "stream",
     "text": [
      "Random Forest Mean Squared Error: 145.82230495382973\n",
      "Random Forest Variance Score: -0.09772407777870895\n"
     ]
    }
   ],
   "source": [
    "test_preds = random_forest.predict(x_dev)\n",
    "print(\"Random Forest Mean Squared Error: {}\".format(mean_squared_error(test_preds, y_dev)))\n",
    "print(\"Random Forest Variance Score: {}\".format(r2_score(test_preds, y_dev)))"
   ]
  },
  {
   "cell_type": "markdown",
   "metadata": {},
   "source": [
    "## Gradient Boosting Regressor"
   ]
  },
  {
   "cell_type": "code",
   "execution_count": 113,
   "metadata": {},
   "outputs": [
    {
     "data": {
      "text/plain": [
       "GradientBoostingRegressor(alpha=0.9, criterion='friedman_mse', init=None,\n",
       "             learning_rate=0.1, loss='ls', max_depth=3, max_features=None,\n",
       "             max_leaf_nodes=None, min_impurity_decrease=0.0,\n",
       "             min_impurity_split=None, min_samples_leaf=1,\n",
       "             min_samples_split=2, min_weight_fraction_leaf=0.0,\n",
       "             n_estimators=100, n_iter_no_change=None, presort='auto',\n",
       "             random_state=0, subsample=1.0, tol=0.0001,\n",
       "             validation_fraction=0.1, verbose=0, warm_start=False)"
      ]
     },
     "execution_count": 113,
     "metadata": {},
     "output_type": "execute_result"
    }
   ],
   "source": [
    "gbr = GradientBoostingRegressor(n_estimators=100, learning_rate=0.1, random_state=0)\n",
    "gbr.fit(x_train, y_train)"
   ]
  },
  {
   "cell_type": "code",
   "execution_count": 114,
   "metadata": {},
   "outputs": [
    {
     "name": "stdout",
     "output_type": "stream",
     "text": [
      "Gradient Boosting Regressor Mean Squared Error: 174.30963207654136\n",
      "Gradient Boosting Regressor Variance Score: -1.174731857734212\n"
     ]
    }
   ],
   "source": [
    "test_preds = gbr.predict(x_dev)\n",
    "print(\"Gradient Boosting Regressor Mean Squared Error: {}\".format(mean_squared_error(test_preds, y_dev)))\n",
    "print(\"Gradient Boosting Regressor Variance Score: {}\".format(r2_score(test_preds, y_dev)))"
   ]
  },
  {
   "cell_type": "code",
   "execution_count": 115,
   "metadata": {},
   "outputs": [],
   "source": [
    "## XG Boosting Regressor (Hyperparamterized Gradient Boosting)"
   ]
  },
  {
   "cell_type": "code",
   "execution_count": 116,
   "metadata": {},
   "outputs": [],
   "source": [
    "import xgboost as xgb\n",
    "from xgboost.sklearn import XGBRegressor\n",
    "from xgboost.sklearn import XGBClassifier\n",
    "from xgboost import plot_tree\n",
    "from matplotlib.pylab import rcParams"
   ]
  },
  {
   "cell_type": "code",
   "execution_count": 117,
   "metadata": {},
   "outputs": [
    {
     "name": "stdout",
     "output_type": "stream",
     "text": [
      "Accuracy: 40.80%\n",
      "MSE: 166.35\n"
     ]
    }
   ],
   "source": [
    "XGB = XGBRegressor(\n",
    "    learning_rate =0.05,\n",
    "    n_estimators=300,\n",
    "    max_depth=3,\n",
    "    min_child_weight=1,\n",
    "    gamma=0,\n",
    "    subsample=0.8,\n",
    "    colsample_bytree=0.8,\n",
    "    scale_pos_weight=1)\n",
    "\n",
    "XGB.fit(x_train, y_train)\n",
    "test_preds = XGB.predict(x_dev)\n",
    "accuracy = XGB.score(x_dev, y_dev)\n",
    "print(\"Accuracy: %.2f%%\" % (accuracy * 100.0))\n",
    "print(\"MSE: %.2f\"\n",
    "      % mean_squared_error(test_preds, y_dev))"
   ]
  },
  {
   "cell_type": "code",
   "execution_count": 34,
   "metadata": {},
   "outputs": [
    {
     "ename": "ExecutableNotFound",
     "evalue": "failed to execute ['dot', '-Tpng'], make sure the Graphviz executables are on your systems' PATH",
     "output_type": "error",
     "traceback": [
      "\u001b[0;31m---------------------------------------------------------------------------\u001b[0m",
      "\u001b[0;31mFileNotFoundError\u001b[0m                         Traceback (most recent call last)",
      "\u001b[0;32m~/dev/SoundScorer221/venv/lib/python3.6/site-packages/graphviz/backend.py\u001b[0m in \u001b[0;36mrun\u001b[0;34m(cmd, input, capture_output, check, quiet, **kwargs)\u001b[0m\n\u001b[1;32m    146\u001b[0m     \u001b[0;32mtry\u001b[0m\u001b[0;34m:\u001b[0m\u001b[0;34m\u001b[0m\u001b[0m\n\u001b[0;32m--> 147\u001b[0;31m         \u001b[0mproc\u001b[0m \u001b[0;34m=\u001b[0m \u001b[0msubprocess\u001b[0m\u001b[0;34m.\u001b[0m\u001b[0mPopen\u001b[0m\u001b[0;34m(\u001b[0m\u001b[0mcmd\u001b[0m\u001b[0;34m,\u001b[0m \u001b[0mstartupinfo\u001b[0m\u001b[0;34m=\u001b[0m\u001b[0mget_startupinfo\u001b[0m\u001b[0;34m(\u001b[0m\u001b[0;34m)\u001b[0m\u001b[0;34m,\u001b[0m \u001b[0;34m**\u001b[0m\u001b[0mkwargs\u001b[0m\u001b[0;34m)\u001b[0m\u001b[0;34m\u001b[0m\u001b[0m\n\u001b[0m\u001b[1;32m    148\u001b[0m     \u001b[0;32mexcept\u001b[0m \u001b[0mOSError\u001b[0m \u001b[0;32mas\u001b[0m \u001b[0me\u001b[0m\u001b[0;34m:\u001b[0m\u001b[0;34m\u001b[0m\u001b[0m\n",
      "\u001b[0;32m/usr/local/Cellar/python/3.6.5/Frameworks/Python.framework/Versions/3.6/lib/python3.6/subprocess.py\u001b[0m in \u001b[0;36m__init__\u001b[0;34m(self, args, bufsize, executable, stdin, stdout, stderr, preexec_fn, close_fds, shell, cwd, env, universal_newlines, startupinfo, creationflags, restore_signals, start_new_session, pass_fds, encoding, errors)\u001b[0m\n\u001b[1;32m    708\u001b[0m                                 \u001b[0merrread\u001b[0m\u001b[0;34m,\u001b[0m \u001b[0merrwrite\u001b[0m\u001b[0;34m,\u001b[0m\u001b[0;34m\u001b[0m\u001b[0m\n\u001b[0;32m--> 709\u001b[0;31m                                 restore_signals, start_new_session)\n\u001b[0m\u001b[1;32m    710\u001b[0m         \u001b[0;32mexcept\u001b[0m\u001b[0;34m:\u001b[0m\u001b[0;34m\u001b[0m\u001b[0m\n",
      "\u001b[0;32m/usr/local/Cellar/python/3.6.5/Frameworks/Python.framework/Versions/3.6/lib/python3.6/subprocess.py\u001b[0m in \u001b[0;36m_execute_child\u001b[0;34m(self, args, executable, preexec_fn, close_fds, pass_fds, cwd, env, startupinfo, creationflags, shell, p2cread, p2cwrite, c2pread, c2pwrite, errread, errwrite, restore_signals, start_new_session)\u001b[0m\n\u001b[1;32m   1343\u001b[0m                             \u001b[0merr_msg\u001b[0m \u001b[0;34m+=\u001b[0m \u001b[0;34m': '\u001b[0m \u001b[0;34m+\u001b[0m \u001b[0mrepr\u001b[0m\u001b[0;34m(\u001b[0m\u001b[0merr_filename\u001b[0m\u001b[0;34m)\u001b[0m\u001b[0;34m\u001b[0m\u001b[0m\n\u001b[0;32m-> 1344\u001b[0;31m                     \u001b[0;32mraise\u001b[0m \u001b[0mchild_exception_type\u001b[0m\u001b[0;34m(\u001b[0m\u001b[0merrno_num\u001b[0m\u001b[0;34m,\u001b[0m \u001b[0merr_msg\u001b[0m\u001b[0;34m,\u001b[0m \u001b[0merr_filename\u001b[0m\u001b[0;34m)\u001b[0m\u001b[0;34m\u001b[0m\u001b[0m\n\u001b[0m\u001b[1;32m   1345\u001b[0m                 \u001b[0;32mraise\u001b[0m \u001b[0mchild_exception_type\u001b[0m\u001b[0;34m(\u001b[0m\u001b[0merr_msg\u001b[0m\u001b[0;34m)\u001b[0m\u001b[0;34m\u001b[0m\u001b[0m\n",
      "\u001b[0;31mFileNotFoundError\u001b[0m: [Errno 2] No such file or directory: 'dot': 'dot'",
      "\nDuring handling of the above exception, another exception occurred:\n",
      "\u001b[0;31mExecutableNotFound\u001b[0m                        Traceback (most recent call last)",
      "\u001b[0;32m<ipython-input-34-d6db409ed7d3>\u001b[0m in \u001b[0;36m<module>\u001b[0;34m\u001b[0m\n\u001b[1;32m      2\u001b[0m \u001b[0;34m\u001b[0m\u001b[0m\n\u001b[1;32m      3\u001b[0m \u001b[0mrcParams\u001b[0m\u001b[0;34m[\u001b[0m\u001b[0;34m'figure.figsize'\u001b[0m\u001b[0;34m]\u001b[0m \u001b[0;34m=\u001b[0m \u001b[0;36m80\u001b[0m\u001b[0;34m,\u001b[0m\u001b[0;36m50\u001b[0m\u001b[0;34m\u001b[0m\u001b[0m\n\u001b[0;32m----> 4\u001b[0;31m \u001b[0mplot_tree\u001b[0m\u001b[0;34m(\u001b[0m\u001b[0mXGB\u001b[0m\u001b[0;34m)\u001b[0m\u001b[0;34m\u001b[0m\u001b[0m\n\u001b[0m\u001b[1;32m      5\u001b[0m \u001b[0mfig\u001b[0m \u001b[0;34m=\u001b[0m \u001b[0mplt\u001b[0m\u001b[0;34m.\u001b[0m\u001b[0mgcf\u001b[0m\u001b[0;34m(\u001b[0m\u001b[0;34m)\u001b[0m\u001b[0;34m\u001b[0m\u001b[0m\n\u001b[1;32m      6\u001b[0m \u001b[0mfig\u001b[0m\u001b[0;34m.\u001b[0m\u001b[0mset_size_inches\u001b[0m\u001b[0;34m(\u001b[0m\u001b[0;36m50\u001b[0m\u001b[0;34m,\u001b[0m \u001b[0;36m30\u001b[0m\u001b[0;34m)\u001b[0m\u001b[0;34m\u001b[0m\u001b[0m\n",
      "\u001b[0;32m~/dev/SoundScorer221/venv/lib/python3.6/site-packages/xgboost/plotting.py\u001b[0m in \u001b[0;36mplot_tree\u001b[0;34m(booster, fmap, num_trees, rankdir, ax, **kwargs)\u001b[0m\n\u001b[1;32m    260\u001b[0m \u001b[0;34m\u001b[0m\u001b[0m\n\u001b[1;32m    261\u001b[0m     \u001b[0ms\u001b[0m \u001b[0;34m=\u001b[0m \u001b[0mBytesIO\u001b[0m\u001b[0;34m(\u001b[0m\u001b[0;34m)\u001b[0m\u001b[0;34m\u001b[0m\u001b[0m\n\u001b[0;32m--> 262\u001b[0;31m     \u001b[0ms\u001b[0m\u001b[0;34m.\u001b[0m\u001b[0mwrite\u001b[0m\u001b[0;34m(\u001b[0m\u001b[0mg\u001b[0m\u001b[0;34m.\u001b[0m\u001b[0mpipe\u001b[0m\u001b[0;34m(\u001b[0m\u001b[0mformat\u001b[0m\u001b[0;34m=\u001b[0m\u001b[0;34m'png'\u001b[0m\u001b[0;34m)\u001b[0m\u001b[0;34m)\u001b[0m\u001b[0;34m\u001b[0m\u001b[0m\n\u001b[0m\u001b[1;32m    263\u001b[0m     \u001b[0ms\u001b[0m\u001b[0;34m.\u001b[0m\u001b[0mseek\u001b[0m\u001b[0;34m(\u001b[0m\u001b[0;36m0\u001b[0m\u001b[0;34m)\u001b[0m\u001b[0;34m\u001b[0m\u001b[0m\n\u001b[1;32m    264\u001b[0m     \u001b[0mimg\u001b[0m \u001b[0;34m=\u001b[0m \u001b[0mimage\u001b[0m\u001b[0;34m.\u001b[0m\u001b[0mimread\u001b[0m\u001b[0;34m(\u001b[0m\u001b[0ms\u001b[0m\u001b[0;34m)\u001b[0m\u001b[0;34m\u001b[0m\u001b[0m\n",
      "\u001b[0;32m~/dev/SoundScorer221/venv/lib/python3.6/site-packages/graphviz/files.py\u001b[0m in \u001b[0;36mpipe\u001b[0;34m(self, format, renderer, formatter)\u001b[0m\n\u001b[1;32m    126\u001b[0m         \u001b[0mdata\u001b[0m \u001b[0;34m=\u001b[0m \u001b[0mtext_type\u001b[0m\u001b[0;34m(\u001b[0m\u001b[0mself\u001b[0m\u001b[0;34m.\u001b[0m\u001b[0msource\u001b[0m\u001b[0;34m)\u001b[0m\u001b[0;34m.\u001b[0m\u001b[0mencode\u001b[0m\u001b[0;34m(\u001b[0m\u001b[0mself\u001b[0m\u001b[0;34m.\u001b[0m\u001b[0m_encoding\u001b[0m\u001b[0;34m)\u001b[0m\u001b[0;34m\u001b[0m\u001b[0m\n\u001b[1;32m    127\u001b[0m \u001b[0;34m\u001b[0m\u001b[0m\n\u001b[0;32m--> 128\u001b[0;31m         \u001b[0mout\u001b[0m \u001b[0;34m=\u001b[0m \u001b[0mbackend\u001b[0m\u001b[0;34m.\u001b[0m\u001b[0mpipe\u001b[0m\u001b[0;34m(\u001b[0m\u001b[0mself\u001b[0m\u001b[0;34m.\u001b[0m\u001b[0m_engine\u001b[0m\u001b[0;34m,\u001b[0m \u001b[0mformat\u001b[0m\u001b[0;34m,\u001b[0m \u001b[0mdata\u001b[0m\u001b[0;34m,\u001b[0m \u001b[0mrenderer\u001b[0m\u001b[0;34m,\u001b[0m \u001b[0mformatter\u001b[0m\u001b[0;34m)\u001b[0m\u001b[0;34m\u001b[0m\u001b[0m\n\u001b[0m\u001b[1;32m    129\u001b[0m \u001b[0;34m\u001b[0m\u001b[0m\n\u001b[1;32m    130\u001b[0m         \u001b[0;32mreturn\u001b[0m \u001b[0mout\u001b[0m\u001b[0;34m\u001b[0m\u001b[0m\n",
      "\u001b[0;32m~/dev/SoundScorer221/venv/lib/python3.6/site-packages/graphviz/backend.py\u001b[0m in \u001b[0;36mpipe\u001b[0;34m(engine, format, data, renderer, formatter, quiet)\u001b[0m\n\u001b[1;32m    204\u001b[0m     \"\"\"\n\u001b[1;32m    205\u001b[0m     \u001b[0mcmd\u001b[0m\u001b[0;34m,\u001b[0m \u001b[0m_\u001b[0m \u001b[0;34m=\u001b[0m \u001b[0mcommand\u001b[0m\u001b[0;34m(\u001b[0m\u001b[0mengine\u001b[0m\u001b[0;34m,\u001b[0m \u001b[0mformat\u001b[0m\u001b[0;34m,\u001b[0m \u001b[0;32mNone\u001b[0m\u001b[0;34m,\u001b[0m \u001b[0mrenderer\u001b[0m\u001b[0;34m,\u001b[0m \u001b[0mformatter\u001b[0m\u001b[0;34m)\u001b[0m\u001b[0;34m\u001b[0m\u001b[0m\n\u001b[0;32m--> 206\u001b[0;31m     \u001b[0mout\u001b[0m\u001b[0;34m,\u001b[0m \u001b[0m_\u001b[0m \u001b[0;34m=\u001b[0m \u001b[0mrun\u001b[0m\u001b[0;34m(\u001b[0m\u001b[0mcmd\u001b[0m\u001b[0;34m,\u001b[0m \u001b[0minput\u001b[0m\u001b[0;34m=\u001b[0m\u001b[0mdata\u001b[0m\u001b[0;34m,\u001b[0m \u001b[0mcapture_output\u001b[0m\u001b[0;34m=\u001b[0m\u001b[0;32mTrue\u001b[0m\u001b[0;34m,\u001b[0m \u001b[0mcheck\u001b[0m\u001b[0;34m=\u001b[0m\u001b[0;32mTrue\u001b[0m\u001b[0;34m,\u001b[0m \u001b[0mquiet\u001b[0m\u001b[0;34m=\u001b[0m\u001b[0mquiet\u001b[0m\u001b[0;34m)\u001b[0m\u001b[0;34m\u001b[0m\u001b[0m\n\u001b[0m\u001b[1;32m    207\u001b[0m     \u001b[0;32mreturn\u001b[0m \u001b[0mout\u001b[0m\u001b[0;34m\u001b[0m\u001b[0m\n\u001b[1;32m    208\u001b[0m \u001b[0;34m\u001b[0m\u001b[0m\n",
      "\u001b[0;32m~/dev/SoundScorer221/venv/lib/python3.6/site-packages/graphviz/backend.py\u001b[0m in \u001b[0;36mrun\u001b[0;34m(cmd, input, capture_output, check, quiet, **kwargs)\u001b[0m\n\u001b[1;32m    148\u001b[0m     \u001b[0;32mexcept\u001b[0m \u001b[0mOSError\u001b[0m \u001b[0;32mas\u001b[0m \u001b[0me\u001b[0m\u001b[0;34m:\u001b[0m\u001b[0;34m\u001b[0m\u001b[0m\n\u001b[1;32m    149\u001b[0m         \u001b[0;32mif\u001b[0m \u001b[0me\u001b[0m\u001b[0;34m.\u001b[0m\u001b[0merrno\u001b[0m \u001b[0;34m==\u001b[0m \u001b[0merrno\u001b[0m\u001b[0;34m.\u001b[0m\u001b[0mENOENT\u001b[0m\u001b[0;34m:\u001b[0m\u001b[0;34m\u001b[0m\u001b[0m\n\u001b[0;32m--> 150\u001b[0;31m             \u001b[0;32mraise\u001b[0m \u001b[0mExecutableNotFound\u001b[0m\u001b[0;34m(\u001b[0m\u001b[0mcmd\u001b[0m\u001b[0;34m)\u001b[0m\u001b[0;34m\u001b[0m\u001b[0m\n\u001b[0m\u001b[1;32m    151\u001b[0m         \u001b[0;32melse\u001b[0m\u001b[0;34m:\u001b[0m  \u001b[0;31m# pragma: no cover\u001b[0m\u001b[0;34m\u001b[0m\u001b[0m\n\u001b[1;32m    152\u001b[0m             \u001b[0;32mraise\u001b[0m\u001b[0;34m\u001b[0m\u001b[0m\n",
      "\u001b[0;31mExecutableNotFound\u001b[0m: failed to execute ['dot', '-Tpng'], make sure the Graphviz executables are on your systems' PATH"
     ]
    },
    {
     "data": {
      "image/png": "[encoded data removed]",
      "text/plain": [
       "<Figure size 5760x3600 with 1 Axes>"
      ]
     },
     "metadata": {
      "needs_background": "light"
     },
     "output_type": "display_data"
    }
   ],
   "source": [
    "# Comment out to save memory\n",
    "\n",
    "rcParams['figure.figsize'] = 80,50\n",
    "plot_tree(XGB)\n",
    "fig = plt.gcf()\n",
    "fig.set_size_inches(50, 30)\n",
    "fig.savefig('tree.eps')"
   ]
  },
  {
   "cell_type": "code",
   "execution_count": null,
   "metadata": {},
   "outputs": [],
   "source": [
    "feat_imp = pd.Series(XGB.get_booster().get_fscore()).sort_values(ascending=False)\n",
    "feat_imp.plot(kind='bar')\n",
    "plt.xticks(size = 50)\n",
    "plt.yticks(size = 60)\n",
    "plt.suptitle('Feature Importances', fontsize=60)\n",
    "plt.ylabel('Feature Importance Score', size = 60)\n",
    "plt.savefig(\"FE.eps\")"
   ]
  },
  {
   "cell_type": "code",
   "execution_count": null,
   "metadata": {},
   "outputs": [],
   "source": []
  }
 ],
 "metadata": {
  "kernelspec": {
   "display_name": "Python 3",
   "language": "python",
   "name": "python3"
  },
  "language_info": {
   "codemirror_mode": {
    "name": "ipython",
    "version": 3
   },
   "file_extension": ".py",
   "mimetype": "text/x-python",
   "name": "python",
   "nbconvert_exporter": "python",
   "pygments_lexer": "ipython3",
   "version": "3.6.5"
  }
 },
 "nbformat": 4,
 "nbformat_minor": 2
}
