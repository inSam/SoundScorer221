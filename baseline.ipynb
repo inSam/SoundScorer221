{
 "cells": [
  {
   "cell_type": "code",
   "execution_count": 26,
   "metadata": {},
   "outputs": [],
   "source": [
    "import numpy as np\n",
    "import pandas as pd\n",
    "import json\n",
    "\n",
    "from sklearn.linear_model import LinearRegression\n",
    "from sklearn.svm import SVR\n",
    "from sklearn.model_selection import train_test_split\n",
    "from sklearn.metrics import accuracy_score\n",
    "from sklearn.metrics import mean_squared_error, r2_score\n",
    "\n",
    "from matplotlib import pyplot as plt\n",
    "import seaborn as sns\n",
    "\n",
    "import itertools\n",
    "import random\n",
    "\n",
    "import spotipy\n",
    "from spotipy.oauth2 import SpotifyClientCredentials\n",
    "import util\n",
    "\n",
    "%matplotlib inline"
   ]
  },
  {
   "cell_type": "markdown",
   "metadata": {},
   "source": [
    "## Pull Spotify Data"
   ]
  },
  {
   "cell_type": "code",
   "execution_count": 27,
   "metadata": {},
   "outputs": [],
   "source": [
    "CLIENT_ID=\"810e2eec841546269c49f338f1be189a\"\n",
    "CLIENT_SECRET=\"764290d0ab0f4f4484b0d4c7b701bdee\"\n",
    "\n",
    "token = SpotifyClientCredentials(client_id=CLIENT_ID, client_secret=CLIENT_SECRET)\n",
    "\n",
    "cache_token = token.get_access_token()\n",
    "sp = spotipy.Spotify(cache_token)"
   ]
  },
  {
   "cell_type": "code",
   "execution_count": 41,
   "metadata": {},
   "outputs": [
    {
     "name": "stdout",
     "output_type": "stream",
     "text": [
      "Loaded 6686 songs from data/tracks.json\n",
      "First ten songs: [['002QT7AS6h1LAF5dla8D92', 'Still Smell Like It', 56], ['003eoIwxETJujVWmNFMoZy', 'Growing Pains', 72], ['00B7TZ0Xawar6NZ00JFomN', 'Best Life (feat. Chance The Rapper)', 70], ['00Fboe8pNoWHLg1nn3e7Oi', 'Sands Of Time (Single Version) - Remastered', 0], ['00GL3XaK1sBpnB2eaam9SG', 'Ghost Town', 42], ['00I0pcNkN3IOX3fsYbaB4N', 'Infatuation', 69], ['00KjOnN3U40e3lXFUOue7h', '10AM/Save The World (feat. Gucci Mane)', 61], ['00Y9yFHumsN6Cg4cK3wXkM', 'Cap (feat. Trouble) - From Jxmtro', 51], ['00bWqt93aqLXqKtzZoq7Jw', 'MOOO!', 69], ['00ix2WCV1QGcrcVGliKJYY', 'Photograph - Felix Jaehn Remix', 28]]\n"
     ]
    }
   ],
   "source": [
    "# Pull data\n",
    "TRACK_DATA_PATH = \"data/tracks.json\"\n",
    "with open(TRACK_DATA_PATH,'r') as ff:\n",
    "    songs = json.load(ff)\n",
    "    \n",
    "# Remove duplicates\n",
    "songs.sort()\n",
    "songs = list(s for s,_ in itertools.groupby(songs))\n",
    "print(\"Loaded {} songs from {}\".format(len(songs), TRACK_DATA_PATH))\n",
    "print(\"First ten songs: {}\".format(songs[:10]))"
   ]
  },
  {
   "cell_type": "markdown",
   "metadata": {},
   "source": [
    "## Data Exploration"
   ]
  },
  {
   "cell_type": "code",
   "execution_count": 42,
   "metadata": {},
   "outputs": [
    {
     "data": {
      "text/plain": [
       "<matplotlib.axes._subplots.AxesSubplot at 0x113b58ba8>"
      ]
     },
     "execution_count": 42,
     "metadata": {},
     "output_type": "execute_result"
    },
    {
     "data": {
      "image/png": "[encoded data removed]",
      "text/plain": [
       "<Figure size 432x288 with 1 Axes>"
      ]
     },
     "metadata": {
      "needs_background": "light"
     },
     "output_type": "display_data"
    }
   ],
   "source": [
    "# Plot popularity distribution\n",
    "sns.distplot([s[2] for s in songs], rug=False, kde=False, axlabel=\"Popularity\")"
   ]
  },
  {
   "cell_type": "code",
   "execution_count": 43,
   "metadata": {},
   "outputs": [
    {
     "data": {
      "text/plain": [
       "[['2LskIZrCeLxRvCiGP8gxlh', 'Arms Around You (feat. Maluma & Swae Lee)', 94],\n",
       " ['3EPXxR3ImUwfayaurPi3cm', 'Be Alright', 94],\n",
       " ['3ee8Jmje8o58CHK66QrVC2', 'SAD!', 94],\n",
       " ['4S8d14HvHb70ImctNgVzQQ', 'I Love It (& Lil Pump)', 94],\n",
       " ['0d2iYfpKoM0QCKvcLCkBao', 'Eastside (with Halsey & Khalid)', 95],\n",
       " ['5N5k9nd479b1xpDZ4usjrg', 'Promises (with Sam Smith)', 95],\n",
       " ['2xLMifQCjDGFmkHkpNLD9h', 'SICKO MODE', 96],\n",
       " ['5p7ujcrUXASCNwRaWNHR1C', 'Without Me', 96],\n",
       " ['2dpaYNEQHiRxtZbfNsse99', 'Happier', 98],\n",
       " ['4w8niZpiMy6qz1mntFA5uM',\n",
       "  'Taki Taki (with Selena Gomez, Ozuna & Cardi B)',\n",
       "  100]]"
      ]
     },
     "execution_count": 43,
     "metadata": {},
     "output_type": "execute_result"
    }
   ],
   "source": [
    "# Extract top 5 most popular songs\n",
    "sorted(songs, key=lambda song: song[2])[-10:]"
   ]
  },
  {
   "cell_type": "markdown",
   "metadata": {},
   "source": [
    "## Feature Extraction"
   ]
  },
  {
   "cell_type": "code",
   "execution_count": 44,
   "metadata": {},
   "outputs": [
    {
     "data": {
      "text/plain": [
       "[{'danceability': 0.83,\n",
       "  'energy': 0.653,\n",
       "  'key': 1,\n",
       "  'loudness': -5.298,\n",
       "  'mode': 1,\n",
       "  'speechiness': 0.185,\n",
       "  'acousticness': 0.0469,\n",
       "  'instrumentalness': 0,\n",
       "  'liveness': 0.112,\n",
       "  'valence': 0.228,\n",
       "  'tempo': 123.032,\n",
       "  'type': 'audio_features',\n",
       "  'id': '002QT7AS6h1LAF5dla8D92',\n",
       "  'uri': 'spotify:track:002QT7AS6h1LAF5dla8D92',\n",
       "  'track_href': 'https://api.spotify.com/v1/tracks/002QT7AS6h1LAF5dla8D92',\n",
       "  'analysis_url': 'https://api.spotify.com/v1/audio-analysis/002QT7AS6h1LAF5dla8D92',\n",
       "  'duration_ms': 207827,\n",
       "  'time_signature': 4}]"
      ]
     },
     "execution_count": 44,
     "metadata": {},
     "output_type": "execute_result"
    }
   ],
   "source": [
    "sp.audio_features(songs[0][0])"
   ]
  },
  {
   "cell_type": "code",
   "execution_count": 52,
   "metadata": {},
   "outputs": [],
   "source": [
    "''' Returns a list of each track's audio features'''\n",
    "def features(songs):\n",
    "    all_feats = []\n",
    "    ids = [song[0] for song in songs]\n",
    "    # Spotify's audio_features can only return 50 songs at once\n",
    "    for i in range(0, len(songs), 50):\n",
    "        track_feats = sp.audio_features(ids[i:i+50])\n",
    "        for j in range(len(track_feats)):\n",
    "            if not track_feats[j]:\n",
    "                continue # song not found in Spotify\n",
    "            track_feats[j]['name'] = songs[i+j][1]\n",
    "            track_feats[j]['popularity'] = songs[i+j][2]\n",
    "        all_feats.extend(filter(None, track_feats))\n",
    "    return all_feats"
   ]
  },
  {
   "cell_type": "code",
   "execution_count": 53,
   "metadata": {},
   "outputs": [
    {
     "name": "stdout",
     "output_type": "stream",
     "text": [
      "retrying ...1secs\n"
     ]
    },
    {
     "data": {
      "text/plain": [
       "{'danceability': 0.598,\n",
       " 'energy': 0.559,\n",
       " 'key': 4,\n",
       " 'loudness': -7.534,\n",
       " 'mode': 0,\n",
       " 'speechiness': 0.0616,\n",
       " 'acousticness': 0.301,\n",
       " 'instrumentalness': 0,\n",
       " 'liveness': 0.263,\n",
       " 'valence': 0.0922,\n",
       " 'tempo': 171.851,\n",
       " 'type': 'audio_features',\n",
       " 'id': '07VizkUweZe2lQo4yWIhgA',\n",
       " 'uri': 'spotify:track:07VizkUweZe2lQo4yWIhgA',\n",
       " 'track_href': 'https://api.spotify.com/v1/tracks/07VizkUweZe2lQo4yWIhgA',\n",
       " 'analysis_url': 'https://api.spotify.com/v1/audio-analysis/07VizkUweZe2lQo4yWIhgA',\n",
       " 'duration_ms': 212482,\n",
       " 'time_signature': 4,\n",
       " 'name': \"해장국 Hero's Soup\",\n",
       " 'popularity': 58}"
      ]
     },
     "execution_count": 53,
     "metadata": {},
     "output_type": "execute_result"
    }
   ],
   "source": [
    "feats = features(songs)\n",
    "feats[100]"
   ]
  },
  {
   "cell_type": "code",
   "execution_count": 54,
   "metadata": {},
   "outputs": [
    {
     "data": {
      "text/html": [
       "<div>\n",
       "<style scoped>\n",
       "    .dataframe tbody tr th:only-of-type {\n",
       "        vertical-align: middle;\n",
       "    }\n",
       "\n",
       "    .dataframe tbody tr th {\n",
       "        vertical-align: top;\n",
       "    }\n",
       "\n",
       "    .dataframe thead th {\n",
       "        text-align: right;\n",
       "    }\n",
       "</style>\n",
       "<table border=\"1\" class=\"dataframe\">\n",
       "  <thead>\n",
       "    <tr style=\"text-align: right;\">\n",
       "      <th></th>\n",
       "      <th>acousticness</th>\n",
       "      <th>analysis_url</th>\n",
       "      <th>danceability</th>\n",
       "      <th>duration_ms</th>\n",
       "      <th>energy</th>\n",
       "      <th>id</th>\n",
       "      <th>instrumentalness</th>\n",
       "      <th>key</th>\n",
       "      <th>liveness</th>\n",
       "      <th>loudness</th>\n",
       "      <th>mode</th>\n",
       "      <th>name</th>\n",
       "      <th>popularity</th>\n",
       "      <th>speechiness</th>\n",
       "      <th>tempo</th>\n",
       "      <th>time_signature</th>\n",
       "      <th>track_href</th>\n",
       "      <th>type</th>\n",
       "      <th>uri</th>\n",
       "      <th>valence</th>\n",
       "    </tr>\n",
       "  </thead>\n",
       "  <tbody>\n",
       "    <tr>\n",
       "      <th>5291</th>\n",
       "      <td>0.008990</td>\n",
       "      <td>https://api.spotify.com/v1/audio-analysis/6Cnk...</td>\n",
       "      <td>0.537</td>\n",
       "      <td>200067</td>\n",
       "      <td>0.670</td>\n",
       "      <td>6CnkB2yYPK0OyQPxIiJiqD</td>\n",
       "      <td>0.000000</td>\n",
       "      <td>4</td>\n",
       "      <td>0.109</td>\n",
       "      <td>-5.766</td>\n",
       "      <td>1</td>\n",
       "      <td>Texas Rain</td>\n",
       "      <td>38</td>\n",
       "      <td>0.0289</td>\n",
       "      <td>116.922</td>\n",
       "      <td>4</td>\n",
       "      <td>https://api.spotify.com/v1/tracks/6CnkB2yYPK0O...</td>\n",
       "      <td>audio_features</td>\n",
       "      <td>spotify:track:6CnkB2yYPK0OyQPxIiJiqD</td>\n",
       "      <td>0.314</td>\n",
       "    </tr>\n",
       "    <tr>\n",
       "      <th>1123</th>\n",
       "      <td>0.573000</td>\n",
       "      <td>https://api.spotify.com/v1/audio-analysis/1GOd...</td>\n",
       "      <td>0.865</td>\n",
       "      <td>145796</td>\n",
       "      <td>0.382</td>\n",
       "      <td>1GOdautWhJextNtKyy7MIK</td>\n",
       "      <td>0.000000</td>\n",
       "      <td>1</td>\n",
       "      <td>0.127</td>\n",
       "      <td>-10.158</td>\n",
       "      <td>1</td>\n",
       "      <td>Helluva Price</td>\n",
       "      <td>64</td>\n",
       "      <td>0.2520</td>\n",
       "      <td>135.045</td>\n",
       "      <td>4</td>\n",
       "      <td>https://api.spotify.com/v1/tracks/1GOdautWhJex...</td>\n",
       "      <td>audio_features</td>\n",
       "      <td>spotify:track:1GOdautWhJextNtKyy7MIK</td>\n",
       "      <td>0.242</td>\n",
       "    </tr>\n",
       "    <tr>\n",
       "      <th>240</th>\n",
       "      <td>0.000188</td>\n",
       "      <td>https://api.spotify.com/v1/audio-analysis/0Glh...</td>\n",
       "      <td>0.370</td>\n",
       "      <td>210609</td>\n",
       "      <td>0.891</td>\n",
       "      <td>0Glh42DIek8efOESUlAcwU</td>\n",
       "      <td>0.000002</td>\n",
       "      <td>7</td>\n",
       "      <td>0.310</td>\n",
       "      <td>-4.693</td>\n",
       "      <td>0</td>\n",
       "      <td>Four Letter Word</td>\n",
       "      <td>43</td>\n",
       "      <td>0.0750</td>\n",
       "      <td>175.003</td>\n",
       "      <td>4</td>\n",
       "      <td>https://api.spotify.com/v1/tracks/0Glh42DIek8e...</td>\n",
       "      <td>audio_features</td>\n",
       "      <td>spotify:track:0Glh42DIek8efOESUlAcwU</td>\n",
       "      <td>0.389</td>\n",
       "    </tr>\n",
       "    <tr>\n",
       "      <th>4780</th>\n",
       "      <td>0.000215</td>\n",
       "      <td>https://api.spotify.com/v1/audio-analysis/5b3w...</td>\n",
       "      <td>0.497</td>\n",
       "      <td>213989</td>\n",
       "      <td>0.879</td>\n",
       "      <td>5b3wsEvEfioyCHuupFCvrh</td>\n",
       "      <td>0.000005</td>\n",
       "      <td>2</td>\n",
       "      <td>0.101</td>\n",
       "      <td>-5.334</td>\n",
       "      <td>1</td>\n",
       "      <td>Black &amp; White</td>\n",
       "      <td>54</td>\n",
       "      <td>0.0343</td>\n",
       "      <td>141.857</td>\n",
       "      <td>4</td>\n",
       "      <td>https://api.spotify.com/v1/tracks/5b3wsEvEfioy...</td>\n",
       "      <td>audio_features</td>\n",
       "      <td>spotify:track:5b3wsEvEfioyCHuupFCvrh</td>\n",
       "      <td>0.334</td>\n",
       "    </tr>\n",
       "    <tr>\n",
       "      <th>4855</th>\n",
       "      <td>0.050200</td>\n",
       "      <td>https://api.spotify.com/v1/audio-analysis/5g9d...</td>\n",
       "      <td>0.738</td>\n",
       "      <td>210396</td>\n",
       "      <td>0.886</td>\n",
       "      <td>5g9dvFh8e689Z7tOCUmciR</td>\n",
       "      <td>0.789000</td>\n",
       "      <td>6</td>\n",
       "      <td>0.275</td>\n",
       "      <td>-6.242</td>\n",
       "      <td>1</td>\n",
       "      <td>Promises (with Sam Smith) - Mousse T.'s Disco ...</td>\n",
       "      <td>48</td>\n",
       "      <td>0.0341</td>\n",
       "      <td>122.984</td>\n",
       "      <td>4</td>\n",
       "      <td>https://api.spotify.com/v1/tracks/5g9dvFh8e689...</td>\n",
       "      <td>audio_features</td>\n",
       "      <td>spotify:track:5g9dvFh8e689Z7tOCUmciR</td>\n",
       "      <td>0.966</td>\n",
       "    </tr>\n",
       "  </tbody>\n",
       "</table>\n",
       "</div>"
      ],
      "text/plain": [
       "      acousticness                                       analysis_url  \\\n",
       "5291      0.008990  https://api.spotify.com/v1/audio-analysis/6Cnk...   \n",
       "1123      0.573000  https://api.spotify.com/v1/audio-analysis/1GOd...   \n",
       "240       0.000188  https://api.spotify.com/v1/audio-analysis/0Glh...   \n",
       "4780      0.000215  https://api.spotify.com/v1/audio-analysis/5b3w...   \n",
       "4855      0.050200  https://api.spotify.com/v1/audio-analysis/5g9d...   \n",
       "\n",
       "      danceability  duration_ms  energy                      id  \\\n",
       "5291         0.537       200067   0.670  6CnkB2yYPK0OyQPxIiJiqD   \n",
       "1123         0.865       145796   0.382  1GOdautWhJextNtKyy7MIK   \n",
       "240          0.370       210609   0.891  0Glh42DIek8efOESUlAcwU   \n",
       "4780         0.497       213989   0.879  5b3wsEvEfioyCHuupFCvrh   \n",
       "4855         0.738       210396   0.886  5g9dvFh8e689Z7tOCUmciR   \n",
       "\n",
       "      instrumentalness  key  liveness  loudness  mode  \\\n",
       "5291          0.000000    4     0.109    -5.766     1   \n",
       "1123          0.000000    1     0.127   -10.158     1   \n",
       "240           0.000002    7     0.310    -4.693     0   \n",
       "4780          0.000005    2     0.101    -5.334     1   \n",
       "4855          0.789000    6     0.275    -6.242     1   \n",
       "\n",
       "                                                   name  popularity  \\\n",
       "5291                                         Texas Rain          38   \n",
       "1123                                      Helluva Price          64   \n",
       "240                                    Four Letter Word          43   \n",
       "4780                                      Black & White          54   \n",
       "4855  Promises (with Sam Smith) - Mousse T.'s Disco ...          48   \n",
       "\n",
       "      speechiness    tempo  time_signature  \\\n",
       "5291       0.0289  116.922               4   \n",
       "1123       0.2520  135.045               4   \n",
       "240        0.0750  175.003               4   \n",
       "4780       0.0343  141.857               4   \n",
       "4855       0.0341  122.984               4   \n",
       "\n",
       "                                             track_href            type  \\\n",
       "5291  https://api.spotify.com/v1/tracks/6CnkB2yYPK0O...  audio_features   \n",
       "1123  https://api.spotify.com/v1/tracks/1GOdautWhJex...  audio_features   \n",
       "240   https://api.spotify.com/v1/tracks/0Glh42DIek8e...  audio_features   \n",
       "4780  https://api.spotify.com/v1/tracks/5b3wsEvEfioy...  audio_features   \n",
       "4855  https://api.spotify.com/v1/tracks/5g9dvFh8e689...  audio_features   \n",
       "\n",
       "                                       uri  valence  \n",
       "5291  spotify:track:6CnkB2yYPK0OyQPxIiJiqD    0.314  \n",
       "1123  spotify:track:1GOdautWhJextNtKyy7MIK    0.242  \n",
       "240   spotify:track:0Glh42DIek8efOESUlAcwU    0.389  \n",
       "4780  spotify:track:5b3wsEvEfioyCHuupFCvrh    0.334  \n",
       "4855  spotify:track:5g9dvFh8e689Z7tOCUmciR    0.966  "
      ]
     },
     "execution_count": 54,
     "metadata": {},
     "output_type": "execute_result"
    }
   ],
   "source": [
    "data = pd.DataFrame(feats)\n",
    "data = data.sample(frac=1)\n",
    "data.head()"
   ]
  },
  {
   "cell_type": "code",
   "execution_count": 57,
   "metadata": {},
   "outputs": [
    {
     "data": {
      "text/html": [
       "<div>\n",
       "<style scoped>\n",
       "    .dataframe tbody tr th:only-of-type {\n",
       "        vertical-align: middle;\n",
       "    }\n",
       "\n",
       "    .dataframe tbody tr th {\n",
       "        vertical-align: top;\n",
       "    }\n",
       "\n",
       "    .dataframe thead th {\n",
       "        text-align: right;\n",
       "    }\n",
       "</style>\n",
       "<table border=\"1\" class=\"dataframe\">\n",
       "  <thead>\n",
       "    <tr style=\"text-align: right;\">\n",
       "      <th></th>\n",
       "      <th>acousticness</th>\n",
       "      <th>analysis_url</th>\n",
       "      <th>danceability</th>\n",
       "      <th>duration_ms</th>\n",
       "      <th>energy</th>\n",
       "      <th>id</th>\n",
       "      <th>instrumentalness</th>\n",
       "      <th>key</th>\n",
       "      <th>liveness</th>\n",
       "      <th>loudness</th>\n",
       "      <th>mode</th>\n",
       "      <th>name</th>\n",
       "      <th>popularity</th>\n",
       "      <th>speechiness</th>\n",
       "      <th>tempo</th>\n",
       "      <th>time_signature</th>\n",
       "      <th>track_href</th>\n",
       "      <th>type</th>\n",
       "      <th>uri</th>\n",
       "      <th>valence</th>\n",
       "    </tr>\n",
       "  </thead>\n",
       "  <tbody>\n",
       "    <tr>\n",
       "      <th>4229</th>\n",
       "      <td>0.153</td>\n",
       "      <td>https://api.spotify.com/v1/audio-analysis/4w8n...</td>\n",
       "      <td>0.841</td>\n",
       "      <td>212500</td>\n",
       "      <td>0.798</td>\n",
       "      <td>4w8niZpiMy6qz1mntFA5uM</td>\n",
       "      <td>0.000003</td>\n",
       "      <td>1</td>\n",
       "      <td>0.0618</td>\n",
       "      <td>-4.206</td>\n",
       "      <td>0</td>\n",
       "      <td>Taki Taki (with Selena Gomez, Ozuna &amp; Cardi B)</td>\n",
       "      <td>100</td>\n",
       "      <td>0.229</td>\n",
       "      <td>95.948</td>\n",
       "      <td>4</td>\n",
       "      <td>https://api.spotify.com/v1/tracks/4w8niZpiMy6q...</td>\n",
       "      <td>audio_features</td>\n",
       "      <td>spotify:track:4w8niZpiMy6qz1mntFA5uM</td>\n",
       "      <td>0.591</td>\n",
       "    </tr>\n",
       "  </tbody>\n",
       "</table>\n",
       "</div>"
      ],
      "text/plain": [
       "      acousticness                                       analysis_url  \\\n",
       "4229         0.153  https://api.spotify.com/v1/audio-analysis/4w8n...   \n",
       "\n",
       "      danceability  duration_ms  energy                      id  \\\n",
       "4229         0.841       212500   0.798  4w8niZpiMy6qz1mntFA5uM   \n",
       "\n",
       "      instrumentalness  key  liveness  loudness  mode  \\\n",
       "4229          0.000003    1    0.0618    -4.206     0   \n",
       "\n",
       "                                                name  popularity  speechiness  \\\n",
       "4229  Taki Taki (with Selena Gomez, Ozuna & Cardi B)         100        0.229   \n",
       "\n",
       "       tempo  time_signature  \\\n",
       "4229  95.948               4   \n",
       "\n",
       "                                             track_href            type  \\\n",
       "4229  https://api.spotify.com/v1/tracks/4w8niZpiMy6q...  audio_features   \n",
       "\n",
       "                                       uri  valence  \n",
       "4229  spotify:track:4w8niZpiMy6qz1mntFA5uM    0.591  "
      ]
     },
     "execution_count": 57,
     "metadata": {},
     "output_type": "execute_result"
    }
   ],
   "source": [
    "data.loc[data['popularity'] == 100]"
   ]
  },
  {
   "cell_type": "code",
   "execution_count": 58,
   "metadata": {},
   "outputs": [],
   "source": [
    "features = [\"acousticness\", \"danceability\", \"energy\", \n",
    "            \"loudness\", \"speechiness\", \"tempo\", \"valence\"]"
   ]
  },
  {
   "cell_type": "code",
   "execution_count": 59,
   "metadata": {},
   "outputs": [
    {
     "name": "stdout",
     "output_type": "stream",
     "text": [
      "Training size: 5680, Test size: 1003\n"
     ]
    }
   ],
   "source": [
    "train, test = train_test_split(data, test_size=0.15)\n",
    "x_train, y_train = train[features], train[\"popularity\"]\n",
    "x_test, y_test = test[features], test[\"popularity\"]\n",
    "print(\"Training size: {}, Test size: {}\".format(len(train), len(test)))"
   ]
  },
  {
   "cell_type": "markdown",
   "metadata": {},
   "source": [
    "## Baseline (Linear Regression)"
   ]
  },
  {
   "cell_type": "code",
   "execution_count": 61,
   "metadata": {
    "scrolled": true
   },
   "outputs": [
    {
     "data": {
      "text/plain": [
       "LinearRegression(copy_X=True, fit_intercept=True, n_jobs=None,\n",
       "         normalize=False)"
      ]
     },
     "execution_count": 61,
     "metadata": {},
     "output_type": "execute_result"
    }
   ],
   "source": [
    "lin_mod = LinearRegression()\n",
    "lin_mod.fit(x_train, y_train)"
   ]
  },
  {
   "cell_type": "code",
   "execution_count": 66,
   "metadata": {},
   "outputs": [
    {
     "name": "stdout",
     "output_type": "stream",
     "text": [
      "Mean Squared Error: 292.8455076704931\n",
      "Variance Score: -3.2019017527733427\n"
     ]
    }
   ],
   "source": [
    "test_preds = lin_mod.predict(x_test)\n",
    "print(\"Mean Squared Error: {}\".format(mean_squared_error(test_preds, y_test)))\n",
    "print(\"Variance Score: {}\".format(r2_score(test_preds, y_test)))"
   ]
  },
  {
   "cell_type": "code",
   "execution_count": 67,
   "metadata": {},
   "outputs": [
    {
     "name": "stdout",
     "output_type": "stream",
     "text": [
      "Model coefficients: {'acousticness': -2.9014853865481935, 'danceability': 20.700890311630463, 'energy': -7.1444361794595626, 'loudness': 1.293087525180298, 'speechiness': -0.5248406190300241, 'tempo': 0.011759424294790922, 'valence': -9.23376691031368}\n"
     ]
    }
   ],
   "source": [
    "coeffs = dict(zip(features, lin_mod.coef_))\n",
    "print(\"Model coefficients: {}\".format(coeffs))"
   ]
  },
  {
   "cell_type": "markdown",
   "metadata": {},
   "source": [
    "## SVM "
   ]
  },
  {
   "cell_type": "code",
   "execution_count": 68,
   "metadata": {},
   "outputs": [
    {
     "data": {
      "text/plain": [
       "SVR(C=1.0, cache_size=200, coef0=0.0, degree=3, epsilon=0.1, gamma='scale',\n",
       "  kernel='rbf', max_iter=-1, shrinking=True, tol=0.001, verbose=False)"
      ]
     },
     "execution_count": 68,
     "metadata": {},
     "output_type": "execute_result"
    }
   ],
   "source": [
    "svr = SVR(gamma='scale')\n",
    "svr.fit(x_train, y_train)"
   ]
  },
  {
   "cell_type": "code",
   "execution_count": 69,
   "metadata": {},
   "outputs": [
    {
     "name": "stdout",
     "output_type": "stream",
     "text": [
      "SVM Mean Squared Error: 302.62520951823603\n",
      "SVM Variance Score: -6.593835448507702\n"
     ]
    }
   ],
   "source": [
    "test_preds = svr.predict(x_test)\n",
    "print(\"SVM Mean Squared Error: {}\".format(mean_squared_error(test_preds, y_test)))\n",
    "print(\"SVM Variance Score: {}\".format(r2_score(test_preds, y_test)))"
   ]
  },
  {
   "cell_type": "code",
   "execution_count": null,
   "metadata": {},
   "outputs": [],
   "source": []
  }
 ],
 "metadata": {
  "kernelspec": {
   "display_name": "Python 3",
   "language": "python",
   "name": "python3"
  },
  "language_info": {
   "codemirror_mode": {
    "name": "ipython",
    "version": 3
   },
   "file_extension": ".py",
   "mimetype": "text/x-python",
   "name": "python",
   "nbconvert_exporter": "python",
   "pygments_lexer": "ipython3",
   "version": "3.6.5"
  }
 },
 "nbformat": 4,
 "nbformat_minor": 2
}
