{
 "cells": [
  {
   "cell_type": "code",
   "execution_count": 1,
   "metadata": {},
   "outputs": [
    {
     "name": "stderr",
     "output_type": "stream",
     "text": [
      "/Library/Frameworks/Python.framework/Versions/3.6/lib/python3.6/site-packages/sklearn/ensemble/weight_boosting.py:29: DeprecationWarning: numpy.core.umath_tests is an internal NumPy module and should not be imported. It will be removed in a future NumPy release.\n",
      "  from numpy.core.umath_tests import inner1d\n"
     ]
    }
   ],
   "source": [
    "import numpy as np\n",
    "import pandas as pd\n",
    "\n",
    "import json\n",
    "import itertools\n",
    "import random\n",
    "\n",
    "from sklearn.model_selection import train_test_split\n",
    "from sklearn.metrics import accuracy_score\n",
    "from sklearn.metrics import mean_squared_error, r2_score\n",
    "\n",
    "from sklearn.linear_model import LinearRegression\n",
    "from sklearn.svm import SVR\n",
    "from sklearn.ensemble import RandomForestRegressor\n",
    "from sklearn.ensemble import GradientBoostingRegressor\n",
    "\n",
    "from matplotlib import pyplot as plt\n",
    "import seaborn as sns\n",
    "\n",
    "import spotipy\n",
    "from spotipy.oauth2 import SpotifyClientCredentials\n",
    "import util\n",
    "\n",
    "%matplotlib inline"
   ]
  },
  {
   "cell_type": "markdown",
   "metadata": {},
   "source": [
    "## Pull Spotify Data"
   ]
  },
  {
   "cell_type": "code",
   "execution_count": 2,
   "metadata": {
    "collapsed": true
   },
   "outputs": [],
   "source": [
    "CLIENT_ID=\"810e2eec841546269c49f338f1be189a\"\n",
    "CLIENT_SECRET=\"764290d0ab0f4f4484b0d4c7b701bdee\"\n",
    "\n",
    "token = SpotifyClientCredentials(client_id=CLIENT_ID, client_secret=CLIENT_SECRET)\n",
    "\n",
    "cache_token = token.get_access_token()\n",
    "sp = spotipy.Spotify(cache_token)"
   ]
  },
  {
   "cell_type": "code",
   "execution_count": 3,
   "metadata": {},
   "outputs": [
    {
     "name": "stdout",
     "output_type": "stream",
     "text": [
      "Loaded 6686 songs from data/tracks.json\n",
      "First ten songs: [['002QT7AS6h1LAF5dla8D92', 'Still Smell Like It', 56], ['003eoIwxETJujVWmNFMoZy', 'Growing Pains', 72], ['00B7TZ0Xawar6NZ00JFomN', 'Best Life (feat. Chance The Rapper)', 70], ['00Fboe8pNoWHLg1nn3e7Oi', 'Sands Of Time (Single Version) - Remastered', 0], ['00GL3XaK1sBpnB2eaam9SG', 'Ghost Town', 42], ['00I0pcNkN3IOX3fsYbaB4N', 'Infatuation', 69], ['00KjOnN3U40e3lXFUOue7h', '10AM/Save The World (feat. Gucci Mane)', 61], ['00Y9yFHumsN6Cg4cK3wXkM', 'Cap (feat. Trouble) - From Jxmtro', 51], ['00bWqt93aqLXqKtzZoq7Jw', 'MOOO!', 69], ['00ix2WCV1QGcrcVGliKJYY', 'Photograph - Felix Jaehn Remix', 28]]\n"
     ]
    }
   ],
   "source": [
    "# Pull data\n",
    "TRACK_DATA_PATH = \"data/tracks.json\"\n",
    "with open(TRACK_DATA_PATH,'r') as ff:\n",
    "    songs = json.load(ff)\n",
    "    \n",
    "# Remove duplicates\n",
    "songs.sort()\n",
    "songs = list(s for s,_ in itertools.groupby(songs))\n",
    "print(\"Loaded {} songs from {}\".format(len(songs), TRACK_DATA_PATH))\n",
    "print(\"First ten songs: {}\".format(songs[:10]))"
   ]
  },
  {
   "cell_type": "markdown",
   "metadata": {},
   "source": [
    "## Data Exploration"
   ]
  },
  {
   "cell_type": "code",
   "execution_count": 94,
   "metadata": {},
   "outputs": [
    {
     "name": "stderr",
     "output_type": "stream",
     "text": [
      "/Users/etang/dev/SoundScorer221/venv/lib/python3.6/site-packages/scipy/stats/stats.py:1713: FutureWarning: Using a non-tuple sequence for multidimensional indexing is deprecated; use `arr[tuple(seq)]` instead of `arr[seq]`. In the future this will be interpreted as an array index, `arr[np.array(seq)]`, which will result either in an error or a different result.\n",
      "  return np.add.reduce(sorted[indexer] * weights, axis=axis) / sumval\n"
     ]
    },
    {
     "data": {
      "text/plain": [
       "<matplotlib.axes._subplots.AxesSubplot at 0x119e3e2b0>"
      ]
     },
     "execution_count": 94,
     "metadata": {},
     "output_type": "execute_result"
    },
    {
     "data": {
      "image/png": "[encoded data removed]",
      "text/plain": [
       "<Figure size 432x288 with 1 Axes>"
      ]
     },
     "metadata": {
      "needs_background": "light"
     },
     "output_type": "display_data"
    }
   ],
   "source": [
    "# Plot popularity distribution\n",
    "sns.distplot([s[2] for s in songs], rug=False, kde=False, axlabel=\"Popularity\")"
   ]
  },
  {
   "cell_type": "code",
   "execution_count": 4,
   "metadata": {},
   "outputs": [
    {
     "data": {
      "text/plain": [
       "[['2LskIZrCeLxRvCiGP8gxlh', 'Arms Around You (feat. Maluma & Swae Lee)', 94],\n",
       " ['3EPXxR3ImUwfayaurPi3cm', 'Be Alright', 94],\n",
       " ['3ee8Jmje8o58CHK66QrVC2', 'SAD!', 94],\n",
       " ['4S8d14HvHb70ImctNgVzQQ', 'I Love It (& Lil Pump)', 94],\n",
       " ['0d2iYfpKoM0QCKvcLCkBao', 'Eastside (with Halsey & Khalid)', 95],\n",
       " ['5N5k9nd479b1xpDZ4usjrg', 'Promises (with Sam Smith)', 95],\n",
       " ['2xLMifQCjDGFmkHkpNLD9h', 'SICKO MODE', 96],\n",
       " ['5p7ujcrUXASCNwRaWNHR1C', 'Without Me', 96],\n",
       " ['2dpaYNEQHiRxtZbfNsse99', 'Happier', 98],\n",
       " ['4w8niZpiMy6qz1mntFA5uM',\n",
       "  'Taki Taki (with Selena Gomez, Ozuna & Cardi B)',\n",
       "  100]]"
      ]
     },
     "execution_count": 4,
     "metadata": {},
     "output_type": "execute_result"
    }
   ],
   "source": [
    "# Extract top 5 most popular songs\n",
    "sorted(songs, key=lambda song: song[2])[-10:]"
   ]
  },
  {
   "cell_type": "markdown",
   "metadata": {},
   "source": [
    "## Feature Extraction"
   ]
  },
  {
   "cell_type": "code",
   "execution_count": 5,
   "metadata": {},
   "outputs": [
    {
     "data": {
      "text/plain": [
       "[{'acousticness': 0.0469,\n",
       "  'analysis_url': 'https://api.spotify.com/v1/audio-analysis/002QT7AS6h1LAF5dla8D92',\n",
       "  'danceability': 0.83,\n",
       "  'duration_ms': 207827,\n",
       "  'energy': 0.653,\n",
       "  'id': '002QT7AS6h1LAF5dla8D92',\n",
       "  'instrumentalness': 0,\n",
       "  'key': 1,\n",
       "  'liveness': 0.112,\n",
       "  'loudness': -5.298,\n",
       "  'mode': 1,\n",
       "  'speechiness': 0.185,\n",
       "  'tempo': 123.032,\n",
       "  'time_signature': 4,\n",
       "  'track_href': 'https://api.spotify.com/v1/tracks/002QT7AS6h1LAF5dla8D92',\n",
       "  'type': 'audio_features',\n",
       "  'uri': 'spotify:track:002QT7AS6h1LAF5dla8D92',\n",
       "  'valence': 0.228}]"
      ]
     },
     "execution_count": 5,
     "metadata": {},
     "output_type": "execute_result"
    }
   ],
   "source": [
    "# audio_features provides high-level Echo Nest features\n",
    "sp.audio_features(songs[0][0])"
   ]
  },
  {
   "cell_type": "code",
   "execution_count": 6,
   "metadata": {
    "collapsed": true
   },
   "outputs": [],
   "source": [
    "''' Returns a list of each track's audio features'''\n",
    "def features(songs):\n",
    "    all_feats = []\n",
    "    ids = [song[0] for song in songs]\n",
    "    # Spotify's audio_features can only return 50 songs at once\n",
    "    for i in range(0, len(songs), 50):\n",
    "        track_feats = sp.audio_features(ids[i:i+50])\n",
    "        for j in range(len(track_feats)):\n",
    "            if not track_feats[j]:\n",
    "                continue # song not found in Spotify\n",
    "            track_feats[j]['name'] = songs[i+j][1]\n",
    "            track_feats[j]['popularity'] = songs[i+j][2]\n",
    "        all_feats.extend(filter(None, track_feats))\n",
    "    return all_feats"
   ]
  },
  {
   "cell_type": "code",
   "execution_count": 7,
   "metadata": {},
   "outputs": [
    {
     "data": {
      "text/plain": [
       "{'acousticness': 0.301,\n",
       " 'analysis_url': 'https://api.spotify.com/v1/audio-analysis/07VizkUweZe2lQo4yWIhgA',\n",
       " 'danceability': 0.598,\n",
       " 'duration_ms': 212482,\n",
       " 'energy': 0.559,\n",
       " 'id': '07VizkUweZe2lQo4yWIhgA',\n",
       " 'instrumentalness': 0,\n",
       " 'key': 4,\n",
       " 'liveness': 0.263,\n",
       " 'loudness': -7.534,\n",
       " 'mode': 0,\n",
       " 'name': \"해장국 Hero's Soup\",\n",
       " 'popularity': 58,\n",
       " 'speechiness': 0.0616,\n",
       " 'tempo': 171.851,\n",
       " 'time_signature': 4,\n",
       " 'track_href': 'https://api.spotify.com/v1/tracks/07VizkUweZe2lQo4yWIhgA',\n",
       " 'type': 'audio_features',\n",
       " 'uri': 'spotify:track:07VizkUweZe2lQo4yWIhgA',\n",
       " 'valence': 0.0922}"
      ]
     },
     "execution_count": 7,
     "metadata": {},
     "output_type": "execute_result"
    }
   ],
   "source": [
    "feats = features(songs)\n",
    "feats[100]"
   ]
  },
  {
   "cell_type": "code",
   "execution_count": 9,
   "metadata": {},
   "outputs": [
    {
     "data": {
      "text/html": [
       "<div>\n",
       "<style>\n",
       "    .dataframe thead tr:only-child th {\n",
       "        text-align: right;\n",
       "    }\n",
       "\n",
       "    .dataframe thead th {\n",
       "        text-align: left;\n",
       "    }\n",
       "\n",
       "    .dataframe tbody tr th {\n",
       "        vertical-align: top;\n",
       "    }\n",
       "</style>\n",
       "<table border=\"1\" class=\"dataframe\">\n",
       "  <thead>\n",
       "    <tr style=\"text-align: right;\">\n",
       "      <th></th>\n",
       "      <th>acousticness</th>\n",
       "      <th>analysis_url</th>\n",
       "      <th>danceability</th>\n",
       "      <th>duration_ms</th>\n",
       "      <th>energy</th>\n",
       "      <th>id</th>\n",
       "      <th>instrumentalness</th>\n",
       "      <th>key</th>\n",
       "      <th>liveness</th>\n",
       "      <th>loudness</th>\n",
       "      <th>mode</th>\n",
       "      <th>name</th>\n",
       "      <th>popularity</th>\n",
       "      <th>speechiness</th>\n",
       "      <th>tempo</th>\n",
       "      <th>time_signature</th>\n",
       "      <th>track_href</th>\n",
       "      <th>type</th>\n",
       "      <th>uri</th>\n",
       "      <th>valence</th>\n",
       "    </tr>\n",
       "  </thead>\n",
       "  <tbody>\n",
       "    <tr>\n",
       "      <th>4667</th>\n",
       "      <td>0.93100</td>\n",
       "      <td>https://api.spotify.com/v1/audio-analysis/5SMa...</td>\n",
       "      <td>0.0636</td>\n",
       "      <td>425173</td>\n",
       "      <td>0.141</td>\n",
       "      <td>5SMaPs9KzZSn2tn4VxZbXp</td>\n",
       "      <td>0.875000</td>\n",
       "      <td>2</td>\n",
       "      <td>0.0543</td>\n",
       "      <td>-21.424</td>\n",
       "      <td>0</td>\n",
       "      <td>Chromatic Fantasia &amp; Fugue in D Minor, BWV 903...</td>\n",
       "      <td>0</td>\n",
       "      <td>0.0370</td>\n",
       "      <td>65.169</td>\n",
       "      <td>5</td>\n",
       "      <td>https://api.spotify.com/v1/tracks/5SMaPs9KzZSn...</td>\n",
       "      <td>audio_features</td>\n",
       "      <td>spotify:track:5SMaPs9KzZSn2tn4VxZbXp</td>\n",
       "      <td>0.0398</td>\n",
       "    </tr>\n",
       "    <tr>\n",
       "      <th>6132</th>\n",
       "      <td>0.04000</td>\n",
       "      <td>https://api.spotify.com/v1/audio-analysis/7A5z...</td>\n",
       "      <td>0.5460</td>\n",
       "      <td>113853</td>\n",
       "      <td>0.366</td>\n",
       "      <td>7A5zSSX7AAVRhcTmIaKcf6</td>\n",
       "      <td>0.087700</td>\n",
       "      <td>0</td>\n",
       "      <td>0.0568</td>\n",
       "      <td>-9.919</td>\n",
       "      <td>1</td>\n",
       "      <td>When Gloves Come Off (feat. Ryan Beatty)</td>\n",
       "      <td>0</td>\n",
       "      <td>0.0324</td>\n",
       "      <td>83.970</td>\n",
       "      <td>4</td>\n",
       "      <td>https://api.spotify.com/v1/tracks/7A5zSSX7AAVR...</td>\n",
       "      <td>audio_features</td>\n",
       "      <td>spotify:track:7A5zSSX7AAVRhcTmIaKcf6</td>\n",
       "      <td>0.1530</td>\n",
       "    </tr>\n",
       "    <tr>\n",
       "      <th>4659</th>\n",
       "      <td>0.91500</td>\n",
       "      <td>https://api.spotify.com/v1/audio-analysis/5RmA...</td>\n",
       "      <td>0.4270</td>\n",
       "      <td>77327</td>\n",
       "      <td>0.401</td>\n",
       "      <td>5RmAMSIl5JmcygqbSEWshc</td>\n",
       "      <td>0.000002</td>\n",
       "      <td>1</td>\n",
       "      <td>0.4550</td>\n",
       "      <td>-17.269</td>\n",
       "      <td>1</td>\n",
       "      <td>It's In Your Hands (with Mike WiLL Made-It)</td>\n",
       "      <td>35</td>\n",
       "      <td>0.4760</td>\n",
       "      <td>129.282</td>\n",
       "      <td>5</td>\n",
       "      <td>https://api.spotify.com/v1/tracks/5RmAMSIl5Jmc...</td>\n",
       "      <td>audio_features</td>\n",
       "      <td>spotify:track:5RmAMSIl5JmcygqbSEWshc</td>\n",
       "      <td>0.5940</td>\n",
       "    </tr>\n",
       "    <tr>\n",
       "      <th>1302</th>\n",
       "      <td>0.85700</td>\n",
       "      <td>https://api.spotify.com/v1/audio-analysis/1T57...</td>\n",
       "      <td>0.5520</td>\n",
       "      <td>191787</td>\n",
       "      <td>0.371</td>\n",
       "      <td>1T575AhHueYinKSDflEsGK</td>\n",
       "      <td>0.000000</td>\n",
       "      <td>7</td>\n",
       "      <td>0.0838</td>\n",
       "      <td>-9.104</td>\n",
       "      <td>0</td>\n",
       "      <td>Heaven</td>\n",
       "      <td>77</td>\n",
       "      <td>0.0359</td>\n",
       "      <td>199.843</td>\n",
       "      <td>3</td>\n",
       "      <td>https://api.spotify.com/v1/tracks/1T575AhHueYi...</td>\n",
       "      <td>audio_features</td>\n",
       "      <td>spotify:track:1T575AhHueYinKSDflEsGK</td>\n",
       "      <td>0.2450</td>\n",
       "    </tr>\n",
       "    <tr>\n",
       "      <th>5189</th>\n",
       "      <td>0.00261</td>\n",
       "      <td>https://api.spotify.com/v1/audio-analysis/66Mp...</td>\n",
       "      <td>0.7480</td>\n",
       "      <td>190999</td>\n",
       "      <td>0.630</td>\n",
       "      <td>66MpvsWO5O7gy9LjXGFw6I</td>\n",
       "      <td>0.859000</td>\n",
       "      <td>6</td>\n",
       "      <td>0.5320</td>\n",
       "      <td>-7.318</td>\n",
       "      <td>0</td>\n",
       "      <td>Maria También</td>\n",
       "      <td>52</td>\n",
       "      <td>0.0460</td>\n",
       "      <td>103.597</td>\n",
       "      <td>4</td>\n",
       "      <td>https://api.spotify.com/v1/tracks/66MpvsWO5O7g...</td>\n",
       "      <td>audio_features</td>\n",
       "      <td>spotify:track:66MpvsWO5O7gy9LjXGFw6I</td>\n",
       "      <td>0.8460</td>\n",
       "    </tr>\n",
       "  </tbody>\n",
       "</table>\n",
       "</div>"
      ],
      "text/plain": [
       "      acousticness                                       analysis_url  \\\n",
       "4667       0.93100  https://api.spotify.com/v1/audio-analysis/5SMa...   \n",
       "6132       0.04000  https://api.spotify.com/v1/audio-analysis/7A5z...   \n",
       "4659       0.91500  https://api.spotify.com/v1/audio-analysis/5RmA...   \n",
       "1302       0.85700  https://api.spotify.com/v1/audio-analysis/1T57...   \n",
       "5189       0.00261  https://api.spotify.com/v1/audio-analysis/66Mp...   \n",
       "\n",
       "      danceability  duration_ms  energy                      id  \\\n",
       "4667        0.0636       425173   0.141  5SMaPs9KzZSn2tn4VxZbXp   \n",
       "6132        0.5460       113853   0.366  7A5zSSX7AAVRhcTmIaKcf6   \n",
       "4659        0.4270        77327   0.401  5RmAMSIl5JmcygqbSEWshc   \n",
       "1302        0.5520       191787   0.371  1T575AhHueYinKSDflEsGK   \n",
       "5189        0.7480       190999   0.630  66MpvsWO5O7gy9LjXGFw6I   \n",
       "\n",
       "      instrumentalness  key  liveness  loudness  mode  \\\n",
       "4667          0.875000    2    0.0543   -21.424     0   \n",
       "6132          0.087700    0    0.0568    -9.919     1   \n",
       "4659          0.000002    1    0.4550   -17.269     1   \n",
       "1302          0.000000    7    0.0838    -9.104     0   \n",
       "5189          0.859000    6    0.5320    -7.318     0   \n",
       "\n",
       "                                                   name  popularity  \\\n",
       "4667  Chromatic Fantasia & Fugue in D Minor, BWV 903...           0   \n",
       "6132           When Gloves Come Off (feat. Ryan Beatty)           0   \n",
       "4659        It's In Your Hands (with Mike WiLL Made-It)          35   \n",
       "1302                                             Heaven          77   \n",
       "5189                                      Maria También          52   \n",
       "\n",
       "      speechiness    tempo  time_signature  \\\n",
       "4667       0.0370   65.169               5   \n",
       "6132       0.0324   83.970               4   \n",
       "4659       0.4760  129.282               5   \n",
       "1302       0.0359  199.843               3   \n",
       "5189       0.0460  103.597               4   \n",
       "\n",
       "                                             track_href            type  \\\n",
       "4667  https://api.spotify.com/v1/tracks/5SMaPs9KzZSn...  audio_features   \n",
       "6132  https://api.spotify.com/v1/tracks/7A5zSSX7AAVR...  audio_features   \n",
       "4659  https://api.spotify.com/v1/tracks/5RmAMSIl5Jmc...  audio_features   \n",
       "1302  https://api.spotify.com/v1/tracks/1T575AhHueYi...  audio_features   \n",
       "5189  https://api.spotify.com/v1/tracks/66MpvsWO5O7g...  audio_features   \n",
       "\n",
       "                                       uri  valence  \n",
       "4667  spotify:track:5SMaPs9KzZSn2tn4VxZbXp   0.0398  \n",
       "6132  spotify:track:7A5zSSX7AAVRhcTmIaKcf6   0.1530  \n",
       "4659  spotify:track:5RmAMSIl5JmcygqbSEWshc   0.5940  \n",
       "1302  spotify:track:1T575AhHueYinKSDflEsGK   0.2450  \n",
       "5189  spotify:track:66MpvsWO5O7gy9LjXGFw6I   0.8460  "
      ]
     },
     "execution_count": 9,
     "metadata": {},
     "output_type": "execute_result"
    }
   ],
   "source": [
    "data = pd.DataFrame(feats)\n",
    "data = data.sample(frac=1)\n",
    "data.head()"
   ]
  },
  {
   "cell_type": "code",
   "execution_count": 10,
   "metadata": {},
   "outputs": [
    {
     "data": {
      "text/html": [
       "<div>\n",
       "<style>\n",
       "    .dataframe thead tr:only-child th {\n",
       "        text-align: right;\n",
       "    }\n",
       "\n",
       "    .dataframe thead th {\n",
       "        text-align: left;\n",
       "    }\n",
       "\n",
       "    .dataframe tbody tr th {\n",
       "        vertical-align: top;\n",
       "    }\n",
       "</style>\n",
       "<table border=\"1\" class=\"dataframe\">\n",
       "  <thead>\n",
       "    <tr style=\"text-align: right;\">\n",
       "      <th></th>\n",
       "      <th>acousticness</th>\n",
       "      <th>analysis_url</th>\n",
       "      <th>danceability</th>\n",
       "      <th>duration_ms</th>\n",
       "      <th>energy</th>\n",
       "      <th>id</th>\n",
       "      <th>instrumentalness</th>\n",
       "      <th>key</th>\n",
       "      <th>liveness</th>\n",
       "      <th>loudness</th>\n",
       "      <th>mode</th>\n",
       "      <th>name</th>\n",
       "      <th>popularity</th>\n",
       "      <th>speechiness</th>\n",
       "      <th>tempo</th>\n",
       "      <th>time_signature</th>\n",
       "      <th>track_href</th>\n",
       "      <th>type</th>\n",
       "      <th>uri</th>\n",
       "      <th>valence</th>\n",
       "    </tr>\n",
       "  </thead>\n",
       "  <tbody>\n",
       "    <tr>\n",
       "      <th>4230</th>\n",
       "      <td>0.153</td>\n",
       "      <td>https://api.spotify.com/v1/audio-analysis/4w8n...</td>\n",
       "      <td>0.841</td>\n",
       "      <td>212500</td>\n",
       "      <td>0.798</td>\n",
       "      <td>4w8niZpiMy6qz1mntFA5uM</td>\n",
       "      <td>0.000003</td>\n",
       "      <td>1</td>\n",
       "      <td>0.0618</td>\n",
       "      <td>-4.206</td>\n",
       "      <td>0</td>\n",
       "      <td>Taki Taki (with Selena Gomez, Ozuna &amp; Cardi B)</td>\n",
       "      <td>100</td>\n",
       "      <td>0.229</td>\n",
       "      <td>95.948</td>\n",
       "      <td>4</td>\n",
       "      <td>https://api.spotify.com/v1/tracks/4w8niZpiMy6q...</td>\n",
       "      <td>audio_features</td>\n",
       "      <td>spotify:track:4w8niZpiMy6qz1mntFA5uM</td>\n",
       "      <td>0.591</td>\n",
       "    </tr>\n",
       "  </tbody>\n",
       "</table>\n",
       "</div>"
      ],
      "text/plain": [
       "      acousticness                                       analysis_url  \\\n",
       "4230         0.153  https://api.spotify.com/v1/audio-analysis/4w8n...   \n",
       "\n",
       "      danceability  duration_ms  energy                      id  \\\n",
       "4230         0.841       212500   0.798  4w8niZpiMy6qz1mntFA5uM   \n",
       "\n",
       "      instrumentalness  key  liveness  loudness  mode  \\\n",
       "4230          0.000003    1    0.0618    -4.206     0   \n",
       "\n",
       "                                                name  popularity  speechiness  \\\n",
       "4230  Taki Taki (with Selena Gomez, Ozuna & Cardi B)         100        0.229   \n",
       "\n",
       "       tempo  time_signature  \\\n",
       "4230  95.948               4   \n",
       "\n",
       "                                             track_href            type  \\\n",
       "4230  https://api.spotify.com/v1/tracks/4w8niZpiMy6q...  audio_features   \n",
       "\n",
       "                                       uri  valence  \n",
       "4230  spotify:track:4w8niZpiMy6qz1mntFA5uM    0.591  "
      ]
     },
     "execution_count": 10,
     "metadata": {},
     "output_type": "execute_result"
    }
   ],
   "source": [
    "data.loc[data['popularity'] == 100]"
   ]
  },
  {
   "cell_type": "code",
   "execution_count": 11,
   "metadata": {
    "collapsed": true
   },
   "outputs": [],
   "source": [
    "features = [\"acousticness\", \"danceability\", \"energy\", \n",
    "            \"loudness\", \"speechiness\", \"tempo\", \"valence\"]"
   ]
  },
  {
   "cell_type": "code",
   "execution_count": 74,
   "metadata": {},
   "outputs": [
    {
     "name": "stdout",
     "output_type": "stream",
     "text": [
      "Training size: 4680, Dev size: 1003, Test size: 1003\n"
     ]
    }
   ],
   "source": [
    "train, test = train_test_split(data, test_size=0.15)\n",
    "train, dev = train_test_split(train, test_size=0.15/0.85)\n",
    "x_train, y_train = train[features], train[\"popularity\"]\n",
    "x_dev, y_dev = dev[features], dev[\"popularity\"]\n",
    "x_test, y_test = test[features], test[\"popularity\"]\n",
    "print(\"Training size: {}, Dev size: {}, Test size: {}\".format(len(train), len(dev), len(test)))"
   ]
  },
  {
   "cell_type": "markdown",
   "metadata": {},
   "source": [
    "## Baseline (Linear Regression)"
   ]
  },
  {
   "cell_type": "code",
   "execution_count": 77,
   "metadata": {
    "scrolled": true
   },
   "outputs": [
    {
     "data": {
      "text/plain": [
       "LinearRegression(copy_X=True, fit_intercept=True, n_jobs=1, normalize=False)"
      ]
     },
     "execution_count": 77,
     "metadata": {},
     "output_type": "execute_result"
    }
   ],
   "source": [
    "lin_mod = LinearRegression()\n",
    "lin_mod.fit(x_train, y_train)"
   ]
  },
  {
   "cell_type": "code",
   "execution_count": 78,
   "metadata": {},
   "outputs": [
    {
     "name": "stdout",
     "output_type": "stream",
     "text": [
      "Mean Squared Error: 264.54560491582663\n",
      "Variance Score: -2.9277264803277196\n"
     ]
    }
   ],
   "source": [
    "test_preds = lin_mod.predict(x_dev)\n",
    "print(\"Mean Squared Error: {}\".format(mean_squared_error(test_preds, y_dev)))\n",
    "print(\"Variance Score: {}\".format(r2_score(test_preds, y_dev)))"
   ]
  },
  {
   "cell_type": "code",
   "execution_count": 79,
   "metadata": {},
   "outputs": [
    {
     "name": "stdout",
     "output_type": "stream",
     "text": [
      "Model coefficients: {'acousticness': -4.256244455416357, 'danceability': 19.02785078837324, 'energy': -8.928664246824566, 'loudness': 1.2084026691668817, 'speechiness': 1.6451815195810142, 'tempo': 0.00951808423792228, 'valence': -8.472035911365673}\n"
     ]
    }
   ],
   "source": [
    "coeffs = dict(zip(features, lin_mod.coef_))\n",
    "print(\"Model coefficients: {}\".format(coeffs))"
   ]
  },
  {
   "cell_type": "markdown",
   "metadata": {},
   "source": [
    "## SVM "
   ]
  },
  {
   "cell_type": "code",
   "execution_count": 106,
   "metadata": {},
   "outputs": [
    {
     "data": {
      "text/plain": [
       "SVR(C=10, cache_size=200, coef0=0.0, degree=3, epsilon=0.1, gamma='auto',\n",
       "  kernel='rbf', max_iter=-1, shrinking=True, tol=0.001, verbose=False)"
      ]
     },
     "execution_count": 106,
     "metadata": {},
     "output_type": "execute_result"
    }
   ],
   "source": [
    "svr = SVR(C=10)\n",
    "svr.fit(x_train, y_train)"
   ]
  },
  {
   "cell_type": "code",
   "execution_count": 107,
   "metadata": {},
   "outputs": [
    {
     "name": "stdout",
     "output_type": "stream",
     "text": [
      "SVM Mean Squared Error: 282.99060002367867\n",
      "SVM Variance Score: -3.815553095725516\n"
     ]
    }
   ],
   "source": [
    "test_preds = svr.predict(x_dev)\n",
    "print(\"SVM Mean Squared Error: {}\".format(mean_squared_error(test_preds, y_dev)))\n",
    "print(\"SVM Variance Score: {}\".format(r2_score(test_preds, y_dev)))"
   ]
  },
  {
   "cell_type": "markdown",
   "metadata": {},
   "source": [
    "## Random Forest"
   ]
  },
  {
   "cell_type": "code",
   "execution_count": 100,
   "metadata": {},
   "outputs": [
    {
     "data": {
      "text/plain": [
       "RandomForestRegressor(bootstrap=True, criterion='mse', max_depth=None,\n",
       "           max_features='auto', max_leaf_nodes=None,\n",
       "           min_impurity_decrease=0.0, min_impurity_split=None,\n",
       "           min_samples_leaf=1, min_samples_split=2,\n",
       "           min_weight_fraction_leaf=0.0, n_estimators=200, n_jobs=1,\n",
       "           oob_score=False, random_state=0, verbose=0, warm_start=False)"
      ]
     },
     "execution_count": 100,
     "metadata": {},
     "output_type": "execute_result"
    }
   ],
   "source": [
    "random_forest = RandomForestRegressor(n_estimators=200, random_state=0)\n",
    "random_forest.fit(x_train, y_train)"
   ]
  },
  {
   "cell_type": "code",
   "execution_count": 101,
   "metadata": {},
   "outputs": [
    {
     "name": "stdout",
     "output_type": "stream",
     "text": [
      "Random Forest Mean Squared Error: 249.93412774166785\n",
      "Random Forest Variance Score: -1.2559222323881345\n"
     ]
    }
   ],
   "source": [
    "test_preds = random_forest.predict(x_dev)\n",
    "print(\"Random Forest Mean Squared Error: {}\".format(mean_squared_error(test_preds, y_dev)))\n",
    "print(\"Random Forest Variance Score: {}\".format(r2_score(test_preds, y_dev)))"
   ]
  },
  {
   "cell_type": "markdown",
   "metadata": {},
   "source": [
    "## Gradient Boosting Regressor"
   ]
  },
  {
   "cell_type": "code",
   "execution_count": 122,
   "metadata": {},
   "outputs": [
    {
     "data": {
      "text/plain": [
       "GradientBoostingRegressor(alpha=0.9, criterion='friedman_mse', init=None,\n",
       "             learning_rate=0.1, loss='ls', max_depth=3, max_features=None,\n",
       "             max_leaf_nodes=None, min_impurity_decrease=0.0,\n",
       "             min_impurity_split=None, min_samples_leaf=1,\n",
       "             min_samples_split=2, min_weight_fraction_leaf=0.0,\n",
       "             n_estimators=100, presort='auto', random_state=0,\n",
       "             subsample=1.0, verbose=0, warm_start=False)"
      ]
     },
     "execution_count": 122,
     "metadata": {},
     "output_type": "execute_result"
    }
   ],
   "source": [
    "gbr = GradientBoostingRegressor(n_estimators=100, learning_rate=0.1, random_state=0)\n",
    "gbr.fit(x_train, y_train)"
   ]
  },
  {
   "cell_type": "code",
   "execution_count": 123,
   "metadata": {},
   "outputs": [
    {
     "name": "stdout",
     "output_type": "stream",
     "text": [
      "Gradient Boosting Regressor Mean Squared Error: 243.69838709989756\n",
      "Gradient Boosting Regressor Variance Score: -1.7998061602929498\n"
     ]
    }
   ],
   "source": [
    "test_preds = gbr.predict(x_dev)\n",
    "print(\"Gradient Boosting Regressor Mean Squared Error: {}\".format(mean_squared_error(test_preds, y_dev)))\n",
    "print(\"Gradient Boosting Regressor Variance Score: {}\".format(r2_score(test_preds, y_dev)))"
   ]
  },
  {
   "cell_type": "code",
   "execution_count": null,
   "metadata": {
    "collapsed": true
   },
   "outputs": [],
   "source": []
  },
  {
   "cell_type": "code",
   "execution_count": null,
   "metadata": {
    "collapsed": true
   },
   "outputs": [],
   "source": []
  }
 ],
 "metadata": {
  "kernelspec": {
   "display_name": "Python 3",
   "language": "python",
   "name": "python3"
  },
  "language_info": {
   "codemirror_mode": {
    "name": "ipython",
    "version": 3
   },
   "file_extension": ".py",
   "mimetype": "text/x-python",
   "name": "python",
   "nbconvert_exporter": "python",
   "pygments_lexer": "ipython3",
   "version": "3.6.2"
  }
 },
 "nbformat": 4,
 "nbformat_minor": 2
}
